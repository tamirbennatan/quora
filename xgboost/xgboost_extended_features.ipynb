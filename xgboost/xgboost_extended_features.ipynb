{
 "cells": [
  {
   "cell_type": "code",
   "execution_count": 104,
   "metadata": {
    "collapsed": false
   },
   "outputs": [],
   "source": [
    "# %matplotlib inline\n",
    "\n",
    "# # import matplotlib.pyplot as plt\n",
    "# from matplotlib.pylab import rcParams\n",
    "# rcParams['figure.figsize'] = 12, 4\n",
    "\n",
    "\n",
    "# import pandas as pd\n",
    "# import numpy as np\n",
    "# import xgboost as xgb\n",
    "# from xgboost.sklearn import XGBClassifier\n",
    "\n",
    "# from sklearn.preprocessing import LabelEncoder\n",
    "# from sklearn.model_selection import train_test_split\n",
    "# from sklearn.grid_search import GridSearchCV  \n",
    "from sklearn.metrics import accuracy_score\n",
    "\n",
    "\n",
    "\n",
    "# from keras.preprocessing.text import Tokenizer\n",
    "# from keras.preprocessing.text import one_hot\n",
    "# from keras.preprocessing.sequence import pad_sequences\n",
    "\n",
    "# from keras.models import Sequential\n",
    "# from keras.models import load_model\n",
    "# from keras.layers import Dense\n",
    "# from keras.layers import Flatten\n",
    "# from keras.layers import Embedding\n",
    "# from keras.layers import LSTM\n",
    "# from keras.layers import Dropout\n",
    "\n",
    "# import pickle as pkl\n",
    "\n",
    "# import h5py"
   ]
  },
  {
   "cell_type": "markdown",
   "metadata": {},
   "source": [
    "## XGBoost with extended features\n",
    "\n",
    "Previously, I trained an extremely boosted trees model for the Quora data problem. After parameter tuning using cross validation, I achieved a model with 78.4 test prediction accuracy. \n",
    "\n",
    "I also fit a set of deep neural networks on the `TREC` dataset, for the auxilliary purpose of question classification. As the data was too small to properly split the training data into a training and developement sets, I can't tell which of these models is most effective. \n",
    "\n",
    "In this notebook, I will train a series of XGBoost models again, with the same hyperparameters as my previous XGBoost model, but this time I will include the predictions of my question classication networks as features. To determine which network to use to create these predictions, I will use a 3-fold cross validation scheme. \n",
    "\n",
    "When I have picked the network I'd like to use, I will train the model using the corresponding predictions, and see if my test set accuracy increases. If so, then that will show that the information encoded in the question classification predictions is meaningful for this problem. "
   ]
  },
  {
   "cell_type": "markdown",
   "metadata": {},
   "source": [
    "### 0. Load the quora data\n",
    "\n",
    "I've already done a lot of feature extractions. I'll use all the same features as in my previous XGBoost model, plus the extra linguistic features we are testing. "
   ]
  },
  {
   "cell_type": "code",
   "execution_count": 4,
   "metadata": {
    "collapsed": true
   },
   "outputs": [],
   "source": [
    "data = pd.read_csv(\"../data/features.csv\")"
   ]
  },
  {
   "cell_type": "code",
   "execution_count": 5,
   "metadata": {
    "collapsed": false
   },
   "outputs": [
    {
     "data": {
      "text/html": [
       "<div>\n",
       "<table border=\"1\" class=\"dataframe\">\n",
       "  <thead>\n",
       "    <tr style=\"text-align: right;\">\n",
       "      <th></th>\n",
       "      <th>Unnamed: 0</th>\n",
       "      <th>id</th>\n",
       "      <th>qid1</th>\n",
       "      <th>qid2</th>\n",
       "      <th>question1</th>\n",
       "      <th>question2</th>\n",
       "      <th>is_duplicate</th>\n",
       "      <th>len_intersection</th>\n",
       "      <th>len_intersection_sw</th>\n",
       "      <th>num_words_q1</th>\n",
       "      <th>...</th>\n",
       "      <th>cosine_distance_sentence_embeddings</th>\n",
       "      <th>cityblock_distance_sentence_embeddings</th>\n",
       "      <th>jaccard_distance_sentence_embeddings</th>\n",
       "      <th>braycurtis_distance_sentence_embeddings</th>\n",
       "      <th>q1_highest_tfidf_weight</th>\n",
       "      <th>q2_highest_tfidf_weight</th>\n",
       "      <th>q1_max_tf_idf_embedding</th>\n",
       "      <th>q2_max_tf_idf_embedding</th>\n",
       "      <th>euclidean_distance_max_tfidf_word</th>\n",
       "      <th>cosine_distance_max_tfidf_word</th>\n",
       "    </tr>\n",
       "  </thead>\n",
       "  <tbody>\n",
       "    <tr>\n",
       "      <th>0</th>\n",
       "      <td>1</td>\n",
       "      <td>0</td>\n",
       "      <td>1</td>\n",
       "      <td>2</td>\n",
       "      <td>What is the step by step guide to invest in sh...</td>\n",
       "      <td>What is the step by step guide to invest in sh...</td>\n",
       "      <td>0</td>\n",
       "      <td>10</td>\n",
       "      <td>5</td>\n",
       "      <td>14</td>\n",
       "      <td>...</td>\n",
       "      <td>0.004921</td>\n",
       "      <td>3.938651</td>\n",
       "      <td>1.0</td>\n",
       "      <td>0.049871</td>\n",
       "      <td>guide</td>\n",
       "      <td>guide</td>\n",
       "      <td>[-0.028461   -0.34314999  0.23021001 -0.063865...</td>\n",
       "      <td>[-0.028461   -0.34314999  0.23021001 -0.063865...</td>\n",
       "      <td>0.000000</td>\n",
       "      <td>3.250036e-08</td>\n",
       "    </tr>\n",
       "    <tr>\n",
       "      <th>1</th>\n",
       "      <td>2</td>\n",
       "      <td>1</td>\n",
       "      <td>3</td>\n",
       "      <td>4</td>\n",
       "      <td>What is the story of Kohinoor Koh - i - Noor D...</td>\n",
       "      <td>What would happen if the Indian government sto...</td>\n",
       "      <td>0</td>\n",
       "      <td>2</td>\n",
       "      <td>0</td>\n",
       "      <td>10</td>\n",
       "      <td>...</td>\n",
       "      <td>0.027946</td>\n",
       "      <td>10.689272</td>\n",
       "      <td>1.0</td>\n",
       "      <td>0.129334</td>\n",
       "      <td>noor</td>\n",
       "      <td>noor</td>\n",
       "      <td>[  3.72870006e-02  -3.17849994e-01  -2.3973000...</td>\n",
       "      <td>[  3.72870006e-02  -3.17849994e-01  -2.3973000...</td>\n",
       "      <td>0.000000</td>\n",
       "      <td>4.103800e-08</td>\n",
       "    </tr>\n",
       "    <tr>\n",
       "      <th>2</th>\n",
       "      <td>3</td>\n",
       "      <td>2</td>\n",
       "      <td>5</td>\n",
       "      <td>6</td>\n",
       "      <td>How can I increase the speed of my internet co...</td>\n",
       "      <td>How can Internet speed be increased by hacking...</td>\n",
       "      <td>0</td>\n",
       "      <td>3</td>\n",
       "      <td>2</td>\n",
       "      <td>14</td>\n",
       "      <td>...</td>\n",
       "      <td>0.010569</td>\n",
       "      <td>5.988954</td>\n",
       "      <td>1.0</td>\n",
       "      <td>0.075329</td>\n",
       "      <td>vpn</td>\n",
       "      <td>dns</td>\n",
       "      <td>[-0.14387     0.66254002 -0.23895     0.036253...</td>\n",
       "      <td>[ -4.19200003e-01   5.06489992e-01  -3.4162998...</td>\n",
       "      <td>5.495713</td>\n",
       "      <td>4.284846e-01</td>\n",
       "    </tr>\n",
       "    <tr>\n",
       "      <th>3</th>\n",
       "      <td>4</td>\n",
       "      <td>3</td>\n",
       "      <td>7</td>\n",
       "      <td>8</td>\n",
       "      <td>Why am I mentally very lonely ? How can I solv...</td>\n",
       "      <td>Find the remainder when math 23 24 math is div...</td>\n",
       "      <td>0</td>\n",
       "      <td>0</td>\n",
       "      <td>0</td>\n",
       "      <td>11</td>\n",
       "      <td>...</td>\n",
       "      <td>0.065936</td>\n",
       "      <td>15.007527</td>\n",
       "      <td>1.0</td>\n",
       "      <td>0.184240</td>\n",
       "      <td>mentally</td>\n",
       "      <td>remainder</td>\n",
       "      <td>[ -1.92690000e-01  -3.28700006e-01  -4.2276001...</td>\n",
       "      <td>[-0.39732999 -0.13798     0.21100999  0.237990...</td>\n",
       "      <td>4.781672</td>\n",
       "      <td>8.190252e-01</td>\n",
       "    </tr>\n",
       "    <tr>\n",
       "      <th>4</th>\n",
       "      <td>5</td>\n",
       "      <td>4</td>\n",
       "      <td>9</td>\n",
       "      <td>10</td>\n",
       "      <td>Which one dissolve in water quickly sugar , sa...</td>\n",
       "      <td>Which fish would survive in salt water ?</td>\n",
       "      <td>0</td>\n",
       "      <td>3</td>\n",
       "      <td>2</td>\n",
       "      <td>13</td>\n",
       "      <td>...</td>\n",
       "      <td>0.038453</td>\n",
       "      <td>11.145288</td>\n",
       "      <td>1.0</td>\n",
       "      <td>0.142762</td>\n",
       "      <td>di</td>\n",
       "      <td>salt</td>\n",
       "      <td>[ -1.13650002e-01  -3.47779989e-02   8.1817999...</td>\n",
       "      <td>[-0.064408   -0.073121   -0.25946999  0.15424 ...</td>\n",
       "      <td>6.219034</td>\n",
       "      <td>8.441631e-01</td>\n",
       "    </tr>\n",
       "  </tbody>\n",
       "</table>\n",
       "<p>5 rows × 46 columns</p>\n",
       "</div>"
      ],
      "text/plain": [
       "   Unnamed: 0  id  qid1  qid2  \\\n",
       "0           1   0     1     2   \n",
       "1           2   1     3     4   \n",
       "2           3   2     5     6   \n",
       "3           4   3     7     8   \n",
       "4           5   4     9    10   \n",
       "\n",
       "                                           question1  \\\n",
       "0  What is the step by step guide to invest in sh...   \n",
       "1  What is the story of Kohinoor Koh - i - Noor D...   \n",
       "2  How can I increase the speed of my internet co...   \n",
       "3  Why am I mentally very lonely ? How can I solv...   \n",
       "4  Which one dissolve in water quickly sugar , sa...   \n",
       "\n",
       "                                           question2  is_duplicate  \\\n",
       "0  What is the step by step guide to invest in sh...             0   \n",
       "1  What would happen if the Indian government sto...             0   \n",
       "2  How can Internet speed be increased by hacking...             0   \n",
       "3  Find the remainder when math 23 24 math is div...             0   \n",
       "4          Which fish would survive in salt water ?              0   \n",
       "\n",
       "   len_intersection  len_intersection_sw  num_words_q1  \\\n",
       "0                10                    5            14   \n",
       "1                 2                    0            10   \n",
       "2                 3                    2            14   \n",
       "3                 0                    0            11   \n",
       "4                 3                    2            13   \n",
       "\n",
       "                ...                cosine_distance_sentence_embeddings  \\\n",
       "0               ...                                           0.004921   \n",
       "1               ...                                           0.027946   \n",
       "2               ...                                           0.010569   \n",
       "3               ...                                           0.065936   \n",
       "4               ...                                           0.038453   \n",
       "\n",
       "   cityblock_distance_sentence_embeddings  \\\n",
       "0                                3.938651   \n",
       "1                               10.689272   \n",
       "2                                5.988954   \n",
       "3                               15.007527   \n",
       "4                               11.145288   \n",
       "\n",
       "   jaccard_distance_sentence_embeddings  \\\n",
       "0                                   1.0   \n",
       "1                                   1.0   \n",
       "2                                   1.0   \n",
       "3                                   1.0   \n",
       "4                                   1.0   \n",
       "\n",
       "   braycurtis_distance_sentence_embeddings  q1_highest_tfidf_weight  \\\n",
       "0                                 0.049871                    guide   \n",
       "1                                 0.129334                     noor   \n",
       "2                                 0.075329                      vpn   \n",
       "3                                 0.184240                 mentally   \n",
       "4                                 0.142762                       di   \n",
       "\n",
       "   q2_highest_tfidf_weight                            q1_max_tf_idf_embedding  \\\n",
       "0                    guide  [-0.028461   -0.34314999  0.23021001 -0.063865...   \n",
       "1                     noor  [  3.72870006e-02  -3.17849994e-01  -2.3973000...   \n",
       "2                      dns  [-0.14387     0.66254002 -0.23895     0.036253...   \n",
       "3                remainder  [ -1.92690000e-01  -3.28700006e-01  -4.2276001...   \n",
       "4                     salt  [ -1.13650002e-01  -3.47779989e-02   8.1817999...   \n",
       "\n",
       "                             q2_max_tf_idf_embedding  \\\n",
       "0  [-0.028461   -0.34314999  0.23021001 -0.063865...   \n",
       "1  [  3.72870006e-02  -3.17849994e-01  -2.3973000...   \n",
       "2  [ -4.19200003e-01   5.06489992e-01  -3.4162998...   \n",
       "3  [-0.39732999 -0.13798     0.21100999  0.237990...   \n",
       "4  [-0.064408   -0.073121   -0.25946999  0.15424 ...   \n",
       "\n",
       "   euclidean_distance_max_tfidf_word  cosine_distance_max_tfidf_word  \n",
       "0                           0.000000                    3.250036e-08  \n",
       "1                           0.000000                    4.103800e-08  \n",
       "2                           5.495713                    4.284846e-01  \n",
       "3                           4.781672                    8.190252e-01  \n",
       "4                           6.219034                    8.441631e-01  \n",
       "\n",
       "[5 rows x 46 columns]"
      ]
     },
     "execution_count": 5,
     "metadata": {},
     "output_type": "execute_result"
    }
   ],
   "source": [
    "data.head()"
   ]
  },
  {
   "cell_type": "markdown",
   "metadata": {},
   "source": [
    "#####  0.1: HACKY FIX!!!\n",
    "\n",
    "I found an issue in one of my features, `cosine_distance_max_tfidf_word`, a while ago. This feature is the cosine distance of the word embeddings of the words of highest TF-Idf weight in each sentence. \n",
    "\n",
    "If either of these words is not in the embedding model, then Is ent it to the origin. The cosine distance between any vector and zero is `NA` (division by the norm of zero). \n",
    "\n",
    "I fixed this issue in the notebook `features.ipynb`, where it should be fixed. I just never re-wrote the csv file, since tis takes a long time. \n",
    "\n",
    "I really should go back and re-write this file. But for now, I'll just re-fix these features. "
   ]
  },
  {
   "cell_type": "code",
   "execution_count": 6,
   "metadata": {
    "collapsed": true
   },
   "outputs": [],
   "source": [
    "# quick fix - fixed on the features notebook but did not re-save data yet\n",
    "\n",
    "fill = data[pd.isnull(data['cosine_distance_max_tfidf_word'])].apply(lambda x: 0 if\n",
    "                        np.array_equal(x['q1_max_tf_idf_embedding'], x['q2_max_tf_idf_embedding'])  \n",
    "                        else 1, axis = 1)\n",
    "\n",
    "data['cosine_distance_max_tfidf_word'] = data['cosine_distance_max_tfidf_word'].fillna(fill)"
   ]
  },
  {
   "cell_type": "code",
   "execution_count": 7,
   "metadata": {
    "collapsed": true
   },
   "outputs": [],
   "source": [
    "fill = data[pd.isnull(data['cosine_distance_sentence_embeddings'])].apply(lambda x: 0 if\n",
    "                        np.array_equal(x['q1_embedding'], x['q2_embedding'])  \n",
    "                        else 1, axis = 1)\n",
    "\n",
    "if len(fill) > 0:\n",
    "    data['cosine_distance_sentence_embeddings'] = data['cosine_distance_sentence_embeddings'].fillna(fill)"
   ]
  },
  {
   "cell_type": "markdown",
   "metadata": {},
   "source": [
    "#### 0.2 Loading the sentence Tokenizer\n",
    "\n",
    "This will allow me to encode the quesions into index vectors in a way which is consistent with the the vectors with which the deep learning models were trained. \n",
    "\n"
   ]
  },
  {
   "cell_type": "code",
   "execution_count": 13,
   "metadata": {
    "collapsed": false
   },
   "outputs": [],
   "source": [
    "# load pickled word tokenzier\n",
    "with open(\"../models/tokenizer.pickle\", \"rb\") as handle:\n",
    "    tokenizer = pkl.load(handle)"
   ]
  },
  {
   "cell_type": "markdown",
   "metadata": {},
   "source": [
    "#### 0.3 Load the label encoder\n",
    "\n",
    "This will be used to convert question labels to one-hot encoding and back. "
   ]
  },
  {
   "cell_type": "code",
   "execution_count": 16,
   "metadata": {
    "collapsed": true
   },
   "outputs": [],
   "source": [
    "with open(\"../models/trec_label_encoder.pickle\", \"rb\") as handle:\n",
    "    label_encoder = pkl.load(handle)"
   ]
  },
  {
   "cell_type": "markdown",
   "metadata": {},
   "source": [
    "#### 0.4 Setting aside a sample\n",
    "\n",
    "I like to set aside a small sample, for experimentation. "
   ]
  },
  {
   "cell_type": "code",
   "execution_count": 47,
   "metadata": {
    "collapsed": true
   },
   "outputs": [],
   "source": [
    "data_sample = data.sample(n = 100)"
   ]
  },
  {
   "cell_type": "code",
   "execution_count": 48,
   "metadata": {
    "collapsed": false
   },
   "outputs": [
    {
     "data": {
      "text/html": [
       "<div>\n",
       "<table border=\"1\" class=\"dataframe\">\n",
       "  <thead>\n",
       "    <tr style=\"text-align: right;\">\n",
       "      <th></th>\n",
       "      <th>Unnamed: 0</th>\n",
       "      <th>id</th>\n",
       "      <th>qid1</th>\n",
       "      <th>qid2</th>\n",
       "      <th>question1</th>\n",
       "      <th>question2</th>\n",
       "      <th>is_duplicate</th>\n",
       "      <th>len_intersection</th>\n",
       "      <th>len_intersection_sw</th>\n",
       "      <th>num_words_q1</th>\n",
       "      <th>...</th>\n",
       "      <th>cosine_distance_sentence_embeddings</th>\n",
       "      <th>cityblock_distance_sentence_embeddings</th>\n",
       "      <th>jaccard_distance_sentence_embeddings</th>\n",
       "      <th>braycurtis_distance_sentence_embeddings</th>\n",
       "      <th>q1_highest_tfidf_weight</th>\n",
       "      <th>q2_highest_tfidf_weight</th>\n",
       "      <th>q1_max_tf_idf_embedding</th>\n",
       "      <th>q2_max_tf_idf_embedding</th>\n",
       "      <th>euclidean_distance_max_tfidf_word</th>\n",
       "      <th>cosine_distance_max_tfidf_word</th>\n",
       "    </tr>\n",
       "  </thead>\n",
       "  <tbody>\n",
       "    <tr>\n",
       "      <th>49241</th>\n",
       "      <td>49242</td>\n",
       "      <td>49241</td>\n",
       "      <td>87661</td>\n",
       "      <td>87662</td>\n",
       "      <td>Which site is better for beginners ? Codecadem...</td>\n",
       "      <td>Is there a place where I can find Code . org b...</td>\n",
       "      <td>0</td>\n",
       "      <td>4</td>\n",
       "      <td>2</td>\n",
       "      <td>10</td>\n",
       "      <td>...</td>\n",
       "      <td>1.760358e-02</td>\n",
       "      <td>7.614886</td>\n",
       "      <td>1.0</td>\n",
       "      <td>0.094431</td>\n",
       "      <td>codecademy</td>\n",
       "      <td>org</td>\n",
       "      <td>[-0.030966    0.025939    0.12484    -0.003795...</td>\n",
       "      <td>[-0.028964   -0.21531001  0.25343999  0.40715 ...</td>\n",
       "      <td>5.990677</td>\n",
       "      <td>6.220136e-01</td>\n",
       "    </tr>\n",
       "    <tr>\n",
       "      <th>51908</th>\n",
       "      <td>51909</td>\n",
       "      <td>51908</td>\n",
       "      <td>12525</td>\n",
       "      <td>25987</td>\n",
       "      <td>What's your new year resolution do or not to d...</td>\n",
       "      <td>What are your New Year's resolutions ?</td>\n",
       "      <td>0</td>\n",
       "      <td>2</td>\n",
       "      <td>1</td>\n",
       "      <td>10</td>\n",
       "      <td>...</td>\n",
       "      <td>4.475535e-03</td>\n",
       "      <td>3.898144</td>\n",
       "      <td>1.0</td>\n",
       "      <td>0.047529</td>\n",
       "      <td>resolution</td>\n",
       "      <td>resolutions</td>\n",
       "      <td>[-0.30627999  0.44942001  0.48462999  0.10012 ...</td>\n",
       "      <td>[ -1.66789994e-01   2.28569999e-01   4.0926998...</td>\n",
       "      <td>3.311435</td>\n",
       "      <td>2.032034e-01</td>\n",
       "    </tr>\n",
       "    <tr>\n",
       "      <th>154612</th>\n",
       "      <td>154613</td>\n",
       "      <td>154613</td>\n",
       "      <td>242418</td>\n",
       "      <td>242419</td>\n",
       "      <td>Is russia still even a superpower ?</td>\n",
       "      <td>How is Russia a superpower ?</td>\n",
       "      <td>0</td>\n",
       "      <td>3</td>\n",
       "      <td>2</td>\n",
       "      <td>6</td>\n",
       "      <td>...</td>\n",
       "      <td>3.666881e-02</td>\n",
       "      <td>11.194204</td>\n",
       "      <td>1.0</td>\n",
       "      <td>0.138381</td>\n",
       "      <td>superpower</td>\n",
       "      <td>superpower</td>\n",
       "      <td>[ -4.03070003e-02   1.22460000e-01  -1.9383999...</td>\n",
       "      <td>[ -4.03070003e-02   1.22460000e-01  -1.9383999...</td>\n",
       "      <td>0.000000</td>\n",
       "      <td>3.285836e-08</td>\n",
       "    </tr>\n",
       "    <tr>\n",
       "      <th>313806</th>\n",
       "      <td>313807</td>\n",
       "      <td>313808</td>\n",
       "      <td>9661</td>\n",
       "      <td>71824</td>\n",
       "      <td>What are your new year resolutions'2017 ?</td>\n",
       "      <td>What are your New Year's resolutions ?</td>\n",
       "      <td>1</td>\n",
       "      <td>3</td>\n",
       "      <td>1</td>\n",
       "      <td>6</td>\n",
       "      <td>...</td>\n",
       "      <td>1.110224e-08</td>\n",
       "      <td>0.000000</td>\n",
       "      <td>0.0</td>\n",
       "      <td>0.000000</td>\n",
       "      <td>year</td>\n",
       "      <td>resolutions</td>\n",
       "      <td>[ -1.08280003e-01  -1.92519993e-01   2.6745000...</td>\n",
       "      <td>[ -1.66789994e-01   2.28569999e-01   4.0926998...</td>\n",
       "      <td>5.887889</td>\n",
       "      <td>8.971750e-01</td>\n",
       "    </tr>\n",
       "    <tr>\n",
       "      <th>319962</th>\n",
       "      <td>319963</td>\n",
       "      <td>319964</td>\n",
       "      <td>445458</td>\n",
       "      <td>445459</td>\n",
       "      <td>How was the Diablo 3 economy similar to the Di...</td>\n",
       "      <td>Do I need to play Diablo 1 before playing Diab...</td>\n",
       "      <td>0</td>\n",
       "      <td>2</td>\n",
       "      <td>1</td>\n",
       "      <td>16</td>\n",
       "      <td>...</td>\n",
       "      <td>5.858342e-02</td>\n",
       "      <td>14.024782</td>\n",
       "      <td>1.0</td>\n",
       "      <td>0.174887</td>\n",
       "      <td>diablo</td>\n",
       "      <td>diablo</td>\n",
       "      <td>[ -5.02839983e-02   6.13270001e-03  -2.7682998...</td>\n",
       "      <td>[ -5.02839983e-02   6.13270001e-03  -2.7682998...</td>\n",
       "      <td>0.000000</td>\n",
       "      <td>-3.917705e-08</td>\n",
       "    </tr>\n",
       "  </tbody>\n",
       "</table>\n",
       "<p>5 rows × 46 columns</p>\n",
       "</div>"
      ],
      "text/plain": [
       "        Unnamed: 0      id    qid1    qid2  \\\n",
       "49241        49242   49241   87661   87662   \n",
       "51908        51909   51908   12525   25987   \n",
       "154612      154613  154613  242418  242419   \n",
       "313806      313807  313808    9661   71824   \n",
       "319962      319963  319964  445458  445459   \n",
       "\n",
       "                                                question1  \\\n",
       "49241   Which site is better for beginners ? Codecadem...   \n",
       "51908   What's your new year resolution do or not to d...   \n",
       "154612               Is russia still even a superpower ?    \n",
       "313806         What are your new year resolutions'2017 ?    \n",
       "319962  How was the Diablo 3 economy similar to the Di...   \n",
       "\n",
       "                                                question2  is_duplicate  \\\n",
       "49241   Is there a place where I can find Code . org b...             0   \n",
       "51908             What are your New Year's resolutions ?              0   \n",
       "154612                      How is Russia a superpower ?              0   \n",
       "313806            What are your New Year's resolutions ?              1   \n",
       "319962  Do I need to play Diablo 1 before playing Diab...             0   \n",
       "\n",
       "        len_intersection  len_intersection_sw  num_words_q1  \\\n",
       "49241                  4                    2            10   \n",
       "51908                  2                    1            10   \n",
       "154612                 3                    2             6   \n",
       "313806                 3                    1             6   \n",
       "319962                 2                    1            16   \n",
       "\n",
       "                     ...                cosine_distance_sentence_embeddings  \\\n",
       "49241                ...                                       1.760358e-02   \n",
       "51908                ...                                       4.475535e-03   \n",
       "154612               ...                                       3.666881e-02   \n",
       "313806               ...                                       1.110224e-08   \n",
       "319962               ...                                       5.858342e-02   \n",
       "\n",
       "        cityblock_distance_sentence_embeddings  \\\n",
       "49241                                 7.614886   \n",
       "51908                                 3.898144   \n",
       "154612                               11.194204   \n",
       "313806                                0.000000   \n",
       "319962                               14.024782   \n",
       "\n",
       "        jaccard_distance_sentence_embeddings  \\\n",
       "49241                                    1.0   \n",
       "51908                                    1.0   \n",
       "154612                                   1.0   \n",
       "313806                                   0.0   \n",
       "319962                                   1.0   \n",
       "\n",
       "        braycurtis_distance_sentence_embeddings  q1_highest_tfidf_weight  \\\n",
       "49241                                  0.094431               codecademy   \n",
       "51908                                  0.047529               resolution   \n",
       "154612                                 0.138381               superpower   \n",
       "313806                                 0.000000                     year   \n",
       "319962                                 0.174887                   diablo   \n",
       "\n",
       "        q2_highest_tfidf_weight  \\\n",
       "49241                       org   \n",
       "51908               resolutions   \n",
       "154612               superpower   \n",
       "313806              resolutions   \n",
       "319962                   diablo   \n",
       "\n",
       "                                  q1_max_tf_idf_embedding  \\\n",
       "49241   [-0.030966    0.025939    0.12484    -0.003795...   \n",
       "51908   [-0.30627999  0.44942001  0.48462999  0.10012 ...   \n",
       "154612  [ -4.03070003e-02   1.22460000e-01  -1.9383999...   \n",
       "313806  [ -1.08280003e-01  -1.92519993e-01   2.6745000...   \n",
       "319962  [ -5.02839983e-02   6.13270001e-03  -2.7682998...   \n",
       "\n",
       "                                  q2_max_tf_idf_embedding  \\\n",
       "49241   [-0.028964   -0.21531001  0.25343999  0.40715 ...   \n",
       "51908   [ -1.66789994e-01   2.28569999e-01   4.0926998...   \n",
       "154612  [ -4.03070003e-02   1.22460000e-01  -1.9383999...   \n",
       "313806  [ -1.66789994e-01   2.28569999e-01   4.0926998...   \n",
       "319962  [ -5.02839983e-02   6.13270001e-03  -2.7682998...   \n",
       "\n",
       "        euclidean_distance_max_tfidf_word  cosine_distance_max_tfidf_word  \n",
       "49241                            5.990677                    6.220136e-01  \n",
       "51908                            3.311435                    2.032034e-01  \n",
       "154612                           0.000000                    3.285836e-08  \n",
       "313806                           5.887889                    8.971750e-01  \n",
       "319962                           0.000000                   -3.917705e-08  \n",
       "\n",
       "[5 rows x 46 columns]"
      ]
     },
     "execution_count": 48,
     "metadata": {},
     "output_type": "execute_result"
    }
   ],
   "source": [
    "data_sample.head()"
   ]
  },
  {
   "cell_type": "markdown",
   "metadata": {},
   "source": [
    "### 1. Load the LSTM models trained on the `TREC` data\n",
    "\n",
    "See the file `/models/model_descriptions.txt` for a description of the different archetectures of these models"
   ]
  },
  {
   "cell_type": "markdown",
   "metadata": {},
   "source": [
    "#### 1.0 First LSTM"
   ]
  },
  {
   "cell_type": "code",
   "execution_count": 21,
   "metadata": {
    "collapsed": true
   },
   "outputs": [],
   "source": [
    "trec_lstm1 = load_model(\"../models/trec_lstm1.h5\")"
   ]
  },
  {
   "cell_type": "code",
   "execution_count": 22,
   "metadata": {
    "collapsed": false
   },
   "outputs": [
    {
     "name": "stdout",
     "output_type": "stream",
     "text": [
      "_________________________________________________________________\n",
      "Layer (type)                 Output Shape              Param #   \n",
      "=================================================================\n",
      "embedding_6 (Embedding)      (None, 10, 300)           27978300  \n",
      "_________________________________________________________________\n",
      "dropout_5 (Dropout)          (None, 10, 300)           0         \n",
      "_________________________________________________________________\n",
      "lstm_7 (LSTM)                (None, 50)                70200     \n",
      "_________________________________________________________________\n",
      "dropout_6 (Dropout)          (None, 50)                0         \n",
      "_________________________________________________________________\n",
      "dense_4 (Dense)              (None, 6)                 306       \n",
      "=================================================================\n",
      "Total params: 28,048,806\n",
      "Trainable params: 70,506\n",
      "Non-trainable params: 27,978,300\n",
      "_________________________________________________________________\n"
     ]
    }
   ],
   "source": [
    "trec_lstm1.summary()"
   ]
  },
  {
   "cell_type": "markdown",
   "metadata": {},
   "source": [
    "#### 1.1 Second LSTM"
   ]
  },
  {
   "cell_type": "code",
   "execution_count": 26,
   "metadata": {
    "collapsed": false
   },
   "outputs": [],
   "source": [
    "trec_lstm2 = load_model(\"../models/trec_lstm2.h5\")"
   ]
  },
  {
   "cell_type": "code",
   "execution_count": 27,
   "metadata": {
    "collapsed": false
   },
   "outputs": [
    {
     "name": "stdout",
     "output_type": "stream",
     "text": [
      "_________________________________________________________________\n",
      "Layer (type)                 Output Shape              Param #   \n",
      "=================================================================\n",
      "embedding_8 (Embedding)      (None, 10, 300)           27978300  \n",
      "_________________________________________________________________\n",
      "lstm_9 (LSTM)                (None, 50)                70200     \n",
      "_________________________________________________________________\n",
      "dense_6 (Dense)              (None, 6)                 306       \n",
      "=================================================================\n",
      "Total params: 28,048,806\n",
      "Trainable params: 70,506\n",
      "Non-trainable params: 27,978,300\n",
      "_________________________________________________________________\n"
     ]
    }
   ],
   "source": [
    "trec_lstm2.summary()"
   ]
  },
  {
   "cell_type": "markdown",
   "metadata": {},
   "source": [
    "#### 1.2 Third LSTM"
   ]
  },
  {
   "cell_type": "code",
   "execution_count": 125,
   "metadata": {
    "collapsed": true
   },
   "outputs": [],
   "source": [
    "trec_lstm3 = load_model(\"../models/trec_lstm3.h5\")"
   ]
  },
  {
   "cell_type": "code",
   "execution_count": 126,
   "metadata": {
    "collapsed": false
   },
   "outputs": [
    {
     "name": "stdout",
     "output_type": "stream",
     "text": [
      "_________________________________________________________________\n",
      "Layer (type)                 Output Shape              Param #   \n",
      "=================================================================\n",
      "embedding_10 (Embedding)     (None, 10, 300)           27978300  \n",
      "_________________________________________________________________\n",
      "lstm_12 (LSTM)               (None, 10, 100)           160400    \n",
      "_________________________________________________________________\n",
      "lstm_13 (LSTM)               (None, 6)                 2568      \n",
      "=================================================================\n",
      "Total params: 28,141,268\n",
      "Trainable params: 162,968\n",
      "Non-trainable params: 27,978,300\n",
      "_________________________________________________________________\n"
     ]
    }
   ],
   "source": [
    "trec_lstm3.summary()"
   ]
  },
  {
   "cell_type": "markdown",
   "metadata": {},
   "source": [
    "#### 1.3 Fourth LSTM "
   ]
  },
  {
   "cell_type": "code",
   "execution_count": 143,
   "metadata": {
    "collapsed": true
   },
   "outputs": [],
   "source": [
    "trec_lstm4 = load_model(\"../models/trec_lstm4.h5\")"
   ]
  },
  {
   "cell_type": "code",
   "execution_count": 144,
   "metadata": {
    "collapsed": false
   },
   "outputs": [
    {
     "name": "stdout",
     "output_type": "stream",
     "text": [
      "_________________________________________________________________\n",
      "Layer (type)                 Output Shape              Param #   \n",
      "=================================================================\n",
      "embedding_13 (Embedding)     (None, 10, 300)           27978300  \n",
      "_________________________________________________________________\n",
      "dropout_7 (Dropout)          (None, 10, 300)           0         \n",
      "_________________________________________________________________\n",
      "lstm_18 (LSTM)               (None, 10, 100)           160400    \n",
      "_________________________________________________________________\n",
      "lstm_19 (LSTM)               (None, 6)                 2568      \n",
      "=================================================================\n",
      "Total params: 28,141,268\n",
      "Trainable params: 28,141,268\n",
      "Non-trainable params: 0\n",
      "_________________________________________________________________\n"
     ]
    }
   ],
   "source": [
    "trec_lstm4.summary()"
   ]
  },
  {
   "cell_type": "markdown",
   "metadata": {},
   "source": [
    "##### Fifth LSTM"
   ]
  },
  {
   "cell_type": "code",
   "execution_count": 155,
   "metadata": {
    "collapsed": true
   },
   "outputs": [],
   "source": [
    "trec_lstm5 = load_model(\"../models/trec_lstm5.h5\")"
   ]
  },
  {
   "cell_type": "code",
   "execution_count": 156,
   "metadata": {
    "collapsed": false
   },
   "outputs": [
    {
     "name": "stdout",
     "output_type": "stream",
     "text": [
      "_________________________________________________________________\n",
      "Layer (type)                 Output Shape              Param #   \n",
      "=================================================================\n",
      "embedding_15 (Embedding)     (None, 6, 300)            27978300  \n",
      "_________________________________________________________________\n",
      "lstm_20 (LSTM)               (None, 6, 100)            160400    \n",
      "_________________________________________________________________\n",
      "lstm_21 (LSTM)               (None, 6)                 2568      \n",
      "=================================================================\n",
      "Total params: 28,141,268\n",
      "Trainable params: 162,968\n",
      "Non-trainable params: 27,978,300\n",
      "_________________________________________________________________\n"
     ]
    }
   ],
   "source": [
    "trec_lstm5.summary()"
   ]
  },
  {
   "cell_type": "markdown",
   "metadata": {},
   "source": [
    "### 2. Make question class predictions on entire set using LSTM models\n",
    "\n",
    "The predictions of each of the models will be used as features. As such, I'll add the predictions to new columns in the `data` DataFrame. "
   ]
  },
  {
   "cell_type": "markdown",
   "metadata": {},
   "source": [
    "#### 2.0 Function for encoding and padding questions\n",
    "\n",
    "To feed the quesions into my trained networks, they need to be encoded as index vectors of the same length. For this I'll use my pre-trained `keras.preprocessing.text.Tokenizer` object and `keras.preprocessing.sequence.pad_sequences`."
   ]
  },
  {
   "cell_type": "code",
   "execution_count": 30,
   "metadata": {
    "collapsed": true
   },
   "outputs": [],
   "source": [
    "# A function which takes in a numpy array of quesitions (strings)\n",
    "# and returns padded index vectors usable by deep learning models. \n",
    "def encode_and_pad(questions, sequence_length = 10):\n",
    "    # questions encoded as index vectors\n",
    "    encoded = tokenizer.texts_to_sequences(questions)\n",
    "    # padded squences to be of length [sequence_length]\n",
    "    padded = pad_sequences(encoded, \n",
    "                            maxlen = sequence_length,\n",
    "                            padding = \"post\", \n",
    "                            truncating = \"post\")\n",
    "    return(padded)"
   ]
  },
  {
   "cell_type": "markdown",
   "metadata": {},
   "source": [
    "#### 2.1 Function for decoding one-hot labels\n",
    "\n",
    "The trained models above return the predicted class as one-hot vectors. This vfunction brings the predictions back to the original classes"
   ]
  },
  {
   "cell_type": "code",
   "execution_count": 58,
   "metadata": {
    "collapsed": true
   },
   "outputs": [],
   "source": [
    "# accepts a vector of one-hot vectors. Returns a vector of strings (classes)\n",
    "def decode_labels_onehot(onehot_labels):\n",
    "        # first, get the labels as integers\n",
    "        integer_labels = [np.where(r==1)[0][0] for r in onehot_labels]\n",
    "        # now, return the decoded label\n",
    "        return(label_encoder.inverse_transform(integer_labels))"
   ]
  },
  {
   "cell_type": "code",
   "execution_count": 59,
   "metadata": {
    "collapsed": false
   },
   "outputs": [
    {
     "data": {
      "text/plain": [
       "array(['ABBR', 'DESC', 'ENTY', 'HUM', 'LOC', 'NUM'], dtype=object)"
      ]
     },
     "execution_count": 59,
     "metadata": {},
     "output_type": "execute_result"
    }
   ],
   "source": [
    "# example: all the classes encoded\n",
    "l = np.array([[1,0,0,0,0,0],\n",
    "              [0,1,0,0,0,0],\n",
    "              [0,0,1,0,0,0],\n",
    "              [0,0,0,1,0,0],\n",
    "              [0,0,0,0,1,0],\n",
    "              [0,0,0,0,0,1]])\n",
    "\n",
    "decode_labels_onehot(l)"
   ]
  },
  {
   "cell_type": "markdown",
   "metadata": {},
   "source": [
    "#### 2.2 Function for decoding regular labels. \n",
    "\n",
    "Turns out `Keras` outputs the class index itself when using the `model.predict()` function. So the function above is unneccessary.  Whoops. "
   ]
  },
  {
   "cell_type": "code",
   "execution_count": 60,
   "metadata": {
    "collapsed": true
   },
   "outputs": [],
   "source": [
    "# accepts a vector of one-hot vectors. Returns a vector of strings (classes)\n",
    "def decode_labels(labels):\n",
    "    #return decoded labels\n",
    "    return(label_encoder.inverse_transform(labels))"
   ]
  },
  {
   "cell_type": "markdown",
   "metadata": {},
   "source": [
    "#### 2.2 Make predictions on data"
   ]
  },
  {
   "cell_type": "code",
   "execution_count": 94,
   "metadata": {
    "collapsed": false
   },
   "outputs": [
    {
     "name": "stdout",
     "output_type": "stream",
     "text": [
      "404288/404288 [==============================] - 79s 196us/step\n"
     ]
    }
   ],
   "source": [
    "# add predictions of first model, first question\n",
    "data['lstm_1_q1_pred'] = trec_lstm1.predict_classes(\n",
    "        encode_and_pad(data['question1'].values)\n",
    "        )"
   ]
  },
  {
   "cell_type": "code",
   "execution_count": 95,
   "metadata": {
    "collapsed": false
   },
   "outputs": [
    {
     "name": "stdout",
     "output_type": "stream",
     "text": [
      "404288/404288 [==============================] - 67s 165us/step\n"
     ]
    }
   ],
   "source": [
    "# add predictions of first model, first question\n",
    "data['lstm_1_q2_pred'] = trec_lstm1.predict_classes(\n",
    "        encode_and_pad(data['question2'].values)\n",
    "    )\n"
   ]
  },
  {
   "cell_type": "code",
   "execution_count": 96,
   "metadata": {
    "collapsed": false
   },
   "outputs": [
    {
     "name": "stdout",
     "output_type": "stream",
     "text": [
      "404288/404288 [==============================] - 71s 175us/step\n"
     ]
    }
   ],
   "source": [
    "# add predictions of second model, first question\n",
    "data['lstm_2_q1_pred'] = trec_lstm2.predict_classes(\n",
    "        encode_and_pad(data['question1'].values)\n",
    "    )"
   ]
  },
  {
   "cell_type": "code",
   "execution_count": 97,
   "metadata": {
    "collapsed": false
   },
   "outputs": [
    {
     "name": "stdout",
     "output_type": "stream",
     "text": [
      "404288/404288 [==============================] - 80s 198us/step\n"
     ]
    }
   ],
   "source": [
    "# add predictions of second model, second question\n",
    "data['lstm_2_q2_pred'] = trec_lstm2.predict_classes(\n",
    "        encode_and_pad(data['question2'].values)\n",
    "    )\n"
   ]
  },
  {
   "cell_type": "code",
   "execution_count": 129,
   "metadata": {
    "collapsed": false
   },
   "outputs": [
    {
     "name": "stdout",
     "output_type": "stream",
     "text": [
      "404288/404288 [==============================] - 1210s 3ms/step\n"
     ]
    }
   ],
   "source": [
    "# add predictions of third model, first question\n",
    "data['lstm_3_q1_pred'] = trec_lstm3.predict_classes(\n",
    "        encode_and_pad(data['question1'].values)\n",
    "    )"
   ]
  },
  {
   "cell_type": "code",
   "execution_count": 130,
   "metadata": {
    "collapsed": false
   },
   "outputs": [
    {
     "name": "stdout",
     "output_type": "stream",
     "text": [
      "404288/404288 [==============================] - 145s 360us/step\n"
     ]
    }
   ],
   "source": [
    "# add predictions of third model, second question\n",
    "data['lstm_3_q2_pred'] = trec_lstm3.predict_classes(\n",
    "        encode_and_pad(data['question2'].values)\n",
    "    )\n"
   ]
  },
  {
   "cell_type": "code",
   "execution_count": 145,
   "metadata": {
    "collapsed": false
   },
   "outputs": [
    {
     "name": "stdout",
     "output_type": "stream",
     "text": [
      "404288/404288 [==============================] - 147s 362us/step\n"
     ]
    }
   ],
   "source": [
    "# add predictions of fourth model, first question\n",
    "data['lstm_4_q1_pred'] = trec_lstm4.predict_classes(\n",
    "        encode_and_pad(data['question1'].values)\n",
    "    )\n"
   ]
  },
  {
   "cell_type": "code",
   "execution_count": 146,
   "metadata": {
    "collapsed": false
   },
   "outputs": [
    {
     "name": "stdout",
     "output_type": "stream",
     "text": [
      "404288/404288 [==============================] - 143s 353us/step\n"
     ]
    }
   ],
   "source": [
    "# add predictions of fourth model, second question\n",
    "data['lstm_4_q2_pred'] = trec_lstm4.predict_classes(\n",
    "        encode_and_pad(data['question2'].values)\n",
    "    )\n"
   ]
  },
  {
   "cell_type": "code",
   "execution_count": 162,
   "metadata": {
    "collapsed": false
   },
   "outputs": [
    {
     "name": "stdout",
     "output_type": "stream",
     "text": [
      "404288/404288 [==============================] - 110s 271us/step\n"
     ]
    }
   ],
   "source": [
    "# add predictions of fifth model, second question\n",
    "data['lstm_5_q1_pred'] = trec_lstm5.predict_classes(\n",
    "        encode_and_pad(data['question1'].values, sequence_length = 6)\n",
    "    )"
   ]
  },
  {
   "cell_type": "code",
   "execution_count": 163,
   "metadata": {
    "collapsed": false
   },
   "outputs": [
    {
     "name": "stdout",
     "output_type": "stream",
     "text": [
      "404288/404288 [==============================] - 105s 259us/step\n"
     ]
    }
   ],
   "source": [
    "# add predictions of fifth model, second question\n",
    "data['lstm_5_q2_pred'] = trec_lstm5.predict_classes(\n",
    "        encode_and_pad(data['question2'].values, sequence_length = 6)\n",
    "    )"
   ]
  },
  {
   "cell_type": "code",
   "execution_count": 147,
   "metadata": {
    "collapsed": false,
    "scrolled": true
   },
   "outputs": [
    {
     "data": {
      "text/html": [
       "<div>\n",
       "<table border=\"1\" class=\"dataframe\">\n",
       "  <thead>\n",
       "    <tr style=\"text-align: right;\">\n",
       "      <th></th>\n",
       "      <th>Unnamed: 0</th>\n",
       "      <th>id</th>\n",
       "      <th>qid1</th>\n",
       "      <th>qid2</th>\n",
       "      <th>question1</th>\n",
       "      <th>question2</th>\n",
       "      <th>is_duplicate</th>\n",
       "      <th>len_intersection</th>\n",
       "      <th>len_intersection_sw</th>\n",
       "      <th>num_words_q1</th>\n",
       "      <th>...</th>\n",
       "      <th>euclidean_distance_max_tfidf_word</th>\n",
       "      <th>cosine_distance_max_tfidf_word</th>\n",
       "      <th>lstm_1_q1_pred</th>\n",
       "      <th>lstm_1_q2_pred</th>\n",
       "      <th>lstm_2_q1_pred</th>\n",
       "      <th>lstm_2_q2_pred</th>\n",
       "      <th>lstm_3_q1_pred</th>\n",
       "      <th>lstm_3_q2_pred</th>\n",
       "      <th>lstm_4_q1_pred</th>\n",
       "      <th>lstm_4_q2_pred</th>\n",
       "    </tr>\n",
       "  </thead>\n",
       "  <tbody>\n",
       "    <tr>\n",
       "      <th>0</th>\n",
       "      <td>1</td>\n",
       "      <td>0</td>\n",
       "      <td>1</td>\n",
       "      <td>2</td>\n",
       "      <td>What is the step by step guide to invest in sh...</td>\n",
       "      <td>What is the step by step guide to invest in sh...</td>\n",
       "      <td>0</td>\n",
       "      <td>10</td>\n",
       "      <td>5</td>\n",
       "      <td>14</td>\n",
       "      <td>...</td>\n",
       "      <td>0.000000</td>\n",
       "      <td>3.250036e-08</td>\n",
       "      <td>4</td>\n",
       "      <td>4</td>\n",
       "      <td>2</td>\n",
       "      <td>2</td>\n",
       "      <td>1</td>\n",
       "      <td>1</td>\n",
       "      <td>2</td>\n",
       "      <td>2</td>\n",
       "    </tr>\n",
       "    <tr>\n",
       "      <th>1</th>\n",
       "      <td>2</td>\n",
       "      <td>1</td>\n",
       "      <td>3</td>\n",
       "      <td>4</td>\n",
       "      <td>What is the story of Kohinoor Koh - i - Noor D...</td>\n",
       "      <td>What would happen if the Indian government sto...</td>\n",
       "      <td>0</td>\n",
       "      <td>2</td>\n",
       "      <td>0</td>\n",
       "      <td>10</td>\n",
       "      <td>...</td>\n",
       "      <td>0.000000</td>\n",
       "      <td>4.103800e-08</td>\n",
       "      <td>2</td>\n",
       "      <td>2</td>\n",
       "      <td>2</td>\n",
       "      <td>2</td>\n",
       "      <td>1</td>\n",
       "      <td>3</td>\n",
       "      <td>2</td>\n",
       "      <td>1</td>\n",
       "    </tr>\n",
       "    <tr>\n",
       "      <th>2</th>\n",
       "      <td>3</td>\n",
       "      <td>2</td>\n",
       "      <td>5</td>\n",
       "      <td>6</td>\n",
       "      <td>How can I increase the speed of my internet co...</td>\n",
       "      <td>How can Internet speed be increased by hacking...</td>\n",
       "      <td>0</td>\n",
       "      <td>3</td>\n",
       "      <td>2</td>\n",
       "      <td>14</td>\n",
       "      <td>...</td>\n",
       "      <td>5.495713</td>\n",
       "      <td>4.284846e-01</td>\n",
       "      <td>1</td>\n",
       "      <td>1</td>\n",
       "      <td>1</td>\n",
       "      <td>1</td>\n",
       "      <td>1</td>\n",
       "      <td>1</td>\n",
       "      <td>1</td>\n",
       "      <td>1</td>\n",
       "    </tr>\n",
       "    <tr>\n",
       "      <th>3</th>\n",
       "      <td>4</td>\n",
       "      <td>3</td>\n",
       "      <td>7</td>\n",
       "      <td>8</td>\n",
       "      <td>Why am I mentally very lonely ? How can I solv...</td>\n",
       "      <td>Find the remainder when math 23 24 math is div...</td>\n",
       "      <td>0</td>\n",
       "      <td>0</td>\n",
       "      <td>0</td>\n",
       "      <td>11</td>\n",
       "      <td>...</td>\n",
       "      <td>4.781672</td>\n",
       "      <td>8.190252e-01</td>\n",
       "      <td>1</td>\n",
       "      <td>5</td>\n",
       "      <td>1</td>\n",
       "      <td>5</td>\n",
       "      <td>1</td>\n",
       "      <td>5</td>\n",
       "      <td>1</td>\n",
       "      <td>1</td>\n",
       "    </tr>\n",
       "    <tr>\n",
       "      <th>4</th>\n",
       "      <td>5</td>\n",
       "      <td>4</td>\n",
       "      <td>9</td>\n",
       "      <td>10</td>\n",
       "      <td>Which one dissolve in water quickly sugar , sa...</td>\n",
       "      <td>Which fish would survive in salt water ?</td>\n",
       "      <td>0</td>\n",
       "      <td>3</td>\n",
       "      <td>2</td>\n",
       "      <td>13</td>\n",
       "      <td>...</td>\n",
       "      <td>6.219034</td>\n",
       "      <td>8.441631e-01</td>\n",
       "      <td>3</td>\n",
       "      <td>2</td>\n",
       "      <td>3</td>\n",
       "      <td>2</td>\n",
       "      <td>2</td>\n",
       "      <td>2</td>\n",
       "      <td>2</td>\n",
       "      <td>2</td>\n",
       "    </tr>\n",
       "  </tbody>\n",
       "</table>\n",
       "<p>5 rows × 54 columns</p>\n",
       "</div>"
      ],
      "text/plain": [
       "   Unnamed: 0  id  qid1  qid2  \\\n",
       "0           1   0     1     2   \n",
       "1           2   1     3     4   \n",
       "2           3   2     5     6   \n",
       "3           4   3     7     8   \n",
       "4           5   4     9    10   \n",
       "\n",
       "                                           question1  \\\n",
       "0  What is the step by step guide to invest in sh...   \n",
       "1  What is the story of Kohinoor Koh - i - Noor D...   \n",
       "2  How can I increase the speed of my internet co...   \n",
       "3  Why am I mentally very lonely ? How can I solv...   \n",
       "4  Which one dissolve in water quickly sugar , sa...   \n",
       "\n",
       "                                           question2  is_duplicate  \\\n",
       "0  What is the step by step guide to invest in sh...             0   \n",
       "1  What would happen if the Indian government sto...             0   \n",
       "2  How can Internet speed be increased by hacking...             0   \n",
       "3  Find the remainder when math 23 24 math is div...             0   \n",
       "4          Which fish would survive in salt water ?              0   \n",
       "\n",
       "   len_intersection  len_intersection_sw  num_words_q1       ...        \\\n",
       "0                10                    5            14       ...         \n",
       "1                 2                    0            10       ...         \n",
       "2                 3                    2            14       ...         \n",
       "3                 0                    0            11       ...         \n",
       "4                 3                    2            13       ...         \n",
       "\n",
       "   euclidean_distance_max_tfidf_word  cosine_distance_max_tfidf_word  \\\n",
       "0                           0.000000                    3.250036e-08   \n",
       "1                           0.000000                    4.103800e-08   \n",
       "2                           5.495713                    4.284846e-01   \n",
       "3                           4.781672                    8.190252e-01   \n",
       "4                           6.219034                    8.441631e-01   \n",
       "\n",
       "   lstm_1_q1_pred  lstm_1_q2_pred  lstm_2_q1_pred  lstm_2_q2_pred  \\\n",
       "0               4               4               2               2   \n",
       "1               2               2               2               2   \n",
       "2               1               1               1               1   \n",
       "3               1               5               1               5   \n",
       "4               3               2               3               2   \n",
       "\n",
       "   lstm_3_q1_pred  lstm_3_q2_pred  lstm_4_q1_pred  lstm_4_q2_pred  \n",
       "0               1               1               2               2  \n",
       "1               1               3               2               1  \n",
       "2               1               1               1               1  \n",
       "3               1               5               1               1  \n",
       "4               2               2               2               2  \n",
       "\n",
       "[5 rows x 54 columns]"
      ]
     },
     "execution_count": 147,
     "metadata": {},
     "output_type": "execute_result"
    }
   ],
   "source": [
    "data.head()"
   ]
  },
  {
   "cell_type": "markdown",
   "metadata": {},
   "source": [
    "---\n",
    "\n",
    "### 3. Design experiments\n",
    "\n",
    "To see if the question classification precictions are useful, I will: \n",
    "\n",
    "1. Split data into training and testing set (in the same way as in previous model)\n",
    "2. For each model's predictions, fit a XGBoost model with the original features plus the predicitons\n",
    "3. Evaluate efficacy using 3-fold Cross Validation."
   ]
  },
  {
   "cell_type": "markdown",
   "metadata": {},
   "source": [
    "#### 3.0 Split data into train and test set"
   ]
  },
  {
   "cell_type": "code",
   "execution_count": 164,
   "metadata": {
    "collapsed": true
   },
   "outputs": [],
   "source": [
    "# Split data into training and test sets.\n",
    "X_train, X_test, y_train, y_test = train_test_split(\n",
    "    data, data['is_duplicate'], test_size=0.2, random_state=550)"
   ]
  },
  {
   "cell_type": "code",
   "execution_count": 139,
   "metadata": {
    "collapsed": false
   },
   "outputs": [
    {
     "name": "stdout",
     "output_type": "stream",
     "text": [
      "(404288, 52)\n",
      "\n",
      "(323430, 52)\n",
      "(80858, 52)\n",
      "\n",
      "(323430,)\n",
      "(80858,)\n"
     ]
    }
   ],
   "source": [
    "# sanity check - dimensions of training and test splits\n",
    "print(data.shape)\n",
    "print\n",
    "print(X_train.shape)\n",
    "print(X_test.shape)\n",
    "print\n",
    "print(y_train.shape)\n",
    "print(y_test.shape)"
   ]
  },
  {
   "cell_type": "markdown",
   "metadata": {},
   "source": [
    "#### 3.1 Isolate orignal features, and model features"
   ]
  },
  {
   "cell_type": "code",
   "execution_count": 75,
   "metadata": {
    "collapsed": true
   },
   "outputs": [],
   "source": [
    "# features included in original XGBoost model\n",
    "original_features = [u'len_intersection', u'len_intersection_sw', u'num_words_q1', u'num_words_q2',\n",
    "                     u'num_words_diff', u'num_words_diff_sw', u'num_chars_q1', u'num_chars_q2', \n",
    "                     u'num_chars_diff', u'partial_ratio', u'partial_ratio_sw', u'partial_token_set_ratio_sw',\n",
    "                     u'token_set_ratio', u'token_set_ratio_sw', u'partial_token_sort_ratio_sw', \n",
    "                     u'wratio', u'wratio_sw', u'word_intersection_tfidf_weight', \n",
    "                     u'word_symmetric_difference_tfidf_weight', u'euclidean_distance_sentence_embeddings',\n",
    "                     u'cosine_distance_sentence_embeddings', u'cityblock_distance_sentence_embeddings', \n",
    "                     u'jaccard_distance_sentence_embeddings', u'braycurtis_distance_sentence_embeddings', \n",
    "                     u'euclidean_distance_max_tfidf_word', u'cosine_distance_max_tfidf_word']"
   ]
  },
  {
   "cell_type": "markdown",
   "metadata": {},
   "source": [
    "#### 3.2 A function for feature importance charting "
   ]
  },
  {
   "cell_type": "code",
   "execution_count": 76,
   "metadata": {
    "collapsed": true
   },
   "outputs": [],
   "source": [
    "def feature_importance(model):\n",
    "    pd.Series(model.get_booster().get_fscore()).sort_values(ascending = False).plot(kind = \"bar\")"
   ]
  },
  {
   "cell_type": "markdown",
   "metadata": {},
   "source": [
    "### 4. Create and train XGBoost models. Compare CV scores\n",
    "\n",
    "These have the same hyperparameters as my previous model. "
   ]
  },
  {
   "cell_type": "markdown",
   "metadata": {},
   "source": [
    "#####  LSTM Model One"
   ]
  },
  {
   "cell_type": "code",
   "execution_count": 81,
   "metadata": {
    "collapsed": true
   },
   "outputs": [],
   "source": [
    "# Params previously identified as well performant using cross validation set\n",
    "xgb_params = {'learning_rate': [0.1],\n",
    " 'max_depth': [8],\n",
    " 'min_child_weight': [3],\n",
    " 'n_estimators': [1000]}"
   ]
  },
  {
   "cell_type": "code",
   "execution_count": 79,
   "metadata": {
    "collapsed": true
   },
   "outputs": [],
   "source": [
    "# A first XGBoost model\n",
    "model1 = XGBClassifier(random_state = 550)"
   ]
  },
  {
   "cell_type": "code",
   "execution_count": 82,
   "metadata": {
    "collapsed": false
   },
   "outputs": [],
   "source": [
    "grid_search1 = GridSearchCV(model1, xgb_params, scoring='neg_log_loss', n_jobs=-1, cv=3, verbose=1)"
   ]
  },
  {
   "cell_type": "code",
   "execution_count": 83,
   "metadata": {
    "collapsed": false
   },
   "outputs": [
    {
     "data": {
      "text/plain": [
       "Index([u'Unnamed: 0', u'id', u'qid1', u'qid2', u'question1', u'question2',\n",
       "       u'is_duplicate', u'len_intersection', u'len_intersection_sw',\n",
       "       u'num_words_q1', u'num_words_q1_sw', u'num_words_q2',\n",
       "       u'num_words_q2_sw', u'num_words_diff', u'num_words_diff_sw',\n",
       "       u'num_chars_q1', u'num_chars_q1_sw', u'num_chars_q2',\n",
       "       u'num_chars_q2_sw', u'num_chars_diff', u'num_chars_diff_sw',\n",
       "       u'partial_ratio', u'partial_ratio_sw', u'partial_token_set_ratio',\n",
       "       u'partial_token_set_ratio_sw', u'token_set_ratio',\n",
       "       u'token_set_ratio_sw', u'partial_token_sort_ratio',\n",
       "       u'partial_token_sort_ratio_sw', u'wratio', u'wratio_sw',\n",
       "       u'word_intersection_tfidf_weight',\n",
       "       u'word_symmetric_difference_tfidf_weight', u'q1_embedding',\n",
       "       u'q2_embedding', u'euclidean_distance_sentence_embeddings',\n",
       "       u'cosine_distance_sentence_embeddings',\n",
       "       u'cityblock_distance_sentence_embeddings',\n",
       "       u'jaccard_distance_sentence_embeddings',\n",
       "       u'braycurtis_distance_sentence_embeddings', u'q1_highest_tfidf_weight',\n",
       "       u'q2_highest_tfidf_weight', u'q1_max_tf_idf_embedding',\n",
       "       u'q2_max_tf_idf_embedding', u'euclidean_distance_max_tfidf_word',\n",
       "       u'cosine_distance_max_tfidf_word', u'lstm_1_q1_pred', u'lstm_1_q2_pred',\n",
       "       u'lstm_2_q1_pred', u'lstm_2_q2_pred', u'lstm_3_q1_pred',\n",
       "       u'lstm_3_q2_pred'],\n",
       "      dtype='object')"
      ]
     },
     "execution_count": 83,
     "metadata": {},
     "output_type": "execute_result"
    }
   ],
   "source": [
    "data.columns"
   ]
  },
  {
   "cell_type": "code",
   "execution_count": 101,
   "metadata": {
    "collapsed": false,
    "scrolled": false
   },
   "outputs": [
    {
     "name": "stdout",
     "output_type": "stream",
     "text": [
      "Fitting 3 folds for each of 1 candidates, totalling 3 fits\n"
     ]
    },
    {
     "name": "stderr",
     "output_type": "stream",
     "text": [
      "[Parallel(n_jobs=-1)]: Done   3 out of   3 | elapsed: 39.0min finished\n"
     ]
    },
    {
     "name": "stdout",
     "output_type": "stream",
     "text": [
      "CPU times: user 20min 24s, sys: 11.9 s, total: 20min 36s\n",
      "Wall time: 1h 5min 4s\n"
     ]
    }
   ],
   "source": [
    "%time grid_result1 = grid_search1.fit(X_train[original_features + ['lstm_1_q1_pred', 'lstm_1_q2_pred']], \\\n",
    "                                      y_train)"
   ]
  },
  {
   "cell_type": "code",
   "execution_count": 103,
   "metadata": {
    "collapsed": false
   },
   "outputs": [
    {
     "data": {
      "text/plain": [
       "-0.42512935750900965"
      ]
     },
     "execution_count": 103,
     "metadata": {},
     "output_type": "execute_result"
    }
   ],
   "source": [
    "grid_result1.best_score_"
   ]
  },
  {
   "cell_type": "code",
   "execution_count": 102,
   "metadata": {
    "collapsed": false
   },
   "outputs": [
    {
     "data": {
      "image/png": "[encoded data removed]",
      "text/plain": [
       "<matplotlib.figure.Figure at 0x13d7d0390>"
      ]
     },
     "metadata": {},
     "output_type": "display_data"
    }
   ],
   "source": [
    "feature_importance(grid_result1.best_estimator_)"
   ]
  },
  {
   "cell_type": "markdown",
   "metadata": {},
   "source": [
    "#### LSTM Model 2"
   ]
  },
  {
   "cell_type": "code",
   "execution_count": 106,
   "metadata": {
    "collapsed": true
   },
   "outputs": [],
   "source": [
    "model2 = XGBClassifier(random_state = 550)"
   ]
  },
  {
   "cell_type": "code",
   "execution_count": 107,
   "metadata": {
    "collapsed": true
   },
   "outputs": [],
   "source": [
    "grid_search2 = GridSearchCV(model1, xgb_params, scoring='neg_log_loss', n_jobs=-1, cv=3, verbose=1)"
   ]
  },
  {
   "cell_type": "code",
   "execution_count": 108,
   "metadata": {
    "collapsed": false
   },
   "outputs": [
    {
     "name": "stdout",
     "output_type": "stream",
     "text": [
      "Fitting 3 folds for each of 1 candidates, totalling 3 fits\n"
     ]
    },
    {
     "name": "stderr",
     "output_type": "stream",
     "text": [
      "[Parallel(n_jobs=-1)]: Done   3 out of   3 | elapsed: 24.3min finished\n"
     ]
    },
    {
     "name": "stdout",
     "output_type": "stream",
     "text": [
      "CPU times: user 19min 58s, sys: 3.3 s, total: 20min 1s\n",
      "Wall time: 50min 32s\n"
     ]
    }
   ],
   "source": [
    "%time grid_result2 = grid_search1.fit(X_train[original_features + ['lstm_2_q1_pred', 'lstm_2_q2_pred']], \\\n",
    "                                      y_train)"
   ]
  },
  {
   "cell_type": "code",
   "execution_count": 116,
   "metadata": {
    "collapsed": false
   },
   "outputs": [
    {
     "data": {
      "image/png": "[encoded data removed]",
      "text/plain": [
       "<matplotlib.figure.Figure at 0x1bf07b3d0>"
      ]
     },
     "metadata": {},
     "output_type": "display_data"
    }
   ],
   "source": [
    "feature_importance(grid_result2.best_estimator_)"
   ]
  },
  {
   "cell_type": "code",
   "execution_count": 117,
   "metadata": {
    "collapsed": false
   },
   "outputs": [
    {
     "data": {
      "text/plain": [
       "-0.42515725363303974"
      ]
     },
     "execution_count": 117,
     "metadata": {},
     "output_type": "execute_result"
    }
   ],
   "source": [
    "grid_result2.best_score_"
   ]
  },
  {
   "cell_type": "markdown",
   "metadata": {},
   "source": [
    "#####  LSTM Model 3"
   ]
  },
  {
   "cell_type": "code",
   "execution_count": 133,
   "metadata": {
    "collapsed": true
   },
   "outputs": [],
   "source": [
    "model3 = XGBClassifier(random_state = 550)"
   ]
  },
  {
   "cell_type": "code",
   "execution_count": 134,
   "metadata": {
    "collapsed": true
   },
   "outputs": [],
   "source": [
    "grid_search3 = GridSearchCV(model3, xgb_params, scoring='neg_log_loss', n_jobs=2, cv=3, verbose=1)"
   ]
  },
  {
   "cell_type": "code",
   "execution_count": 140,
   "metadata": {
    "collapsed": false
   },
   "outputs": [
    {
     "name": "stdout",
     "output_type": "stream",
     "text": [
      "Fitting 3 folds for each of 1 candidates, totalling 3 fits\n"
     ]
    },
    {
     "name": "stderr",
     "output_type": "stream",
     "text": [
      "[Parallel(n_jobs=2)]: Done   3 out of   3 | elapsed: 31.2min finished\n"
     ]
    },
    {
     "name": "stdout",
     "output_type": "stream",
     "text": [
      "CPU times: user 22min 31s, sys: 20.7 s, total: 22min 51s\n",
      "Wall time: 55min\n"
     ]
    }
   ],
   "source": [
    "%time grid_result3 = grid_search3.fit(X_train[original_features + ['lstm_3_q1_pred', 'lstm_3_q2_pred']], \\\n",
    "                                      y_train)"
   ]
  },
  {
   "cell_type": "code",
   "execution_count": 141,
   "metadata": {
    "collapsed": false
   },
   "outputs": [
    {
     "data": {
      "text/plain": [
       "-0.42471647170023635"
      ]
     },
     "execution_count": 141,
     "metadata": {},
     "output_type": "execute_result"
    }
   ],
   "source": [
    "grid_result3.best_score_"
   ]
  },
  {
   "cell_type": "code",
   "execution_count": 142,
   "metadata": {
    "collapsed": false
   },
   "outputs": [
    {
     "data": {
      "image/png": "[encoded data removed]",
      "text/plain": [
       "<matplotlib.figure.Figure at 0x124bb4410>"
      ]
     },
     "metadata": {},
     "output_type": "display_data"
    }
   ],
   "source": [
    "feature_importance(grid_result3.best_estimator_)"
   ]
  },
  {
   "cell_type": "markdown",
   "metadata": {},
   "source": [
    "##### LSTM Model 4"
   ]
  },
  {
   "cell_type": "code",
   "execution_count": 148,
   "metadata": {
    "collapsed": true
   },
   "outputs": [],
   "source": [
    "model4 = XGBClassifier(random_state = 550)"
   ]
  },
  {
   "cell_type": "code",
   "execution_count": 149,
   "metadata": {
    "collapsed": true
   },
   "outputs": [],
   "source": [
    "grid_search4 = GridSearchCV(model4, xgb_params, scoring='neg_log_loss', n_jobs=-1, cv=3, verbose=1)"
   ]
  },
  {
   "cell_type": "code",
   "execution_count": 152,
   "metadata": {
    "collapsed": false
   },
   "outputs": [
    {
     "name": "stdout",
     "output_type": "stream",
     "text": [
      "Fitting 3 folds for each of 1 candidates, totalling 3 fits\n"
     ]
    },
    {
     "name": "stderr",
     "output_type": "stream",
     "text": [
      "[Parallel(n_jobs=-1)]: Done   3 out of   3 | elapsed: 29.6min finished\n"
     ]
    },
    {
     "name": "stdout",
     "output_type": "stream",
     "text": [
      "CPU times: user 22min 7s, sys: 8.41 s, total: 22min 15s\n",
      "Wall time: 52min 25s\n"
     ]
    }
   ],
   "source": [
    "%time grid_result4 = grid_search4.fit(X_train[original_features + ['lstm_4_q1_pred', 'lstm_4_q2_pred']], \\\n",
    "                                      y_train)"
   ]
  },
  {
   "cell_type": "code",
   "execution_count": 153,
   "metadata": {
    "collapsed": false
   },
   "outputs": [
    {
     "data": {
      "text/plain": [
       "-0.42471371311147393"
      ]
     },
     "execution_count": 153,
     "metadata": {},
     "output_type": "execute_result"
    }
   ],
   "source": [
    "grid_result4.best_score_"
   ]
  },
  {
   "cell_type": "code",
   "execution_count": 154,
   "metadata": {
    "collapsed": false
   },
   "outputs": [
    {
     "data": {
      "image/png": "[encoded data removed]",
      "text/plain": [
       "<matplotlib.figure.Figure at 0x2cd290c10>"
      ]
     },
     "metadata": {},
     "output_type": "display_data"
    }
   ],
   "source": [
    "feature_importance(grid_result4.best_estimator_)"
   ]
  },
  {
   "cell_type": "markdown",
   "metadata": {},
   "source": [
    "##### LSTM Model 5"
   ]
  },
  {
   "cell_type": "code",
   "execution_count": 165,
   "metadata": {
    "collapsed": true
   },
   "outputs": [],
   "source": [
    "model5 = XGBClassifier(random_state = 550)"
   ]
  },
  {
   "cell_type": "code",
   "execution_count": 166,
   "metadata": {
    "collapsed": true
   },
   "outputs": [],
   "source": [
    "grid_search5 = GridSearchCV(model5, xgb_params, scoring='neg_log_loss', n_jobs=-1, cv=3, verbose=1)"
   ]
  },
  {
   "cell_type": "code",
   "execution_count": 167,
   "metadata": {
    "collapsed": false
   },
   "outputs": [
    {
     "name": "stdout",
     "output_type": "stream",
     "text": [
      "Fitting 3 folds for each of 1 candidates, totalling 3 fits\n"
     ]
    },
    {
     "name": "stderr",
     "output_type": "stream",
     "text": [
      "[Parallel(n_jobs=-1)]: Done   3 out of   3 | elapsed: 62.1min finished\n"
     ]
    },
    {
     "name": "stdout",
     "output_type": "stream",
     "text": [
      "CPU times: user 21min 39s, sys: 8.39 s, total: 21min 47s\n",
      "Wall time: 1h 45min 28s\n"
     ]
    }
   ],
   "source": [
    "%time grid_result5 = grid_search5.fit(X_train[original_features + ['lstm_5_q1_pred', 'lstm_5_q2_pred']], \\\n",
    "                                      y_train)"
   ]
  },
  {
   "cell_type": "code",
   "execution_count": 168,
   "metadata": {
    "collapsed": false
   },
   "outputs": [
    {
     "data": {
      "text/plain": [
       "-0.42554912014690094"
      ]
     },
     "execution_count": 168,
     "metadata": {},
     "output_type": "execute_result"
    }
   ],
   "source": [
    "grid_result5.best_score_"
   ]
  },
  {
   "cell_type": "code",
   "execution_count": 169,
   "metadata": {
    "collapsed": false
   },
   "outputs": [
    {
     "data": {
      "image/png": "[encoded data removed]",
      "text/plain": [
       "<matplotlib.figure.Figure at 0x2ee377910>"
      ]
     },
     "metadata": {},
     "output_type": "display_data"
    }
   ],
   "source": [
    "feature_importance(grid_result5.best_estimator_)"
   ]
  }
 ],
 "metadata": {
  "kernelspec": {
   "display_name": "Python 2",
   "language": "python",
   "name": "python2"
  },
  "language_info": {
   "codemirror_mode": {
    "name": "ipython",
    "version": 2
   },
   "file_extension": ".py",
   "mimetype": "text/x-python",
   "name": "python",
   "nbconvert_exporter": "python",
   "pygments_lexer": "ipython2",
   "version": "2.7.9"
  }
 },
 "nbformat": 4,
 "nbformat_minor": 0
}
