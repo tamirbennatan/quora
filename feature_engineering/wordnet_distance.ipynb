{
 "cells": [
  {
   "cell_type": "code",
   "execution_count": 434,
   "metadata": {
    "collapsed": false
   },
   "outputs": [],
   "source": [
    "%matplotlib inline\n",
    "\n",
    "import seaborn as sns\n",
    "\n",
    "# import pandas as pd\n",
    "# import numpy as np\n",
    "\n",
    "# from nltk.corpus import wordnet as wn\n",
    "# from nltk import word_tokenize, pos_tag\n",
    "# from nltk.corpus import stopwords\n",
    "# stops = set(stopwords.words('english'))\n",
    "\n",
    "# from sklearn.feature_extraction.text import TfidfVectorizer\n",
    "\n",
    "# import re\n",
    "\n",
    "# import spacy\n",
    "# # Load spaCy pipeline. Disable Named Entity Recognition, since I don't need it. \n",
    "\n",
    "# nlp = spacy.load('en_core_web_lg', disable=['ner'])\n"
   ]
  },
  {
   "cell_type": "markdown",
   "metadata": {},
   "source": [
    "## Sentence Average WordNet Distance\n",
    "\n",
    "[This paper]((https://www.aaai.org/Papers/AAAI/2006/AAAI06-123.pdf) describes a method for scoring the sematic difference of sentences using WordNet. \n",
    "\n",
    "The idea is a scoring scheme which looks at the average \"distance\" of the words in the two sentences.\n",
    "\n",
    "To calculate the distance between sentences $T_1$ and $T_2$, go through the words in $T_1$ and find the word which is \"closest\" to it in $T_2$. Average these distances across all the words in $T_1$. \n",
    "\n",
    "To get a symmetric scoring scheme (i.e $Similiarity(T_1,T_2) = Similarity(T_2,T_1)$, perform the same operation, but this time starting with $T_2$ and findint the most similar words in $T_1$ to each word. The paper also suggests the use of _IDF_ scores.\n",
    "\n",
    "The score can be summarized: (Mihalcea, Corley, Strapparava)\n",
    "\n",
    "$$\n",
    "Similarity(T_1,T_2) = \\frac{1}{2}( \\frac{\\sum_{w \\in T_1}MaxSimilarity(w, T_2)idf(w)}{\\sum_{w \\in T_1}idf(w)}\n",
    "+ \\frac{\\sum_{w \\in T_2}MaxSimilarity(w, T_1)idf(w)}{\\sum_{w \\in T_2}idf(w)})\n",
    "$$\n",
    "\n",
    "Where $Similarity(w, T_i)$ is the greatest similarity between a word $w$ and word in $T_i$, according to some similarity metric (with respect to WordNet). This is a heuristic for getting the semantic similarity of sentences. \n",
    "\n",
    "Note: word comparisons are limited to words of the same part of speech. Furthermore, each word is always assumed to be the most common sense of that word. \n",
    "\n",
    "As a start, I'll implement this idea without _IDF_ scores, using a variety of WordNet distance metrics. If time permits, I'll include Idf scores as well. \n",
    "\n",
    "**Note**: Much of this code is taken from [this great blog post!](http://nlpforhackers.io/wordnet-sentence-similarity/)"
   ]
  },
  {
   "cell_type": "markdown",
   "metadata": {},
   "source": [
    "### 0. Load data to experiment with"
   ]
  },
  {
   "cell_type": "code",
   "execution_count": 2,
   "metadata": {
    "collapsed": true
   },
   "outputs": [],
   "source": [
    "data = pd.read_csv(\"../data/features.csv\")"
   ]
  },
  {
   "cell_type": "code",
   "execution_count": 3,
   "metadata": {
    "collapsed": false
   },
   "outputs": [],
   "source": [
    "data_sample = data.sample(100)"
   ]
  },
  {
   "cell_type": "code",
   "execution_count": 4,
   "metadata": {
    "collapsed": false,
    "scrolled": false
   },
   "outputs": [
    {
     "data": {
      "text/html": [
       "<div>\n",
       "<table border=\"1\" class=\"dataframe\">\n",
       "  <thead>\n",
       "    <tr style=\"text-align: right;\">\n",
       "      <th></th>\n",
       "      <th>Unnamed: 0</th>\n",
       "      <th>id</th>\n",
       "      <th>qid1</th>\n",
       "      <th>qid2</th>\n",
       "      <th>question1</th>\n",
       "      <th>question2</th>\n",
       "      <th>is_duplicate</th>\n",
       "      <th>len_intersection</th>\n",
       "      <th>len_intersection_sw</th>\n",
       "      <th>num_words_q1</th>\n",
       "      <th>...</th>\n",
       "      <th>cosine_distance_sentence_embeddings</th>\n",
       "      <th>cityblock_distance_sentence_embeddings</th>\n",
       "      <th>jaccard_distance_sentence_embeddings</th>\n",
       "      <th>braycurtis_distance_sentence_embeddings</th>\n",
       "      <th>q1_highest_tfidf_weight</th>\n",
       "      <th>q2_highest_tfidf_weight</th>\n",
       "      <th>q1_max_tf_idf_embedding</th>\n",
       "      <th>q2_max_tf_idf_embedding</th>\n",
       "      <th>euclidean_distance_max_tfidf_word</th>\n",
       "      <th>cosine_distance_max_tfidf_word</th>\n",
       "    </tr>\n",
       "  </thead>\n",
       "  <tbody>\n",
       "    <tr>\n",
       "      <th>84924</th>\n",
       "      <td>84925</td>\n",
       "      <td>84924</td>\n",
       "      <td>142416</td>\n",
       "      <td>143499</td>\n",
       "      <td>What are some of the best WhatsApp statuses ?</td>\n",
       "      <td>Survey Question What is your current WhatsApp ...</td>\n",
       "      <td>0</td>\n",
       "      <td>0</td>\n",
       "      <td>0</td>\n",
       "      <td>8</td>\n",
       "      <td>...</td>\n",
       "      <td>0.076075</td>\n",
       "      <td>15.394181</td>\n",
       "      <td>1.0</td>\n",
       "      <td>0.194825</td>\n",
       "      <td>statuses</td>\n",
       "      <td>survey</td>\n",
       "      <td>[  3.07579994e-01   6.17260002e-02  -3.1863999...</td>\n",
       "      <td>[-0.1737      0.14329    -0.042241    0.419270...</td>\n",
       "      <td>5.472867</td>\n",
       "      <td>0.816847</td>\n",
       "    </tr>\n",
       "    <tr>\n",
       "      <th>284521</th>\n",
       "      <td>284522</td>\n",
       "      <td>284523</td>\n",
       "      <td>404787</td>\n",
       "      <td>379437</td>\n",
       "      <td>What would be the best African country to reti...</td>\n",
       "      <td>What are some producers in the coral reef ?</td>\n",
       "      <td>0</td>\n",
       "      <td>2</td>\n",
       "      <td>0</td>\n",
       "      <td>10</td>\n",
       "      <td>...</td>\n",
       "      <td>0.013847</td>\n",
       "      <td>6.951705</td>\n",
       "      <td>1.0</td>\n",
       "      <td>0.086751</td>\n",
       "      <td>retire</td>\n",
       "      <td>reef</td>\n",
       "      <td>[-0.49013999 -0.10305     0.24549    -0.12166 ...</td>\n",
       "      <td>[ -4.06040013e-01  -8.87480006e-02  -3.3338001...</td>\n",
       "      <td>6.275740</td>\n",
       "      <td>0.932312</td>\n",
       "    </tr>\n",
       "    <tr>\n",
       "      <th>321015</th>\n",
       "      <td>321016</td>\n",
       "      <td>321017</td>\n",
       "      <td>131701</td>\n",
       "      <td>4945</td>\n",
       "      <td>Are we going to war with Russia ?</td>\n",
       "      <td>What is the likelihood of war with Russia ?</td>\n",
       "      <td>1</td>\n",
       "      <td>2</td>\n",
       "      <td>1</td>\n",
       "      <td>7</td>\n",
       "      <td>...</td>\n",
       "      <td>0.052232</td>\n",
       "      <td>13.755184</td>\n",
       "      <td>1.0</td>\n",
       "      <td>0.165243</td>\n",
       "      <td>russia</td>\n",
       "      <td>likelihood</td>\n",
       "      <td>[-0.33985999  0.18606    -0.23565     0.070993...</td>\n",
       "      <td>[-0.017332   -0.08987    -0.18223999  0.55179 ...</td>\n",
       "      <td>5.320340</td>\n",
       "      <td>0.861500</td>\n",
       "    </tr>\n",
       "    <tr>\n",
       "      <th>228957</th>\n",
       "      <td>228958</td>\n",
       "      <td>228959</td>\n",
       "      <td>338162</td>\n",
       "      <td>338163</td>\n",
       "      <td>What's the best co - working space in Munich ?</td>\n",
       "      <td>What's the best co - working space in London c...</td>\n",
       "      <td>0</td>\n",
       "      <td>6</td>\n",
       "      <td>4</td>\n",
       "      <td>8</td>\n",
       "      <td>...</td>\n",
       "      <td>0.007342</td>\n",
       "      <td>4.892683</td>\n",
       "      <td>1.0</td>\n",
       "      <td>0.061728</td>\n",
       "      <td>munich</td>\n",
       "      <td>co</td>\n",
       "      <td>[  2.35450000e-01  -3.10259998e-01  -3.6285999...</td>\n",
       "      <td>[ 0.09969    -0.20532     0.20522     0.19621 ...</td>\n",
       "      <td>5.898361</td>\n",
       "      <td>0.869842</td>\n",
       "    </tr>\n",
       "    <tr>\n",
       "      <th>402249</th>\n",
       "      <td>402250</td>\n",
       "      <td>402251</td>\n",
       "      <td>535718</td>\n",
       "      <td>535719</td>\n",
       "      <td>What is the monthly income of jokewap . com ?</td>\n",
       "      <td>What is your monthly income ?</td>\n",
       "      <td>0</td>\n",
       "      <td>3</td>\n",
       "      <td>2</td>\n",
       "      <td>8</td>\n",
       "      <td>...</td>\n",
       "      <td>0.032440</td>\n",
       "      <td>10.577873</td>\n",
       "      <td>1.0</td>\n",
       "      <td>0.130851</td>\n",
       "      <td>jokewap</td>\n",
       "      <td>monthly</td>\n",
       "      <td>[0 0 0 0 0 0 0 0 0 0 0 0 0 0 0 0 0 0 0 0 0 0 0...</td>\n",
       "      <td>[ 0.12704    -0.092493    0.21707     0.038711...</td>\n",
       "      <td>4.427599</td>\n",
       "      <td>NaN</td>\n",
       "    </tr>\n",
       "  </tbody>\n",
       "</table>\n",
       "<p>5 rows × 46 columns</p>\n",
       "</div>"
      ],
      "text/plain": [
       "        Unnamed: 0      id    qid1    qid2  \\\n",
       "84924        84925   84924  142416  143499   \n",
       "284521      284522  284523  404787  379437   \n",
       "321015      321016  321017  131701    4945   \n",
       "228957      228958  228959  338162  338163   \n",
       "402249      402250  402251  535718  535719   \n",
       "\n",
       "                                                question1  \\\n",
       "84924      What are some of the best WhatsApp statuses ?    \n",
       "284521  What would be the best African country to reti...   \n",
       "321015                 Are we going to war with Russia ?    \n",
       "228957    What's the best co - working space in Munich ?    \n",
       "402249     What is the monthly income of jokewap . com ?    \n",
       "\n",
       "                                                question2  is_duplicate  \\\n",
       "84924   Survey Question What is your current WhatsApp ...             0   \n",
       "284521       What are some producers in the coral reef ?              0   \n",
       "321015       What is the likelihood of war with Russia ?              1   \n",
       "228957  What's the best co - working space in London c...             0   \n",
       "402249                     What is your monthly income ?              0   \n",
       "\n",
       "        len_intersection  len_intersection_sw  num_words_q1  \\\n",
       "84924                  0                    0             8   \n",
       "284521                 2                    0            10   \n",
       "321015                 2                    1             7   \n",
       "228957                 6                    4             8   \n",
       "402249                 3                    2             8   \n",
       "\n",
       "                     ...                cosine_distance_sentence_embeddings  \\\n",
       "84924                ...                                           0.076075   \n",
       "284521               ...                                           0.013847   \n",
       "321015               ...                                           0.052232   \n",
       "228957               ...                                           0.007342   \n",
       "402249               ...                                           0.032440   \n",
       "\n",
       "        cityblock_distance_sentence_embeddings  \\\n",
       "84924                                15.394181   \n",
       "284521                                6.951705   \n",
       "321015                               13.755184   \n",
       "228957                                4.892683   \n",
       "402249                               10.577873   \n",
       "\n",
       "        jaccard_distance_sentence_embeddings  \\\n",
       "84924                                    1.0   \n",
       "284521                                   1.0   \n",
       "321015                                   1.0   \n",
       "228957                                   1.0   \n",
       "402249                                   1.0   \n",
       "\n",
       "        braycurtis_distance_sentence_embeddings  q1_highest_tfidf_weight  \\\n",
       "84924                                  0.194825                 statuses   \n",
       "284521                                 0.086751                   retire   \n",
       "321015                                 0.165243                   russia   \n",
       "228957                                 0.061728                   munich   \n",
       "402249                                 0.130851                  jokewap   \n",
       "\n",
       "        q2_highest_tfidf_weight  \\\n",
       "84924                    survey   \n",
       "284521                     reef   \n",
       "321015               likelihood   \n",
       "228957                       co   \n",
       "402249                  monthly   \n",
       "\n",
       "                                  q1_max_tf_idf_embedding  \\\n",
       "84924   [  3.07579994e-01   6.17260002e-02  -3.1863999...   \n",
       "284521  [-0.49013999 -0.10305     0.24549    -0.12166 ...   \n",
       "321015  [-0.33985999  0.18606    -0.23565     0.070993...   \n",
       "228957  [  2.35450000e-01  -3.10259998e-01  -3.6285999...   \n",
       "402249  [0 0 0 0 0 0 0 0 0 0 0 0 0 0 0 0 0 0 0 0 0 0 0...   \n",
       "\n",
       "                                  q2_max_tf_idf_embedding  \\\n",
       "84924   [-0.1737      0.14329    -0.042241    0.419270...   \n",
       "284521  [ -4.06040013e-01  -8.87480006e-02  -3.3338001...   \n",
       "321015  [-0.017332   -0.08987    -0.18223999  0.55179 ...   \n",
       "228957  [ 0.09969    -0.20532     0.20522     0.19621 ...   \n",
       "402249  [ 0.12704    -0.092493    0.21707     0.038711...   \n",
       "\n",
       "        euclidean_distance_max_tfidf_word  cosine_distance_max_tfidf_word  \n",
       "84924                            5.472867                        0.816847  \n",
       "284521                           6.275740                        0.932312  \n",
       "321015                           5.320340                        0.861500  \n",
       "228957                           5.898361                        0.869842  \n",
       "402249                           4.427599                             NaN  \n",
       "\n",
       "[5 rows x 46 columns]"
      ]
     },
     "execution_count": 4,
     "metadata": {},
     "output_type": "execute_result"
    }
   ],
   "source": [
    "data_sample.head()"
   ]
  },
  {
   "cell_type": "markdown",
   "metadata": {},
   "source": [
    "#### 0.1 Fixing the error in the `cosine_distance_max_tfidf_word` feature\n",
    "\n",
    "When creating this feature, I forgot to account for a division by zero error. I've been pushing off fixing this issue, as writing this file takes a while. I'll do it now. "
   ]
  },
  {
   "cell_type": "code",
   "execution_count": 5,
   "metadata": {
    "collapsed": true
   },
   "outputs": [],
   "source": [
    "# quick fix - fixed on the features notebook but did not re-save data yet\n",
    "\n",
    "fill = data[pd.isnull(data['cosine_distance_max_tfidf_word'])].apply(lambda x: 0 if\n",
    "                        np.array_equal(x['q1_max_tf_idf_embedding'], x['q2_max_tf_idf_embedding'])  \n",
    "                        else 1, axis = 1)\n",
    "\n",
    "data['cosine_distance_max_tfidf_word'] = data['cosine_distance_max_tfidf_word'].fillna(fill)"
   ]
  },
  {
   "cell_type": "code",
   "execution_count": 6,
   "metadata": {
    "collapsed": true
   },
   "outputs": [],
   "source": [
    "\n",
    "fill = data[pd.isnull(data['cosine_distance_sentence_embeddings'])].apply(lambda x: 0 if\n",
    "                        np.array_equal(x['q1_embedding'], x['q2_embedding'])  \n",
    "                        else 1, axis = 1)\n",
    "\n",
    "if len(fill) > 0:\n",
    "    data['cosine_distance_sentence_embeddings'] = data['cosine_distance_sentence_embeddings'].fillna(fill)"
   ]
  },
  {
   "cell_type": "markdown",
   "metadata": {},
   "source": [
    "### 1. Simple POS tagging\n",
    "\n",
    "In the proposed algorithm, we should only compare words of the same POS category (nouns, verbs, adjectives or adverbs). \n",
    "\n",
    "Below is a function which produces these broad tags for tokenized words"
   ]
  },
  {
   "cell_type": "markdown",
   "metadata": {},
   "source": [
    "#### 1.0 Conert Penn POS tags to broad tags\n",
    "\n",
    "`pos_tag` by NLTK automatcially gives fine POS tags. Example"
   ]
  },
  {
   "cell_type": "code",
   "execution_count": 14,
   "metadata": {
    "collapsed": false,
    "scrolled": true
   },
   "outputs": [
    {
     "data": {
      "text/plain": [
       "[('this', 'DT'),\n",
       " ('is', 'VBZ'),\n",
       " ('a', 'DT'),\n",
       " ('pretty', 'JJ'),\n",
       " ('sentence', 'NN')]"
      ]
     },
     "execution_count": 14,
     "metadata": {},
     "output_type": "execute_result"
    }
   ],
   "source": [
    "pos_tag(word_tokenize(\"this is a pretty sentence\"))"
   ]
  },
  {
   "cell_type": "markdown",
   "metadata": {},
   "source": [
    "This function brings them to more simple POS tags (courtesy of [bogdani](http://nlpforhackers.io/author/bogdani/))"
   ]
  },
  {
   "cell_type": "code",
   "execution_count": 7,
   "metadata": {
    "collapsed": true
   },
   "outputs": [],
   "source": [
    "def penn_to_wn(tag):\n",
    "    \"\"\" Convert between a Penn Treebank tag to a simplified Wordnet tag \"\"\"\n",
    "    if tag.startswith('N'):\n",
    "        return 'n'\n",
    " \n",
    "    if tag.startswith('V'):\n",
    "        return 'v'\n",
    " \n",
    "    if tag.startswith('J'):\n",
    "        return 'a'\n",
    " \n",
    "    if tag.startswith('R'):\n",
    "        return 'r'\n",
    " \n",
    "    return None"
   ]
  },
  {
   "cell_type": "code",
   "execution_count": 13,
   "metadata": {
    "collapsed": false,
    "scrolled": true
   },
   "outputs": [
    {
     "data": {
      "text/plain": [
       "[('this', None),\n",
       " ('is', 'v'),\n",
       " ('a', None),\n",
       " ('pretty', 'a'),\n",
       " ('sentence', 'n'),\n",
       " ('.', None)]"
      ]
     },
     "execution_count": 13,
     "metadata": {},
     "output_type": "execute_result"
    }
   ],
   "source": [
    "# test conversion\n",
    "[(word, penn_to_wn(tag)) for (word,tag) in pos_tag(word_tokenize(\"this is a pretty sentence.\"))]"
   ]
  },
  {
   "cell_type": "markdown",
   "metadata": {},
   "source": [
    "Notice: only nounds, verbs, adjectives and adverbs are tagged. Here, the determiners and punctuations are tagged as `None`. "
   ]
  },
  {
   "cell_type": "markdown",
   "metadata": {},
   "source": [
    "### 2. Get synsets\n",
    "\n",
    "Now we can get the synset of the most common sense of word, filtered by part of speech (again courtesy of [bogdani](http://nlpforhackers.io/author/bogdani/))"
   ]
  },
  {
   "cell_type": "code",
   "execution_count": 8,
   "metadata": {
    "collapsed": false
   },
   "outputs": [],
   "source": [
    "# get the most common synset for a tagged word from WordNet. \n",
    "def tagged_to_synset(word, tag):\n",
    "    wn_tag = penn_to_wn(tag)\n",
    "    if wn_tag is None:\n",
    "        return None\n",
    "    try:\n",
    "        # get the first synset of the word in WordNet\n",
    "        return wn.synsets(word, wn_tag)[0]\n",
    "    except:\n",
    "        return None"
   ]
  },
  {
   "cell_type": "code",
   "execution_count": 24,
   "metadata": {
    "collapsed": false
   },
   "outputs": [
    {
     "data": {
      "text/plain": [
       "[('this', 'DT'),\n",
       " ('is', 'VBZ'),\n",
       " ('a', 'DT'),\n",
       " ('pretty', 'JJ'),\n",
       " ('sentence', 'NN'),\n",
       " ('.', '.')]"
      ]
     },
     "execution_count": 24,
     "metadata": {},
     "output_type": "execute_result"
    }
   ],
   "source": [
    "# example\n",
    "ex = pos_tag(word_tokenize(\"this is a pretty sentence.\"))\n",
    "ex"
   ]
  },
  {
   "cell_type": "code",
   "execution_count": 25,
   "metadata": {
    "collapsed": false
   },
   "outputs": [
    {
     "data": {
      "text/plain": [
       "[None,\n",
       " Synset('be.v.01'),\n",
       " None,\n",
       " Synset('pretty.s.01'),\n",
       " Synset('sentence.n.01'),\n",
       " None]"
      ]
     },
     "execution_count": 25,
     "metadata": {},
     "output_type": "execute_result"
    }
   ],
   "source": [
    "[tagged_to_synset(word,tag) for (word,tag) in ex]"
   ]
  },
  {
   "cell_type": "markdown",
   "metadata": {},
   "source": [
    "### 3. Sentence similarities\n",
    "\n",
    "Now, I'll define series of functions for finding the sentence similarity scores for pairs of sentences, using a variety of wordnet distance metrics. \n",
    "\n"
   ]
  },
  {
   "cell_type": "markdown",
   "metadata": {},
   "source": [
    "#### 3.0 Path similarity\n",
    "\n",
    "This score is the distance betweeen synsets in WordNet - through the hyponym/hypernym path"
   ]
  },
  {
   "cell_type": "code",
   "execution_count": 68,
   "metadata": {
    "collapsed": false
   },
   "outputs": [
    {
     "data": {
      "text/plain": [
       "[('this', 'DT'), ('is', 'VBZ'), ('a', 'DT'), ('word', 'NN')]"
      ]
     },
     "execution_count": 68,
     "metadata": {},
     "output_type": "execute_result"
    }
   ],
   "source": [
    " pos_tag(word_tokenize(\"this is a word\"))"
   ]
  },
  {
   "cell_type": "code",
   "execution_count": 147,
   "metadata": {
    "collapsed": false
   },
   "outputs": [],
   "source": [
    "def path_similarity(sentence1, sentence2):\n",
    "    \"\"\" compute the sentence similarity using Wordnet \"\"\"\n",
    "    # Tokenize and tag\n",
    "    sentence1 = pos_tag(word_tokenize(sentence1))\n",
    "    sentence2 = pos_tag(word_tokenize(sentence2))\n",
    " \n",
    "    # Get the synsets for the tagged words\n",
    "    synsets1 = [tagged_to_synset(*tagged_word) for tagged_word in sentence1]\n",
    "    synsets2 = [tagged_to_synset(*tagged_word) for tagged_word in sentence2]\n",
    "    \n",
    "    # Zip up the synsets and the words/POS tags\n",
    "    zipped1 = zip(sentence1,synsets1)\n",
    "    zipped2 = zip(sentence2,synsets2)\n",
    "    \n",
    "    # filter out the Nones\n",
    "    zipped1 = [z for z in zipped1 if z[1] is not None]\n",
    "    zipped2 = [z for z in zipped2 if z[1] is not None]\n",
    " \n",
    " \n",
    "    score1, count1, score2, count2 = 0.0, 0, 0.0, 0 \n",
    " \n",
    "    # For each word in the first sentence\n",
    "    for tup1 in zipped1:\n",
    "        try:\n",
    "            # Get the similarity value of the most similar word in the other sentence\n",
    "            best_score = max([tup1[1].path_similarity(ss[1]) for ss in zipped2 if \\\n",
    "                              penn_to_wn(ss[0][1]) == penn_to_wn(tup1[0][1])])\n",
    "        except:\n",
    "            best_score = None\n",
    " \n",
    "        # Check that the similarity could have been computed\n",
    "        if best_score is not None:\n",
    "            score1 += best_score\n",
    "            count1 += 1\n",
    "            \n",
    "    for tup2 in zipped2:\n",
    "        try:\n",
    "            # Get the similarity value of the most similar word in the other sentence\n",
    "            best_score = max([tup2[1].path_similarity(ss[1]) for ss in zipped1 if \\\n",
    "                              penn_to_wn(ss[0][1]) == penn_to_wn(tup2[0][1])])\n",
    "        except:\n",
    "            best_score = None\n",
    "        # Check that the similarity could have been computed\n",
    "        if best_score is not None:\n",
    "            score2 += best_score\n",
    "            count2 += 1\n",
    " \n",
    "    try:\n",
    "        # Average the values and add score from both sides to get symmetic distance\n",
    "        score = .5*(score1/count1 + score2/count2)\n",
    "        return(score)\n",
    "    except:\n",
    "        return(None)"
   ]
  },
  {
   "cell_type": "code",
   "execution_count": 370,
   "metadata": {
    "collapsed": false
   },
   "outputs": [
    {
     "data": {
      "text/plain": [
       "0.20575396825396824"
      ]
     },
     "execution_count": 370,
     "metadata": {},
     "output_type": "execute_result"
    }
   ],
   "source": [
    "path_similarity(\"The Mona-Lisa is pretty overrated if you ask me\", \\\n",
    "                      \"I hope that it will not rain tomorrow\")"
   ]
  },
  {
   "cell_type": "code",
   "execution_count": 371,
   "metadata": {
    "collapsed": false
   },
   "outputs": [
    {
     "data": {
      "text/plain": [
       "0.7555555555555555"
      ]
     },
     "execution_count": 371,
     "metadata": {},
     "output_type": "execute_result"
    }
   ],
   "source": [
    "path_similarity(\"Cats are beautiful animals.\", \"Dogs are awesome creatures\")"
   ]
  },
  {
   "cell_type": "code",
   "execution_count": 372,
   "metadata": {
    "collapsed": false
   },
   "outputs": [
    {
     "data": {
      "text/plain": [
       "0.12751702662416947"
      ]
     },
     "execution_count": 372,
     "metadata": {},
     "output_type": "execute_result"
    }
   ],
   "source": [
    "path_similarity(\"Trump reverses ban on importing remains of African elephants killed as trophies\", \\\n",
    "                      \"Native American tribe bracing for Keystone pipeline leak impact\")"
   ]
  },
  {
   "cell_type": "markdown",
   "metadata": {},
   "source": [
    "#### 3.1 Leacock-Chodorow Similarity\n",
    "\n",
    "This similarity score is similar to the path similarity, but also incorporates the depth of the word in the WordNet taxonomy. The deeper the taxonomy depth, the higher the similarity score.\n",
    "\n",
    "The intuition is that the deeper the word are in the tree, the longer the paths between them in genereal. The second factor counters this fact. "
   ]
  },
  {
   "cell_type": "code",
   "execution_count": 395,
   "metadata": {
    "collapsed": false
   },
   "outputs": [],
   "source": [
    "def lch_similarity(sentence1, sentence2):\n",
    "    \"\"\" compute the sentence similarity using Wordnet \"\"\"\n",
    "    # Tokenize and tag\n",
    "    sentence1 = pos_tag(word_tokenize(sentence1))\n",
    "    sentence2 = pos_tag(word_tokenize(sentence2))\n",
    " \n",
    "    # Get the synsets for the tagged words\n",
    "    synsets1 = [tagged_to_synset(*tagged_word) for tagged_word in sentence1]\n",
    "    synsets2 = [tagged_to_synset(*tagged_word) for tagged_word in sentence2]\n",
    "    \n",
    "    # Zip up the synsets and the words/POS tags\n",
    "    zipped1 = zip(sentence1,synsets1)\n",
    "    zipped2 = zip(sentence2,synsets2)\n",
    "    \n",
    "    # filter out the Nones\n",
    "    zipped1 = [z for z in zipped1 if z[1] is not None]\n",
    "    zipped2 = [z for z in zipped2 if z[1] is not None]\n",
    "    \n",
    "    score1, count1, score2, count2 = 0.0, 0, 0.0, 0 \n",
    "    \n",
    "    # For each word in the first sentence\n",
    "    for tup1 in zipped1:\n",
    "        try:\n",
    "            # Get the similarity value of the most similar word in the other sentence\n",
    "            best_score = max([tup1[1].lch_similarity(ss[1]) for ss in zipped2 if \\\n",
    "                              penn_to_wn(ss[0][1]) == penn_to_wn(tup1[0][1])])\n",
    "        except:\n",
    "            best_score = None\n",
    "        # Check that the similarity could have been computed\n",
    "        if best_score is not None:\n",
    "            score1 += best_score\n",
    "            count1 += 1\n",
    "            \n",
    "    for tup2 in zipped2:\n",
    "        try:\n",
    "            # Get the similarity value of the most similar word in the other sentence\n",
    "            best_score = max([tup2[1].lch_similarity(ss[1]) for ss in zipped1 if \\\n",
    "                              penn_to_wn(ss[0][1]) == penn_to_wn(tup2[0][1])])\n",
    "        except:\n",
    "            best_score = None\n",
    "            \n",
    "        # Check that the similarity could have been computed\n",
    "        if best_score is not None:\n",
    "            score2 += best_score\n",
    "            count2 += 1\n",
    " \n",
    "    try:\n",
    "        # Average the values and add score from both sides to get symmetic distance\n",
    "        score = .5*(score1/count1 + score2/count2)\n",
    "        return(score)\n",
    "    except:\n",
    "        return(None)"
   ]
  },
  {
   "cell_type": "code",
   "execution_count": 374,
   "metadata": {
    "collapsed": false
   },
   "outputs": [
    {
     "data": {
      "text/plain": [
       "1.42868502671942"
      ]
     },
     "execution_count": 374,
     "metadata": {},
     "output_type": "execute_result"
    }
   ],
   "source": [
    "lch_similarity(\"Trump reverses ban on importing remains of African elephants killed as trophies\", \\\n",
    "                      \"Native American tribe bracing for Keystone pipeline leak impact\")"
   ]
  },
  {
   "cell_type": "code",
   "execution_count": 396,
   "metadata": {
    "collapsed": false
   },
   "outputs": [],
   "source": [
    "lch_similarity(data.ix[221]['question1'], data.ix[221]['question2'])"
   ]
  },
  {
   "cell_type": "markdown",
   "metadata": {},
   "source": [
    "#### 3.2 Wu-Palmer Similarity\n",
    "\n",
    "This similarity score is \"based on the depth of the two senses in the taxonomy and that of their Least Common Subsumer (most specific ancestor node).\""
   ]
  },
  {
   "cell_type": "code",
   "execution_count": 375,
   "metadata": {
    "collapsed": false
   },
   "outputs": [],
   "source": [
    "def wup_similarity(sentence1, sentence2):\n",
    "    \"\"\" compute the sentence similarity using Wordnet \"\"\"\n",
    "    # Tokenize and tag\n",
    "    sentence1 = pos_tag(word_tokenize(sentence1))\n",
    "    sentence2 = pos_tag(word_tokenize(sentence2))\n",
    " \n",
    "    # Get the synsets for the tagged words\n",
    "    synsets1 = [tagged_to_synset(*tagged_word) for tagged_word in sentence1]\n",
    "    synsets2 = [tagged_to_synset(*tagged_word) for tagged_word in sentence2]\n",
    "    \n",
    "    # Zip up the synsets and the words/POS tags\n",
    "    zipped1 = zip(sentence1,synsets1)\n",
    "    zipped2 = zip(sentence2,synsets2)\n",
    "    \n",
    "    # filter out the Nones\n",
    "    zipped1 = [z for z in zipped1 if z[1] is not None]\n",
    "    zipped2 = [z for z in zipped2 if z[1] is not None]\n",
    " \n",
    "    score1, count1, score2, count2 = 0.0, 0, 0.0, 0 \n",
    " \n",
    "    # For each word in the first sentence\n",
    "    for tup1 in zipped1:\n",
    "        try:\n",
    "            # Get the similarity value of the most similar word in the other sentence\n",
    "            best_score = max([tup1[1].wup_similarity(ss[1]) for ss in zipped2 if \\\n",
    "                              penn_to_wn(ss[0][1]) == penn_to_wn(tup1[0][1])])\n",
    "        except:\n",
    "            best_score = None\n",
    " \n",
    "        # Check that the similarity could have been computed\n",
    "        if best_score is not None:\n",
    "            score1 += best_score\n",
    "            count1 += 1\n",
    "            \n",
    "    for tup2 in zipped2:\n",
    "        try:\n",
    "            # Get the similarity value of the most similar word in the other sentence\n",
    "            best_score = max([tup2[1].wup_similarity(ss[1]) for ss in zipped1 if \\\n",
    "                              penn_to_wn(ss[0][1]) == penn_to_wn(tup2[0][1])])\n",
    "        except:\n",
    "            best_score = None\n",
    " \n",
    "        # Check that the similarity could have been computed\n",
    "        if best_score is not None:\n",
    "            score2 += best_score\n",
    "            count2 += 1\n",
    " \n",
    "    # Average the values and add score from both sides to get symmetic distance\n",
    "    try:\n",
    "        score = .5*(score1/count1 + score2/count2)\n",
    "        return(score)\n",
    "    except:\n",
    "        return(None)"
   ]
  },
  {
   "cell_type": "code",
   "execution_count": 376,
   "metadata": {
    "collapsed": false
   },
   "outputs": [
    {
     "data": {
      "text/plain": [
       "0.9553571428571429"
      ]
     },
     "execution_count": 376,
     "metadata": {},
     "output_type": "execute_result"
    }
   ],
   "source": [
    "wup_similarity(\"Cats are beautiful animals.\", \"Dogs are awesome creatures\")"
   ]
  },
  {
   "cell_type": "code",
   "execution_count": 222,
   "metadata": {
    "collapsed": false
   },
   "outputs": [
    {
     "data": {
      "text/plain": [
       "0.3392857142857143"
      ]
     },
     "execution_count": 222,
     "metadata": {},
     "output_type": "execute_result"
    }
   ],
   "source": [
    "wup_similarity(\"The Mona-Lisa is pretty overrated if you ask me\", \\\n",
    "                      \"I hope that it will not rain tomorrow\")"
   ]
  },
  {
   "cell_type": "code",
   "execution_count": 223,
   "metadata": {
    "collapsed": false,
    "scrolled": true
   },
   "outputs": [
    {
     "data": {
      "text/plain": [
       "0.3534215959110917"
      ]
     },
     "execution_count": 223,
     "metadata": {},
     "output_type": "execute_result"
    }
   ],
   "source": [
    "wup_similarity(\"Trump reverses ban on importing remains of African elephants killed as trophies\", \\\n",
    "                      \"Native American tribe bracing for Keystone pipeline leak impact\")"
   ]
  },
  {
   "cell_type": "code",
   "execution_count": 224,
   "metadata": {
    "collapsed": false
   },
   "outputs": [
    {
     "data": {
      "text/plain": [
       "0.7467086834733894"
      ]
     },
     "execution_count": 224,
     "metadata": {},
     "output_type": "execute_result"
    }
   ],
   "source": [
    "wup_similarity(\"I like to study in the montreal area with my friends\", \\\n",
    "                      \"I like to study in New York with my buddies\")"
   ]
  },
  {
   "cell_type": "markdown",
   "metadata": {},
   "source": [
    "---\n",
    "\n",
    "### 4. Including Idf scores\n",
    "\n",
    "In the original paper, the similarity score was designed to incorporate Idf scores:\n",
    "\n",
    "$$\n",
    "Similarity(T_1,T_2) = \\frac{1}{2}( \\frac{\\sum_{w \\in T_1}MaxSimilarity(w, T_2)idf(w)}{\\sum_{w \\in T_1}idf(w)}\n",
    "+ \\frac{\\sum_{w \\in T_2}MaxSimilarity(w, T_1)idf(w)}{\\sum_{w \\in T_2}idf(w)})\n",
    "$$\n",
    "\n",
    "So far I've only implemented a simplifaction of this model, without Idf scores:\n",
    "\n",
    "$$\n",
    "Similarity(T_1,T_2) = \\frac{1}{2}(\\frac{( \\sum_{w \\in T_1}MaxSimilarity(w, T_2)}{|T_1|} + \n",
    "\\frac{\\sum_{w \\in T_2}MaxSimilarity(w, T_1))}{|T_2|})\n",
    "$$\n",
    "\n",
    "Now, I'll calculate Idf scores, and re-implement these similarity scores to adhere to the original paper. "
   ]
  },
  {
   "cell_type": "markdown",
   "metadata": {},
   "source": [
    "#### 4.0 Calculating Idf Scores\n",
    "\n",
    "To calculate Idf scores, I need the document frequency of each word.\n",
    "\n",
    "To do this, I'll use Sklearns `TfidfVectorizer`, and extract the Idf dictionary fit by this model. "
   ]
  },
  {
   "cell_type": "code",
   "execution_count": 24,
   "metadata": {
    "collapsed": false
   },
   "outputs": [
    {
     "data": {
      "text/plain": [
       "TfidfVectorizer(analyzer=u'word', binary=False, decode_error=u'strict',\n",
       "        dtype=<type 'numpy.int64'>, encoding=u'utf-8', input=u'content',\n",
       "        lowercase=True, max_df=1.0, max_features=None, min_df=1,\n",
       "        ngram_range=(1, 1), norm=u'l2', preprocessor=None, smooth_idf=True,\n",
       "        stop_words=None, strip_accents=None, sublinear_tf=False,\n",
       "        token_pattern=u'(?u)\\\\b\\\\w\\\\w+\\\\b', tokenizer=None, use_idf=True,\n",
       "        vocabulary=None)"
      ]
     },
     "execution_count": 24,
     "metadata": {},
     "output_type": "execute_result"
    }
   ],
   "source": [
    "# get all the corpus in one numpy array\n",
    "values = data['question1'].append(data['question2']).apply(lambda x: re.sub('[ ]{2,}', ' ', re.sub('[^a-z]', ' ', x.strip()))\n",
    "                                                      ).values\n",
    "# train tf-idf weights to the training quesitons\n",
    "vectorizer = TfidfVectorizer(lowercase = True)\n",
    "vectorizer.fit(values)"
   ]
  },
  {
   "cell_type": "code",
   "execution_count": 30,
   "metadata": {
    "collapsed": false
   },
   "outputs": [],
   "source": [
    "# store a dictionary of Idf weights. \n",
    "vectorizer.idf_\n",
    "idf_dict =  dict(zip(vectorizer.get_feature_names(), vectorizer.idf_))"
   ]
  },
  {
   "cell_type": "markdown",
   "metadata": {},
   "source": [
    "#### 4.1 Redefining the distance score functions to include Idf weights"
   ]
  },
  {
   "cell_type": "code",
   "execution_count": 377,
   "metadata": {
    "collapsed": false
   },
   "outputs": [],
   "source": [
    "def path_similarity_idf(sentence1, sentence2, idf_dict = idf_dict):\n",
    "    \"\"\" compute the sentence path similarity using Wordnet.\n",
    "    Incude IDF scores\n",
    "    \"\"\"\n",
    "    # Tokenize and tag\n",
    "    sentence1 = pos_tag(word_tokenize(sentence1))\n",
    "    sentence2 = pos_tag(word_tokenize(sentence2))\n",
    " \n",
    "    # Get the synsets for the tagged words\n",
    "    synsets1 = [tagged_to_synset(*tagged_word) for tagged_word in sentence1]\n",
    "    synsets2 = [tagged_to_synset(*tagged_word) for tagged_word in sentence2]\n",
    "    \n",
    "    # Zip up the synsets and the words/POS tags\n",
    "    zipped1 = zip(sentence1,synsets1)\n",
    "    zipped2 = zip(sentence2,synsets2)\n",
    "    \n",
    "    # filter out the Nones\n",
    "    zipped1 = [z for z in zipped1 if z[1] is not None]\n",
    "    zipped2 = [z for z in zipped2 if z[1] is not None]\n",
    "    \n",
    "\n",
    "    score1, score2, idf_sum1, idf_sum2 = 0.0, 0.0, 0.0, 0.0\n",
    " \n",
    "    # For each word in the first sentence\n",
    "    for tup1 in zipped1:\n",
    "        try:\n",
    "\n",
    "            # isolate the synset object\n",
    "            synset1 = tup1[1]\n",
    "            # isolate the part of speech \n",
    "            synset1_pos = tup1[0][1]\n",
    "            # isolate the word. lowercase so that can be found in IDF dictionary.\n",
    "            word1 = tup1[0][0].lower()\n",
    "            # isolate the idf score\n",
    "            idf1 = idf_dict[word1]\n",
    "            \n",
    "            # Get the similarity value of the most similar word in the other sentence\n",
    "            best_score = max([synset1.path_similarity(ss[1]) for \\\n",
    "                              ss in zipped2 if penn_to_wn(ss[0][1]) == penn_to_wn(synset1_pos)])\n",
    "        except Exception as e:\n",
    "            best_score = None\n",
    "            idf1 = None\n",
    " \n",
    "        # Check that the similarity could have been computed. \n",
    "        # This means that the word was found in WordNet and in the IDF score dictionary.\n",
    "        if best_score is not None and idf1 is not None:\n",
    "            score1 += best_score*idf1\n",
    "            idf_sum1 += idf1\n",
    "            \n",
    "    for tup2 in zipped2:\n",
    "        try:\n",
    "            # isolate the synset object\n",
    "            synset2 = tup2[1]\n",
    "            # isolate the part of speech \n",
    "            synset2_pos = tup2[0][1]\n",
    "            # isolate the word. lowercase so that can be found in IDF dictionary.\n",
    "            word2 = tup2[0][0].lower()            # isolate the idf score\n",
    "            idf2 = idf_dict[word2]\n",
    "\n",
    "            # Get the similarity value of the most similar word in the other sentence\n",
    "            best_score = max([synset2.path_similarity(ss[1]) for ss in zipped1 if \\\n",
    "                              penn_to_wn(ss[0][1]) == penn_to_wn(synset2_pos)])\n",
    "            \n",
    "        except:\n",
    "            best_score = None\n",
    "            idf2 = None\n",
    "        # Check that the similarity could have been computed\n",
    "        if best_score is not None and idf2 is not None:\n",
    "            score2 += best_score*idf2\n",
    "            idf_sum2 += idf2\n",
    "\n",
    " \n",
    "    try:\n",
    "        # Average the values and add score from both sides to get symmetic distance\n",
    "        score = .5*(score1/(idf_sum1) + score2/(idf_sum2))\n",
    "        return(score)\n",
    "    except:\n",
    "        return(None)"
   ]
  },
  {
   "cell_type": "code",
   "execution_count": 378,
   "metadata": {
    "collapsed": false
   },
   "outputs": [
    {
     "data": {
      "text/plain": [
       "0.20575396825396824"
      ]
     },
     "execution_count": 378,
     "metadata": {},
     "output_type": "execute_result"
    }
   ],
   "source": [
    "path_similarity(\"The Mona-Lisa is pretty overrated if you ask me\", \\\n",
    "                      \"I hope that it will not rain tomorrow\")"
   ]
  },
  {
   "cell_type": "code",
   "execution_count": 379,
   "metadata": {
    "collapsed": false
   },
   "outputs": [
    {
     "data": {
      "text/plain": [
       "0.197041524099238"
      ]
     },
     "execution_count": 379,
     "metadata": {},
     "output_type": "execute_result"
    }
   ],
   "source": [
    "path_similarity_idf(\"The Mona-Lisa is pretty overrated if you ask me\", \\\n",
    "                      \"I hope that it will not rain tomorrow\")"
   ]
  },
  {
   "cell_type": "code",
   "execution_count": 228,
   "metadata": {
    "collapsed": false
   },
   "outputs": [
    {
     "data": {
      "text/plain": [
       "0.7555555555555555"
      ]
     },
     "execution_count": 228,
     "metadata": {},
     "output_type": "execute_result"
    }
   ],
   "source": [
    "path_similarity(\"Cats are beautiful animals.\", \"Dogs are awesome creatures\")"
   ]
  },
  {
   "cell_type": "code",
   "execution_count": 261,
   "metadata": {
    "collapsed": true
   },
   "outputs": [],
   "source": [
    "def lch_similarity_idf(sentence1, sentence2, idf_dict = idf_dict):\n",
    "    \"\"\" \n",
    "    compute the sentence Leacock-Chodorow similarity using Wordnet.\n",
    "    Incude IDF scores.\n",
    "    \"\"\"\n",
    "    # Tokenize and tag\n",
    "    sentence1 = pos_tag(word_tokenize(sentence1))\n",
    "    sentence2 = pos_tag(word_tokenize(sentence2))\n",
    " \n",
    "    # Get the synsets for the tagged words\n",
    "    synsets1 = [tagged_to_synset(*tagged_word) for tagged_word in sentence1]\n",
    "    synsets2 = [tagged_to_synset(*tagged_word) for tagged_word in sentence2]\n",
    "    \n",
    "    # Zip up the synsets and the words/POS tags\n",
    "    zipped1 = zip(sentence1,synsets1)\n",
    "    zipped2 = zip(sentence2,synsets2)\n",
    "    \n",
    "    # filter out the Nones\n",
    "    zipped1 = [z for z in zipped1 if z[1] is not None]\n",
    "    zipped2 = [z for z in zipped2 if z[1] is not None]\n",
    "    \n",
    "\n",
    "    score1, score2, idf_sum1, idf_sum2 = 0.0, 0.0, 0.0, 0.0\n",
    " \n",
    "    # For each word in the first sentence\n",
    "    for tup1 in zipped1:\n",
    "        try:\n",
    "\n",
    "            # isolate the synset object\n",
    "            synset1 = tup1[1]\n",
    "            # isolate the part of speech \n",
    "            synset1_pos = tup1[0][1]\n",
    "            # isolate the word. lowercase so that can be found in IDF dictionary.\n",
    "            word1 = tup1[0][0].lower()\n",
    "            # isolate the idf score\n",
    "            idf1 = idf_dict[word1]\n",
    "            \n",
    "            # Get the similarity value of the most similar word in the other sentence\n",
    "            best_score = max([synset1.lch_similarity(ss[1]) for \\\n",
    "                              ss in zipped2 if penn_to_wn(ss[0][1]) == penn_to_wn(synset1_pos)])\n",
    "        except Exception as e:\n",
    "            best_score = None\n",
    "            idf1 = None\n",
    " \n",
    "        # Check that the similarity could have been computed. \n",
    "        # This means that the word was found in WordNet and in the IDF score dictionary.\n",
    "        if best_score is not None and idf1 is not None:\n",
    "            score1 += best_score*idf1\n",
    "            idf_sum1 += idf1\n",
    "            \n",
    "    for tup2 in zipped2:\n",
    "        try:\n",
    "            # isolate the synset object\n",
    "            synset2 = tup2[1]\n",
    "            # isolate the part of speech \n",
    "            synset2_pos = tup2[0][1]\n",
    "            # isolate the word. lowercase so that can be found in IDF dictionary.\n",
    "            word2 = tup2[0][0].lower()            # isolate the idf score\n",
    "            idf2 = idf_dict[word2]\n",
    "\n",
    "            # Get the similarity value of the most similar word in the other sentence\n",
    "            best_score = max([synset2.lch_similarity(ss[1]) for ss in zipped1 if \\\n",
    "                              penn_to_wn(ss[0][1]) == penn_to_wn(synset2_pos)])\n",
    "            \n",
    "        except:\n",
    "            best_score = None\n",
    "            idf2 = None\n",
    "        # Check that the similarity could have been computed\n",
    "        if best_score is not None and idf2 is not None:\n",
    "            score2 += best_score*idf2\n",
    "            idf_sum2 += idf2\n",
    "\n",
    " \n",
    "    try:\n",
    "        # Average the values and add score from both sides to get symmetic distance\n",
    "        score = .5*(score1/(idf_sum1) + score2/(idf_sum2))\n",
    "        return(score)\n",
    "    except:\n",
    "        return(None)"
   ]
  },
  {
   "cell_type": "code",
   "execution_count": 263,
   "metadata": {
    "collapsed": false
   },
   "outputs": [
    {
     "data": {
      "text/plain": [
       "1.42868502671942"
      ]
     },
     "execution_count": 263,
     "metadata": {},
     "output_type": "execute_result"
    }
   ],
   "source": [
    "lch_similarity(\"Trump reverses ban on importing remains of African elephants killed as trophies\", \\\n",
    "                      \"Native American tribe bracing for Keystone pipeline leak impact\")"
   ]
  },
  {
   "cell_type": "code",
   "execution_count": 262,
   "metadata": {
    "collapsed": false
   },
   "outputs": [
    {
     "data": {
      "text/plain": [
       "1.4068721839742344"
      ]
     },
     "execution_count": 262,
     "metadata": {},
     "output_type": "execute_result"
    }
   ],
   "source": [
    "lch_similarity_idf(\"Trump reverses ban on importing remains of African elephants killed as trophies\", \\\n",
    "                      \"Native American tribe bracing for Keystone pipeline leak impact\")"
   ]
  },
  {
   "cell_type": "code",
   "execution_count": 264,
   "metadata": {
    "collapsed": false
   },
   "outputs": [
    {
     "data": {
      "text/plain": [
       "3.0597479189743826"
      ]
     },
     "execution_count": 264,
     "metadata": {},
     "output_type": "execute_result"
    }
   ],
   "source": [
    "lch_similarity(\"Cats are beautiful animals.\", \"Dogs are awesome creatures\")"
   ]
  },
  {
   "cell_type": "code",
   "execution_count": 265,
   "metadata": {
    "collapsed": false
   },
   "outputs": [
    {
     "data": {
      "text/plain": [
       "3.0283650929368324"
      ]
     },
     "execution_count": 265,
     "metadata": {},
     "output_type": "execute_result"
    }
   ],
   "source": [
    "lch_similarity_idf(\"Cats are beautiful animals.\", \"Dogs are awesome creatures\")"
   ]
  },
  {
   "cell_type": "code",
   "execution_count": 266,
   "metadata": {
    "collapsed": true
   },
   "outputs": [],
   "source": [
    "def wup_similarity_idf(sentence1, sentence2, idf_dict = idf_dict):\n",
    "    \"\"\" \n",
    "    compute the sentence Wu-Palmer similarity using Wordnet.\n",
    "    Incude IDF scores.\n",
    "    \"\"\"\n",
    "    # Tokenize and tag\n",
    "    sentence1 = pos_tag(word_tokenize(sentence1))\n",
    "    sentence2 = pos_tag(word_tokenize(sentence2))\n",
    " \n",
    "    # Get the synsets for the tagged words\n",
    "    synsets1 = [tagged_to_synset(*tagged_word) for tagged_word in sentence1]\n",
    "    synsets2 = [tagged_to_synset(*tagged_word) for tagged_word in sentence2]\n",
    "    \n",
    "    # Zip up the synsets and the words/POS tags\n",
    "    zipped1 = zip(sentence1,synsets1)\n",
    "    zipped2 = zip(sentence2,synsets2)\n",
    "    \n",
    "    # filter out the Nones\n",
    "    zipped1 = [z for z in zipped1 if z[1] is not None]\n",
    "    zipped2 = [z for z in zipped2 if z[1] is not None]\n",
    "    \n",
    "\n",
    "    score1, score2, idf_sum1, idf_sum2 = 0.0, 0.0, 0.0, 0.0\n",
    " \n",
    "    # For each word in the first sentence\n",
    "    for tup1 in zipped1:\n",
    "        try:\n",
    "\n",
    "            # isolate the synset object\n",
    "            synset1 = tup1[1]\n",
    "            # isolate the part of speech \n",
    "            synset1_pos = tup1[0][1]\n",
    "            # isolate the word. lowercase so that can be found in IDF dictionary.\n",
    "            word1 = tup1[0][0].lower()\n",
    "            # isolate the idf score\n",
    "            idf1 = idf_dict[word1]\n",
    "            \n",
    "            # Get the similarity value of the most similar word in the other sentence\n",
    "            best_score = max([synset1.wup_similarity(ss[1]) for \\\n",
    "                              ss in zipped2 if penn_to_wn(ss[0][1]) == penn_to_wn(synset1_pos)])\n",
    "        except Exception as e:\n",
    "            best_score = None\n",
    "            idf1 = None\n",
    " \n",
    "        # Check that the similarity could have been computed. \n",
    "        # This means that the word was found in WordNet and in the IDF score dictionary.\n",
    "        if best_score is not None and idf1 is not None:\n",
    "            score1 += best_score*idf1\n",
    "            idf_sum1 += idf1\n",
    "            \n",
    "    for tup2 in zipped2:\n",
    "        try:\n",
    "            # isolate the synset object\n",
    "            synset2 = tup2[1]\n",
    "            # isolate the part of speech \n",
    "            synset2_pos = tup2[0][1]\n",
    "            # isolate the word. lowercase so that can be found in IDF dictionary.\n",
    "            word2 = tup2[0][0].lower()            # isolate the idf score\n",
    "            idf2 = idf_dict[word2]\n",
    "\n",
    "            # Get the similarity value of the most similar word in the other sentence\n",
    "            best_score = max([synset2.wup_similarity(ss[1]) for ss in zipped1 if \\\n",
    "                              penn_to_wn(ss[0][1]) == penn_to_wn(synset2_pos)])\n",
    "            \n",
    "        except:\n",
    "            best_score = None\n",
    "            idf2 = None\n",
    "        # Check that the similarity could have been computed\n",
    "        if best_score is not None and idf2 is not None:\n",
    "            score2 += best_score*idf2\n",
    "            idf_sum2 += idf2\n",
    "\n",
    " \n",
    "    try:\n",
    "        # Average the values and add score from both sides to get symmetic distance\n",
    "        score = .5*(score1/(idf_sum1) + score2/(idf_sum2))\n",
    "        return(score)\n",
    "    except:\n",
    "        return(None)"
   ]
  },
  {
   "cell_type": "code",
   "execution_count": 267,
   "metadata": {
    "collapsed": false
   },
   "outputs": [
    {
     "data": {
      "text/plain": [
       "0.9553571428571429"
      ]
     },
     "execution_count": 267,
     "metadata": {},
     "output_type": "execute_result"
    }
   ],
   "source": [
    "wup_similarity(\"Cats are beautiful animals.\", \"Dogs are awesome creatures\")"
   ]
  },
  {
   "cell_type": "code",
   "execution_count": 268,
   "metadata": {
    "collapsed": false
   },
   "outputs": [
    {
     "data": {
      "text/plain": [
       "0.94574068329858463"
      ]
     },
     "execution_count": 268,
     "metadata": {},
     "output_type": "execute_result"
    }
   ],
   "source": [
    "wup_similarity_idf(\"Cats are beautiful animals.\", \"Dogs are awesome creatures\")"
   ]
  },
  {
   "cell_type": "code",
   "execution_count": 272,
   "metadata": {
    "collapsed": false
   },
   "outputs": [
    {
     "data": {
      "text/plain": [
       "0.3534215959110917"
      ]
     },
     "execution_count": 272,
     "metadata": {},
     "output_type": "execute_result"
    }
   ],
   "source": [
    "wup_similarity(\"Trump reverses ban on importing remains of African elephants killed as trophies\", \\\n",
    "                      \"Native American tribe bracing for Keystone pipeline leak impact\")"
   ]
  },
  {
   "cell_type": "code",
   "execution_count": 273,
   "metadata": {
    "collapsed": false
   },
   "outputs": [
    {
     "data": {
      "text/plain": [
       "0.36194500203740954"
      ]
     },
     "execution_count": 273,
     "metadata": {},
     "output_type": "execute_result"
    }
   ],
   "source": [
    "wup_similarity_idf(\"Trump reverses ban on importing remains of African elephants killed as trophies\", \\\n",
    "                      \"Native American tribe bracing for Keystone pipeline leak impact\")"
   ]
  },
  {
   "cell_type": "code",
   "execution_count": 274,
   "metadata": {
    "collapsed": false
   },
   "outputs": [
    {
     "data": {
      "text/plain": [
       "1.0"
      ]
     },
     "execution_count": 274,
     "metadata": {},
     "output_type": "execute_result"
    }
   ],
   "source": [
    "wup_similarity(\"Cats are beautiful animals.\", \"Cats are beautiful animals.\")"
   ]
  },
  {
   "cell_type": "code",
   "execution_count": 275,
   "metadata": {
    "collapsed": false
   },
   "outputs": [
    {
     "data": {
      "text/plain": [
       "1.0"
      ]
     },
     "execution_count": 275,
     "metadata": {},
     "output_type": "execute_result"
    }
   ],
   "source": [
    "wup_similarity_idf(\"Cats are beautiful animals.\", \"Cats are beautiful animals.\")"
   ]
  },
  {
   "cell_type": "markdown",
   "metadata": {},
   "source": [
    "### 5. Variant: Similarity Scores using Word Embeddings\n",
    "\n",
    "As an extension, I will define two functions which apply the same scoring scheme, but this time the similarity between sentences is defined using cosine-similarity of the Word2Vec embeddings. \n",
    "\n",
    "This time, I will relax the requirement that words must be in the same part of speech. This is because I am no longer searching WordNet - which requires a part of speech tag to specify a synset. \n",
    "\n",
    "I will remove stopwords, however, after the sentence has been tagged. "
   ]
  },
  {
   "cell_type": "code",
   "execution_count": 353,
   "metadata": {
    "collapsed": false
   },
   "outputs": [],
   "source": [
    "def embedding_similarity_score(sentence1, sentence2):\n",
    "    \"\"\" compute the sentence similarity using Pre-trained Word2Vec embeddings from spaCy. \"\"\"\n",
    "    \n",
    "    # Process text - extract POS and embeddings\n",
    "    doc1 = nlp(unicode(sentence1))\n",
    "    doc2 = nlp(unicode(sentence2))\n",
    "    \n",
    "    # Get a list of tokens, only for those tokens which are not stopwords or punctuation\n",
    "    tokens1 = [token for token in doc1 if token.text not in stops and token.pos_ != u'PUNCT']\n",
    "    tokens2 = [token for token in doc2 if token.text not in stops and token.pos_ != u'PUNCT']\n",
    "    \n",
    "    # accumulate the Cosine similiarities between vectors, and number of matched vectors. \n",
    "    score1, count1, score2, count2 = 0.0, 0, 0.0, 0 \n",
    " \n",
    "    # For each word in the first sentence\n",
    "    for tok1 in tokens1:\n",
    "        try:\n",
    "            # Get the similarity value of the most similar word in the other sentence\n",
    "            best_score = max([tok1.similarity(tok2) for tok2 in tokens2])\n",
    "        except Exception as e:\n",
    "            best_score = None\n",
    " \n",
    "        # Check that the similarity could have been computed\n",
    "        if best_score is not None:\n",
    "            score1 += best_score\n",
    "            count1 += 1\n",
    "            \n",
    "    for tok2 in tokens2:\n",
    "        try:\n",
    "            # Get the similarity value of the most similar word in the other sentence\n",
    "            best_score = max([tok2.similarity(tok1) for tok1 in tokens1])\n",
    "        except Exception as e:\n",
    "            best_score = None\n",
    "        # Check that the similarity could have been computed\n",
    "        if best_score is not None:\n",
    "            score2 += best_score\n",
    "            count2 += 1\n",
    " \n",
    "    try:\n",
    "        # Average the values and add score from both sides to get symmetic distance\n",
    "        score = .5*(score1/count1 + score2/count2)\n",
    "        return(score)\n",
    "    except:\n",
    "        return(None)"
   ]
  },
  {
   "cell_type": "code",
   "execution_count": 354,
   "metadata": {
    "collapsed": false
   },
   "outputs": [
    {
     "data": {
      "text/plain": [
       "0.70759452382723487"
      ]
     },
     "execution_count": 354,
     "metadata": {},
     "output_type": "execute_result"
    }
   ],
   "source": [
    "embedding_similarity_score(\"Cats are beautiful animals.\", \"Dogs are awesome creatures\")"
   ]
  },
  {
   "cell_type": "code",
   "execution_count": 355,
   "metadata": {
    "collapsed": false
   },
   "outputs": [
    {
     "data": {
      "text/plain": [
       "0.3409438909341892"
      ]
     },
     "execution_count": 355,
     "metadata": {},
     "output_type": "execute_result"
    }
   ],
   "source": [
    "embedding_similarity_score(\"Trump reverses ban on importing remains of African elephants killed as trophies\", \\\n",
    "                      \"Native American tribe bracing for Keystone pipeline leak impact\")"
   ]
  },
  {
   "cell_type": "code",
   "execution_count": 356,
   "metadata": {
    "collapsed": false
   },
   "outputs": [
    {
     "data": {
      "text/plain": [
       "0.99999996026357019"
      ]
     },
     "execution_count": 356,
     "metadata": {},
     "output_type": "execute_result"
    }
   ],
   "source": [
    "embedding_similarity_score(\"Cats are beautiful animals.\", \"Cats are beautiful animals.\")"
   ]
  },
  {
   "cell_type": "code",
   "execution_count": 328,
   "metadata": {
    "collapsed": false
   },
   "outputs": [
    {
     "data": {
      "text/plain": [
       "0.43963620565282974"
      ]
     },
     "execution_count": 328,
     "metadata": {},
     "output_type": "execute_result"
    }
   ],
   "source": [
    "wup_similarity(\"The goverment official is a cheat\", \"The president has committed fraud.\")"
   ]
  },
  {
   "cell_type": "code",
   "execution_count": 357,
   "metadata": {
    "collapsed": false
   },
   "outputs": [
    {
     "data": {
      "text/plain": [
       "0.51942833513021469"
      ]
     },
     "execution_count": 357,
     "metadata": {},
     "output_type": "execute_result"
    }
   ],
   "source": [
    "embedding_similarity_score(\"The goverment official is a cheat\", \"The president has committed fraud.\")"
   ]
  },
  {
   "cell_type": "code",
   "execution_count": 358,
   "metadata": {
    "collapsed": false
   },
   "outputs": [
    {
     "data": {
      "text/plain": [
       "0.24959568058451018"
      ]
     },
     "execution_count": 358,
     "metadata": {},
     "output_type": "execute_result"
    }
   ],
   "source": [
    "embedding_similarity_score(\"The goverment official is a cheat\", \"Cats are beautiful animals.\")"
   ]
  },
  {
   "cell_type": "code",
   "execution_count": 359,
   "metadata": {
    "collapsed": true
   },
   "outputs": [],
   "source": [
    "def embedding_similarity_score_idf(sentence1, sentence2, idf_dict = idf_dict):\n",
    "    \"\"\" compute the sentence similarity using Pre-trained Word2Vec embeddings from spaCy. \"\"\"\n",
    "    \n",
    "    # Process text - extract POS and embeddings\n",
    "    doc1 = nlp(unicode(sentence1))\n",
    "    doc2 = nlp(unicode(sentence2))\n",
    "    \n",
    "    # Get a list of tokens, only for those tokens which are not stopwords or punctuation\n",
    "    tokens1 = [token for token in doc1 if token.text not in stops and token.pos_ != u'PUNCT']\n",
    "    tokens2 = [token for token in doc2 if token.text not in stops and token.pos_ != u'PUNCT']\n",
    "    \n",
    "    # accumulate the Cosine similiarities between vectors, and number of matched vectors. \n",
    "    # Weighted by the Idf score. \n",
    "    score1, idf_sum1, score2, idf_sum2 = 0.0, 0, 0.0, 0 \n",
    " \n",
    "    # For each word in the first sentence\n",
    "    for tok1 in tokens1:\n",
    "        try:\n",
    "            # Get the similarity value of the most similar word in the other sentence\n",
    "            best_score = max([tok1.similarity(tok2) for tok2 in tokens2])\n",
    "            idf1 = idf_dict[tok1.text]\n",
    "        except Exception as e:\n",
    "            best_score = None\n",
    " \n",
    "        # Check that the similarity could have been computed\n",
    "        if best_score is not None:\n",
    "            score1 += best_score*idf1\n",
    "            idf_sum1 += idf1\n",
    "            \n",
    "    for tok2 in tokens2:\n",
    "        try:\n",
    "            # Get the similarity value of the most similar word in the other sentence\n",
    "            best_score = max([tok2.similarity(tok1) for tok1 in tokens1])\n",
    "            idf2 = idf_dict[tok2.text]\n",
    "        except Exception as e:\n",
    "            best_score = None\n",
    "        # Check that the similarity could have been computed\n",
    "        if best_score is not None:\n",
    "            score2 += best_score*idf2\n",
    "            idf_sum2 += idf2\n",
    " \n",
    "    try:\n",
    "        # Average the values and add score from both sides to get symmetic distance\n",
    "        score = .5*(score1/idf_sum1 + score2/idf_sum2)\n",
    "        return(score)\n",
    "    except:\n",
    "        return(None)"
   ]
  },
  {
   "cell_type": "code",
   "execution_count": 360,
   "metadata": {
    "collapsed": false
   },
   "outputs": [
    {
     "data": {
      "text/plain": [
       "0.70759452382723487"
      ]
     },
     "execution_count": 360,
     "metadata": {},
     "output_type": "execute_result"
    }
   ],
   "source": [
    "embedding_similarity_score(\"Cats are beautiful animals.\", \"Dogs are awesome creatures\")"
   ]
  },
  {
   "cell_type": "code",
   "execution_count": 361,
   "metadata": {
    "collapsed": false
   },
   "outputs": [
    {
     "data": {
      "text/plain": [
       "0.64727334108070211"
      ]
     },
     "execution_count": 361,
     "metadata": {},
     "output_type": "execute_result"
    }
   ],
   "source": [
    "embedding_similarity_score_idf(\"Cats are beautiful animals.\", \"Dogs are awesome creatures\")"
   ]
  },
  {
   "cell_type": "code",
   "execution_count": 362,
   "metadata": {
    "collapsed": false,
    "scrolled": true
   },
   "outputs": [
    {
     "data": {
      "text/plain": [
       "0.99999997059223567"
      ]
     },
     "execution_count": 362,
     "metadata": {},
     "output_type": "execute_result"
    }
   ],
   "source": [
    "embedding_similarity_score_idf(\"Cats are beautiful animals.\", \"Cats are beautiful animals.\")"
   ]
  },
  {
   "cell_type": "code",
   "execution_count": 363,
   "metadata": {
    "collapsed": false
   },
   "outputs": [
    {
     "data": {
      "text/plain": [
       "0.51942833513021469"
      ]
     },
     "execution_count": 363,
     "metadata": {},
     "output_type": "execute_result"
    }
   ],
   "source": [
    "embedding_similarity_score(\"The goverment official is a cheat\", \"The president has committed fraud.\")"
   ]
  },
  {
   "cell_type": "code",
   "execution_count": 367,
   "metadata": {
    "collapsed": false
   },
   "outputs": [
    {
     "data": {
      "text/plain": [
       "0.3561063402923107"
      ]
     },
     "execution_count": 367,
     "metadata": {},
     "output_type": "execute_result"
    }
   ],
   "source": [
    "embedding_similarity_score_idf(\"The goverment official is a cheat\", \"The president has committed fraud.\")"
   ]
  },
  {
   "cell_type": "code",
   "execution_count": 369,
   "metadata": {
    "collapsed": false
   },
   "outputs": [
    {
     "data": {
      "text/plain": [
       "0.24959568058451018"
      ]
     },
     "execution_count": 369,
     "metadata": {},
     "output_type": "execute_result"
    }
   ],
   "source": [
    "embedding_similarity_score(\"The goverment official is a cheat\", \"Cats are beautiful animals.\")"
   ]
  },
  {
   "cell_type": "code",
   "execution_count": 368,
   "metadata": {
    "collapsed": false
   },
   "outputs": [
    {
     "data": {
      "text/plain": [
       "0.24327664680203132"
      ]
     },
     "execution_count": 368,
     "metadata": {},
     "output_type": "execute_result"
    }
   ],
   "source": [
    "embedding_similarity_score_idf(\"The goverment official is a cheat\", \"Cats are beautiful animals.\")"
   ]
  },
  {
   "cell_type": "markdown",
   "metadata": {},
   "source": [
    "### 6. Calculate and Save \n",
    "\n",
    "Now I Apply these functions to `data`, and save the augemented dataframe. \n",
    "\n",
    "NLTK's WordNet interface is slow. This may take a while..."
   ]
  },
  {
   "cell_type": "code",
   "execution_count": 385,
   "metadata": {
    "collapsed": false
   },
   "outputs": [
    {
     "name": "stdout",
     "output_type": "stream",
     "text": [
      "CPU times: user 30min 19s, sys: 2min 5s, total: 32min 25s\n",
      "Wall time: 1h 11min 23s\n"
     ]
    }
   ],
   "source": [
    "%time data['path_similarity'] = data.apply(lambda x : path_similarity(x['question1'],x['question2']), axis = 1)"
   ]
  },
  {
   "cell_type": "code",
   "execution_count": 387,
   "metadata": {
    "collapsed": false
   },
   "outputs": [
    {
     "data": {
      "text/plain": [
       "0.0023968062371378818"
      ]
     },
     "execution_count": 387,
     "metadata": {},
     "output_type": "execute_result"
    }
   ],
   "source": [
    "np.mean(data['path_similarity'].isnull())"
   ]
  },
  {
   "cell_type": "code",
   "execution_count": 389,
   "metadata": {
    "collapsed": false
   },
   "outputs": [
    {
     "name": "stdout",
     "output_type": "stream",
     "text": [
      "CPU times: user 31min 51s, sys: 2min 3s, total: 33min 54s\n",
      "Wall time: 41min 19s\n"
     ]
    }
   ],
   "source": [
    "%time data['path_similarity_idf'] = data.apply(lambda x : path_similarity_idf(x['question1'],x['question2']), axis = 1)"
   ]
  },
  {
   "cell_type": "code",
   "execution_count": 402,
   "metadata": {
    "collapsed": false
   },
   "outputs": [
    {
     "data": {
      "text/plain": [
       "0.0026293137565299982"
      ]
     },
     "execution_count": 402,
     "metadata": {},
     "output_type": "execute_result"
    }
   ],
   "source": [
    "np.mean(data['path_similarity_idf'].isnull())"
   ]
  },
  {
   "cell_type": "code",
   "execution_count": 411,
   "metadata": {
    "collapsed": false
   },
   "outputs": [
    {
     "name": "stdout",
     "output_type": "stream",
     "text": [
      "CPU times: user 29min 51s, sys: 1min 33s, total: 31min 25s\n",
      "Wall time: 35min 22s\n"
     ]
    }
   ],
   "source": [
    "%time data['lch_similarity'] = data.apply(lambda x : lch_similarity(x['question1'],x['question2']), axis = 1)"
   ]
  },
  {
   "cell_type": "code",
   "execution_count": 398,
   "metadata": {
    "collapsed": false
   },
   "outputs": [
    {
     "name": "stdout",
     "output_type": "stream",
     "text": [
      "CPU times: user 39min 1s, sys: 2min 13s, total: 41min 15s\n",
      "Wall time: 1h 1min 17s\n"
     ]
    }
   ],
   "source": [
    "%time data['lch_similarity_idf'] = data.apply(lambda x : lch_similarity_idf(x['question1'],x['question2']), axis = 1)"
   ]
  },
  {
   "cell_type": "code",
   "execution_count": 401,
   "metadata": {
    "collapsed": false
   },
   "outputs": [
    {
     "data": {
      "text/plain": [
       "0.0032971545037201204"
      ]
     },
     "execution_count": 401,
     "metadata": {},
     "output_type": "execute_result"
    }
   ],
   "source": [
    "np.mean(data['lch_similarity_idf'].isnull())"
   ]
  },
  {
   "cell_type": "code",
   "execution_count": 412,
   "metadata": {
    "collapsed": false
   },
   "outputs": [
    {
     "name": "stdout",
     "output_type": "stream",
     "text": [
      "CPU times: user 44min 1s, sys: 1min 33s, total: 45min 34s\n",
      "Wall time: 50min 4s\n"
     ]
    }
   ],
   "source": [
    "%time data['wup_similarity'] = data.apply(lambda x : wup_similarity(x['question1'],x['question2']), axis = 1)"
   ]
  },
  {
   "cell_type": "code",
   "execution_count": 413,
   "metadata": {
    "collapsed": false
   },
   "outputs": [
    {
     "data": {
      "text/plain": [
       "0.0023968062371378818"
      ]
     },
     "execution_count": 413,
     "metadata": {},
     "output_type": "execute_result"
    }
   ],
   "source": [
    "np.mean(data['wup_similarity'].isnull())"
   ]
  },
  {
   "cell_type": "code",
   "execution_count": 399,
   "metadata": {
    "collapsed": false
   },
   "outputs": [
    {
     "name": "stdout",
     "output_type": "stream",
     "text": [
      "CPU times: user 45min 13s, sys: 1min 37s, total: 46min 51s\n",
      "Wall time: 54min 22s\n"
     ]
    }
   ],
   "source": [
    "%time data['wup_similarity_idf'] = data.apply(lambda x : wup_similarity_idf(x['question1'],x['question2']), axis = 1)"
   ]
  },
  {
   "cell_type": "code",
   "execution_count": 403,
   "metadata": {
    "collapsed": false
   },
   "outputs": [
    {
     "data": {
      "text/plain": [
       "0.0026293137565299982"
      ]
     },
     "execution_count": 403,
     "metadata": {},
     "output_type": "execute_result"
    }
   ],
   "source": [
    "np.mean(data['wup_similarity_idf'].isnull())"
   ]
  },
  {
   "cell_type": "code",
   "execution_count": null,
   "metadata": {
    "collapsed": true
   },
   "outputs": [],
   "source": [
    "%time data['embedding_similarity_score'] = data.apply(lambda x : embedding_similarity_score(x['question1'],x['question2']), axis = 1)"
   ]
  },
  {
   "cell_type": "code",
   "execution_count": null,
   "metadata": {
    "collapsed": true
   },
   "outputs": [],
   "source": [
    "%time data['embedding_similarity_score_idf'] = data.apply(lambda x : embedding_similarity_score_idf(x['question1'],x['question2']), axis = 1)"
   ]
  },
  {
   "cell_type": "code",
   "execution_count": 406,
   "metadata": {
    "collapsed": false
   },
   "outputs": [
    {
     "data": {
      "text/plain": [
       "0.017143719328795316"
      ]
     },
     "execution_count": 406,
     "metadata": {},
     "output_type": "execute_result"
    }
   ],
   "source": [
    "np.mean(data['embedding_similarity_score_idf'].isnull())"
   ]
  },
  {
   "cell_type": "code",
   "execution_count": 414,
   "metadata": {
    "collapsed": false
   },
   "outputs": [
    {
     "data": {
      "text/html": [
       "<div>\n",
       "<table border=\"1\" class=\"dataframe\">\n",
       "  <thead>\n",
       "    <tr style=\"text-align: right;\">\n",
       "      <th></th>\n",
       "      <th>Unnamed: 0</th>\n",
       "      <th>id</th>\n",
       "      <th>qid1</th>\n",
       "      <th>qid2</th>\n",
       "      <th>question1</th>\n",
       "      <th>question2</th>\n",
       "      <th>is_duplicate</th>\n",
       "      <th>len_intersection</th>\n",
       "      <th>len_intersection_sw</th>\n",
       "      <th>num_words_q1</th>\n",
       "      <th>...</th>\n",
       "      <th>q2_max_tf_idf_embedding</th>\n",
       "      <th>euclidean_distance_max_tfidf_word</th>\n",
       "      <th>cosine_distance_max_tfidf_word</th>\n",
       "      <th>path_similarity</th>\n",
       "      <th>path_similarity_idf</th>\n",
       "      <th>lch_similarity_idf</th>\n",
       "      <th>wup_similarity_idf</th>\n",
       "      <th>embedding_similarity_score_idf</th>\n",
       "      <th>lch_similarity</th>\n",
       "      <th>wup_similarity</th>\n",
       "    </tr>\n",
       "  </thead>\n",
       "  <tbody>\n",
       "    <tr>\n",
       "      <th>0</th>\n",
       "      <td>1</td>\n",
       "      <td>0</td>\n",
       "      <td>1</td>\n",
       "      <td>2</td>\n",
       "      <td>What is the step by step guide to invest in sh...</td>\n",
       "      <td>What is the step by step guide to invest in sh...</td>\n",
       "      <td>0</td>\n",
       "      <td>10</td>\n",
       "      <td>5</td>\n",
       "      <td>14</td>\n",
       "      <td>...</td>\n",
       "      <td>[-0.028461   -0.34314999  0.23021001 -0.063865...</td>\n",
       "      <td>0.000000</td>\n",
       "      <td>3.250036e-08</td>\n",
       "      <td>0.933333</td>\n",
       "      <td>0.929129</td>\n",
       "      <td>3.348972</td>\n",
       "      <td>0.933559</td>\n",
       "      <td>0.951548</td>\n",
       "      <td>3.326693</td>\n",
       "      <td>0.937500</td>\n",
       "    </tr>\n",
       "    <tr>\n",
       "      <th>1</th>\n",
       "      <td>2</td>\n",
       "      <td>1</td>\n",
       "      <td>3</td>\n",
       "      <td>4</td>\n",
       "      <td>What is the story of Kohinoor Koh - i - Noor D...</td>\n",
       "      <td>What would happen if the Indian government sto...</td>\n",
       "      <td>0</td>\n",
       "      <td>2</td>\n",
       "      <td>0</td>\n",
       "      <td>10</td>\n",
       "      <td>...</td>\n",
       "      <td>[  3.72870006e-02  -3.17849994e-01  -2.3973000...</td>\n",
       "      <td>0.000000</td>\n",
       "      <td>4.103800e-08</td>\n",
       "      <td>0.582143</td>\n",
       "      <td>0.534293</td>\n",
       "      <td>2.575241</td>\n",
       "      <td>0.666331</td>\n",
       "      <td>0.581344</td>\n",
       "      <td>2.690605</td>\n",
       "      <td>0.702500</td>\n",
       "    </tr>\n",
       "    <tr>\n",
       "      <th>2</th>\n",
       "      <td>3</td>\n",
       "      <td>2</td>\n",
       "      <td>5</td>\n",
       "      <td>6</td>\n",
       "      <td>How can I increase the speed of my internet co...</td>\n",
       "      <td>How can Internet speed be increased by hacking...</td>\n",
       "      <td>0</td>\n",
       "      <td>3</td>\n",
       "      <td>2</td>\n",
       "      <td>14</td>\n",
       "      <td>...</td>\n",
       "      <td>[ -4.19200003e-01   5.06489992e-01  -3.4162998...</td>\n",
       "      <td>5.495713</td>\n",
       "      <td>4.284846e-01</td>\n",
       "      <td>0.574359</td>\n",
       "      <td>0.580354</td>\n",
       "      <td>2.551049</td>\n",
       "      <td>0.689253</td>\n",
       "      <td>0.772741</td>\n",
       "      <td>2.544828</td>\n",
       "      <td>0.680357</td>\n",
       "    </tr>\n",
       "    <tr>\n",
       "      <th>3</th>\n",
       "      <td>4</td>\n",
       "      <td>3</td>\n",
       "      <td>7</td>\n",
       "      <td>8</td>\n",
       "      <td>Why am I mentally very lonely ? How can I solv...</td>\n",
       "      <td>Find the remainder when math 23 24 math is div...</td>\n",
       "      <td>0</td>\n",
       "      <td>0</td>\n",
       "      <td>0</td>\n",
       "      <td>11</td>\n",
       "      <td>...</td>\n",
       "      <td>[-0.39732999 -0.13798     0.21100999  0.237990...</td>\n",
       "      <td>4.781672</td>\n",
       "      <td>8.190252e-01</td>\n",
       "      <td>0.612500</td>\n",
       "      <td>0.458929</td>\n",
       "      <td>2.206308</td>\n",
       "      <td>0.556602</td>\n",
       "      <td>0.381349</td>\n",
       "      <td>2.509163</td>\n",
       "      <td>0.683333</td>\n",
       "    </tr>\n",
       "    <tr>\n",
       "      <th>4</th>\n",
       "      <td>5</td>\n",
       "      <td>4</td>\n",
       "      <td>9</td>\n",
       "      <td>10</td>\n",
       "      <td>Which one dissolve in water quickly sugar , sa...</td>\n",
       "      <td>Which fish would survive in salt water ?</td>\n",
       "      <td>0</td>\n",
       "      <td>3</td>\n",
       "      <td>2</td>\n",
       "      <td>13</td>\n",
       "      <td>...</td>\n",
       "      <td>[-0.064408   -0.073121   -0.25946999  0.15424 ...</td>\n",
       "      <td>6.219034</td>\n",
       "      <td>8.441631e-01</td>\n",
       "      <td>0.554004</td>\n",
       "      <td>0.518265</td>\n",
       "      <td>2.391333</td>\n",
       "      <td>0.653720</td>\n",
       "      <td>0.628441</td>\n",
       "      <td>2.481718</td>\n",
       "      <td>0.670232</td>\n",
       "    </tr>\n",
       "  </tbody>\n",
       "</table>\n",
       "<p>5 rows × 53 columns</p>\n",
       "</div>"
      ],
      "text/plain": [
       "   Unnamed: 0  id  qid1  qid2  \\\n",
       "0           1   0     1     2   \n",
       "1           2   1     3     4   \n",
       "2           3   2     5     6   \n",
       "3           4   3     7     8   \n",
       "4           5   4     9    10   \n",
       "\n",
       "                                           question1  \\\n",
       "0  What is the step by step guide to invest in sh...   \n",
       "1  What is the story of Kohinoor Koh - i - Noor D...   \n",
       "2  How can I increase the speed of my internet co...   \n",
       "3  Why am I mentally very lonely ? How can I solv...   \n",
       "4  Which one dissolve in water quickly sugar , sa...   \n",
       "\n",
       "                                           question2  is_duplicate  \\\n",
       "0  What is the step by step guide to invest in sh...             0   \n",
       "1  What would happen if the Indian government sto...             0   \n",
       "2  How can Internet speed be increased by hacking...             0   \n",
       "3  Find the remainder when math 23 24 math is div...             0   \n",
       "4          Which fish would survive in salt water ?              0   \n",
       "\n",
       "   len_intersection  len_intersection_sw  num_words_q1       ...        \\\n",
       "0                10                    5            14       ...         \n",
       "1                 2                    0            10       ...         \n",
       "2                 3                    2            14       ...         \n",
       "3                 0                    0            11       ...         \n",
       "4                 3                    2            13       ...         \n",
       "\n",
       "                             q2_max_tf_idf_embedding  \\\n",
       "0  [-0.028461   -0.34314999  0.23021001 -0.063865...   \n",
       "1  [  3.72870006e-02  -3.17849994e-01  -2.3973000...   \n",
       "2  [ -4.19200003e-01   5.06489992e-01  -3.4162998...   \n",
       "3  [-0.39732999 -0.13798     0.21100999  0.237990...   \n",
       "4  [-0.064408   -0.073121   -0.25946999  0.15424 ...   \n",
       "\n",
       "   euclidean_distance_max_tfidf_word  cosine_distance_max_tfidf_word  \\\n",
       "0                           0.000000                    3.250036e-08   \n",
       "1                           0.000000                    4.103800e-08   \n",
       "2                           5.495713                    4.284846e-01   \n",
       "3                           4.781672                    8.190252e-01   \n",
       "4                           6.219034                    8.441631e-01   \n",
       "\n",
       "   path_similarity  path_similarity_idf  lch_similarity_idf  \\\n",
       "0         0.933333             0.929129            3.348972   \n",
       "1         0.582143             0.534293            2.575241   \n",
       "2         0.574359             0.580354            2.551049   \n",
       "3         0.612500             0.458929            2.206308   \n",
       "4         0.554004             0.518265            2.391333   \n",
       "\n",
       "   wup_similarity_idf  embedding_similarity_score_idf  lch_similarity  \\\n",
       "0            0.933559                        0.951548        3.326693   \n",
       "1            0.666331                        0.581344        2.690605   \n",
       "2            0.689253                        0.772741        2.544828   \n",
       "3            0.556602                        0.381349        2.509163   \n",
       "4            0.653720                        0.628441        2.481718   \n",
       "\n",
       "   wup_similarity  \n",
       "0        0.937500  \n",
       "1        0.702500  \n",
       "2        0.680357  \n",
       "3        0.683333  \n",
       "4        0.670232  \n",
       "\n",
       "[5 rows x 53 columns]"
      ]
     },
     "execution_count": 414,
     "metadata": {},
     "output_type": "execute_result"
    }
   ],
   "source": [
    "data.head()"
   ]
  },
  {
   "cell_type": "markdown",
   "metadata": {},
   "source": [
    "#### 6.1 Fill NA's in generated columns with zero\n",
    "\n",
    "Very few missing values, so this shouldn't add too much noise. Plus, if value is na, it means that there were no words that overlap of the same part-of-speach, so maybe they are indeed very dissimilar"
   ]
  },
  {
   "cell_type": "code",
   "execution_count": 431,
   "metadata": {
    "collapsed": false
   },
   "outputs": [],
   "source": [
    "data[[u'path_similarity',\n",
    "       u'path_similarity_idf', u'lch_similarity_idf', u'wup_similarity_idf',\n",
    "       u'embedding_similarity_score_idf', u'lch_similarity',\n",
    "       u'wup_similarity']] = data[[u'path_similarity',\n",
    "       u'path_similarity_idf', u'lch_similarity_idf', u'wup_similarity_idf',\n",
    "       u'embedding_similarity_score_idf', u'lch_similarity',\n",
    "       u'wup_similarity']].fillna(value=0)"
   ]
  },
  {
   "cell_type": "code",
   "execution_count": 435,
   "metadata": {
    "collapsed": false
   },
   "outputs": [
    {
     "name": "stderr",
     "output_type": "stream",
     "text": [
      "/Library/Frameworks/Python.framework/Versions/2.7/lib/python2.7/site-packages/matplotlib/collections.py:590: FutureWarning: elementwise comparison failed; returning scalar instead, but in the future will perform elementwise comparison\n",
      "  if self._edgecolors == str('face'):\n"
     ]
    },
    {
     "data": {
      "text/plain": [
       "<matplotlib.axes._subplots.AxesSubplot at 0x2e8a30690>"
      ]
     },
     "execution_count": 435,
     "metadata": {},
     "output_type": "execute_result"
    },
    {
     "data": {
      "image/png": "[encoded data removed]",
      "text/plain": [
       "<matplotlib.figure.Figure at 0x2e8a30050>"
      ]
     },
     "metadata": {},
     "output_type": "display_data"
    }
   ],
   "source": [
    "corr = data[[u'path_similarity',\n",
    "       u'path_similarity_idf', u'lch_similarity_idf', u'wup_similarity_idf',\n",
    "       u'embedding_similarity_score_idf', u'lch_similarity',\n",
    "       u'wup_similarity']].corr()\n",
    "sns.heatmap(corr, \n",
    "            xticklabels=corr.columns.values,\n",
    "            yticklabels=corr.columns.values)"
   ]
  },
  {
   "cell_type": "markdown",
   "metadata": {},
   "source": [
    "#### 6.2 Write Data\n"
   ]
  },
  {
   "cell_type": "code",
   "execution_count": 433,
   "metadata": {
    "collapsed": false
   },
   "outputs": [],
   "source": [
    "data[[col for col in data.columns if col not in [u'q1_embedding', u'q2_embedding']]].to_csv(\"../data/features.csv\")"
   ]
  }
 ],
 "metadata": {
  "kernelspec": {
   "display_name": "Python 2",
   "language": "python",
   "name": "python2"
  },
  "language_info": {
   "codemirror_mode": {
    "name": "ipython",
    "version": 2
   },
   "file_extension": ".py",
   "mimetype": "text/x-python",
   "name": "python",
   "nbconvert_exporter": "python",
   "pygments_lexer": "ipython2",
   "version": "2.7.9"
  }
 },
 "nbformat": 4,
 "nbformat_minor": 0
}
