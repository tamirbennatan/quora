{
 "cells": [
  {
   "cell_type": "markdown",
   "metadata": {},
   "source": [
    "## Feature Engineering\n",
    "\n",
    "The functions to follow will take in the data as a pandas dataframe, and return a pandas dataframe with additional columns for the features added. \n",
    "\n",
    "In general, each function takes in an argument _stopwords_, which if initialized as a list of strings will be removed from the text. \n",
    "\n",
    "\n",
    "### An outline of the features included:\n",
    "\n",
    "#### 1. Basics\n",
    "\n",
    "#### 2. String Distance Features and Fuzzy Features\n",
    "\n",
    "#### 3. Tf-Idf Features\n",
    "\n",
    "#### 4. Word Embedding Features\n",
    "\n",
    "#### 5. Linguistic Features\n"
   ]
  },
  {
   "cell_type": "markdown",
   "metadata": {},
   "source": [
    "### 0.1 import packages and data"
   ]
  },
  {
   "cell_type": "code",
   "execution_count": 621,
   "metadata": {
    "collapsed": false
   },
   "outputs": [],
   "source": [
    "%matplotlib inline\n",
    "\n",
    "# import matplotlib.pyplot as plt\n",
    "\n",
    "# import numpy as np\n",
    "# import pandas as pd\n",
    "# from fuzzywuzzy import fuzz\n",
    "# from gensim.models import KeyedVectors\n",
    "# from operator import itemgetter\n",
    "from scipy.spatial.distance import cosine, cityblock, jaccard, canberra, euclidean, minkowski, braycurtis\n",
    "\n",
    "\n",
    "# from sklearn.feature_extraction.text import TfidfVectorizer\n",
    "# import re\n",
    "# from nltk.corpus import stopwords"
   ]
  },
  {
   "cell_type": "code",
   "execution_count": 694,
   "metadata": {
    "collapsed": true
   },
   "outputs": [],
   "source": [
    "df = pd.read_csv(\"../data/processed/train.csv\")"
   ]
  },
  {
   "cell_type": "code",
   "execution_count": 665,
   "metadata": {
    "collapsed": false
   },
   "outputs": [
    {
     "data": {
      "text/html": [
       "<div>\n",
       "<table border=\"1\" class=\"dataframe\">\n",
       "  <thead>\n",
       "    <tr style=\"text-align: right;\">\n",
       "      <th></th>\n",
       "      <th>Unnamed: 0</th>\n",
       "      <th>id</th>\n",
       "      <th>qid1</th>\n",
       "      <th>qid2</th>\n",
       "      <th>question1</th>\n",
       "      <th>question2</th>\n",
       "      <th>is_duplicate</th>\n",
       "    </tr>\n",
       "  </thead>\n",
       "  <tbody>\n",
       "    <tr>\n",
       "      <th>0</th>\n",
       "      <td>1</td>\n",
       "      <td>0</td>\n",
       "      <td>1</td>\n",
       "      <td>2</td>\n",
       "      <td>What is the step by step guide to invest in sh...</td>\n",
       "      <td>What is the step by step guide to invest in sh...</td>\n",
       "      <td>0</td>\n",
       "    </tr>\n",
       "    <tr>\n",
       "      <th>1</th>\n",
       "      <td>2</td>\n",
       "      <td>1</td>\n",
       "      <td>3</td>\n",
       "      <td>4</td>\n",
       "      <td>What is the story of Kohinoor Koh - i - Noor D...</td>\n",
       "      <td>What would happen if the Indian government sto...</td>\n",
       "      <td>0</td>\n",
       "    </tr>\n",
       "    <tr>\n",
       "      <th>2</th>\n",
       "      <td>3</td>\n",
       "      <td>2</td>\n",
       "      <td>5</td>\n",
       "      <td>6</td>\n",
       "      <td>How can I increase the speed of my internet co...</td>\n",
       "      <td>How can Internet speed be increased by hacking...</td>\n",
       "      <td>0</td>\n",
       "    </tr>\n",
       "    <tr>\n",
       "      <th>3</th>\n",
       "      <td>4</td>\n",
       "      <td>3</td>\n",
       "      <td>7</td>\n",
       "      <td>8</td>\n",
       "      <td>Why am I mentally very lonely ? How can I solv...</td>\n",
       "      <td>Find the remainder when math 23 24 math is div...</td>\n",
       "      <td>0</td>\n",
       "    </tr>\n",
       "    <tr>\n",
       "      <th>4</th>\n",
       "      <td>5</td>\n",
       "      <td>4</td>\n",
       "      <td>9</td>\n",
       "      <td>10</td>\n",
       "      <td>Which one dissolve in water quickly sugar , sa...</td>\n",
       "      <td>Which fish would survive in salt water ?</td>\n",
       "      <td>0</td>\n",
       "    </tr>\n",
       "  </tbody>\n",
       "</table>\n",
       "</div>"
      ],
      "text/plain": [
       "   Unnamed: 0  id  qid1  qid2  \\\n",
       "0           1   0     1     2   \n",
       "1           2   1     3     4   \n",
       "2           3   2     5     6   \n",
       "3           4   3     7     8   \n",
       "4           5   4     9    10   \n",
       "\n",
       "                                           question1  \\\n",
       "0  What is the step by step guide to invest in sh...   \n",
       "1  What is the story of Kohinoor Koh - i - Noor D...   \n",
       "2  How can I increase the speed of my internet co...   \n",
       "3  Why am I mentally very lonely ? How can I solv...   \n",
       "4  Which one dissolve in water quickly sugar , sa...   \n",
       "\n",
       "                                           question2  is_duplicate  \n",
       "0  What is the step by step guide to invest in sh...             0  \n",
       "1  What would happen if the Indian government sto...             0  \n",
       "2  How can Internet speed be increased by hacking...             0  \n",
       "3  Find the remainder when math 23 24 math is div...             0  \n",
       "4          Which fish would survive in salt water ?              0  "
      ]
     },
     "execution_count": 665,
     "metadata": {},
     "output_type": "execute_result"
    }
   ],
   "source": [
    "df.head()"
   ]
  },
  {
   "cell_type": "code",
   "execution_count": 6,
   "metadata": {
    "collapsed": false
   },
   "outputs": [
    {
     "data": {
      "text/html": [
       "<div>\n",
       "<table border=\"1\" class=\"dataframe\">\n",
       "  <thead>\n",
       "    <tr style=\"text-align: right;\">\n",
       "      <th></th>\n",
       "      <th>Unnamed: 0</th>\n",
       "      <th>id</th>\n",
       "      <th>qid1</th>\n",
       "      <th>qid2</th>\n",
       "      <th>is_duplicate</th>\n",
       "    </tr>\n",
       "  </thead>\n",
       "  <tbody>\n",
       "    <tr>\n",
       "      <th>count</th>\n",
       "      <td>404290.000000</td>\n",
       "      <td>404290.000000</td>\n",
       "      <td>404290.000000</td>\n",
       "      <td>404290.000000</td>\n",
       "      <td>404290.000000</td>\n",
       "    </tr>\n",
       "    <tr>\n",
       "      <th>mean</th>\n",
       "      <td>202145.500000</td>\n",
       "      <td>202144.500000</td>\n",
       "      <td>217243.942418</td>\n",
       "      <td>220955.655337</td>\n",
       "      <td>0.369198</td>\n",
       "    </tr>\n",
       "    <tr>\n",
       "      <th>std</th>\n",
       "      <td>116708.614503</td>\n",
       "      <td>116708.614503</td>\n",
       "      <td>157751.700002</td>\n",
       "      <td>159903.182629</td>\n",
       "      <td>0.482588</td>\n",
       "    </tr>\n",
       "    <tr>\n",
       "      <th>min</th>\n",
       "      <td>1.000000</td>\n",
       "      <td>0.000000</td>\n",
       "      <td>1.000000</td>\n",
       "      <td>2.000000</td>\n",
       "      <td>0.000000</td>\n",
       "    </tr>\n",
       "    <tr>\n",
       "      <th>25%</th>\n",
       "      <td>101073.250000</td>\n",
       "      <td>101072.250000</td>\n",
       "      <td>74437.500000</td>\n",
       "      <td>74727.000000</td>\n",
       "      <td>0.000000</td>\n",
       "    </tr>\n",
       "    <tr>\n",
       "      <th>50%</th>\n",
       "      <td>202145.500000</td>\n",
       "      <td>202144.500000</td>\n",
       "      <td>192182.000000</td>\n",
       "      <td>197052.000000</td>\n",
       "      <td>0.000000</td>\n",
       "    </tr>\n",
       "    <tr>\n",
       "      <th>75%</th>\n",
       "      <td>303217.750000</td>\n",
       "      <td>303216.750000</td>\n",
       "      <td>346573.500000</td>\n",
       "      <td>354692.500000</td>\n",
       "      <td>1.000000</td>\n",
       "    </tr>\n",
       "    <tr>\n",
       "      <th>max</th>\n",
       "      <td>404290.000000</td>\n",
       "      <td>404289.000000</td>\n",
       "      <td>537932.000000</td>\n",
       "      <td>537933.000000</td>\n",
       "      <td>1.000000</td>\n",
       "    </tr>\n",
       "  </tbody>\n",
       "</table>\n",
       "</div>"
      ],
      "text/plain": [
       "          Unnamed: 0             id           qid1           qid2  \\\n",
       "count  404290.000000  404290.000000  404290.000000  404290.000000   \n",
       "mean   202145.500000  202144.500000  217243.942418  220955.655337   \n",
       "std    116708.614503  116708.614503  157751.700002  159903.182629   \n",
       "min         1.000000       0.000000       1.000000       2.000000   \n",
       "25%    101073.250000  101072.250000   74437.500000   74727.000000   \n",
       "50%    202145.500000  202144.500000  192182.000000  197052.000000   \n",
       "75%    303217.750000  303216.750000  346573.500000  354692.500000   \n",
       "max    404290.000000  404289.000000  537932.000000  537933.000000   \n",
       "\n",
       "        is_duplicate  \n",
       "count  404290.000000  \n",
       "mean        0.369198  \n",
       "std         0.482588  \n",
       "min         0.000000  \n",
       "25%         0.000000  \n",
       "50%         0.000000  \n",
       "75%         1.000000  \n",
       "max         1.000000  "
      ]
     },
     "execution_count": 6,
     "metadata": {},
     "output_type": "execute_result"
    }
   ],
   "source": [
    "df.describe()"
   ]
  },
  {
   "cell_type": "code",
   "execution_count": 233,
   "metadata": {
    "collapsed": false
   },
   "outputs": [],
   "source": [
    "# small sample for testing\n",
    "sample = df.sample(100)"
   ]
  },
  {
   "cell_type": "markdown",
   "metadata": {},
   "source": [
    "### 0.2 Objects I will use repeatedly in this notebook"
   ]
  },
  {
   "cell_type": "code",
   "execution_count": 327,
   "metadata": {
    "collapsed": true
   },
   "outputs": [],
   "source": [
    "punctuation = [\"?\", \"!\", \",\", \".\", '\"', \"-\"]\n",
    "# nltk stopword list\n",
    "stopwords = list(stopwords.words('english'))"
   ]
  },
  {
   "cell_type": "markdown",
   "metadata": {},
   "source": [
    "### 1 Basic features"
   ]
  },
  {
   "cell_type": "markdown",
   "metadata": {},
   "source": [
    "#### 1.1 Number of intersecting words"
   ]
  },
  {
   "cell_type": "code",
   "execution_count": 684,
   "metadata": {
    "collapsed": false
   },
   "outputs": [],
   "source": [
    "def len_intersection(df, stopwords = None):\n",
    "    if stopwords:\n",
    "        df['len_intersection_sw'] = df.apply(lambda x: len(set([w for w in x[\"question1\"].strip().split(\" \") if\n",
    "                                    w not in punctuation and w not in stopwords]).intersection(\n",
    "                    set([w for w in x[\"question2\"].strip().lower().split(\" \") if\n",
    "                         w not in punctuation and w not in stopwords]))),\n",
    "                 axis = 1)\n",
    "        return(df)\n",
    "\n",
    "    else:\n",
    "        df['len_intersection'] = df.apply(lambda x: len(set([w for w in x[\"question1\"].strip().split(\" \") if\n",
    "                                    w not in punctuation]).intersection(\n",
    "                    set([w for w in x[\"question2\"].strip().lower().split(\" \") if\n",
    "                         w not in punctuation]))),\n",
    "                 axis = 1)\n",
    "        return(df)"
   ]
  },
  {
   "cell_type": "markdown",
   "metadata": {},
   "source": [
    "#### 1.2 Number of words in each sentence"
   ]
  },
  {
   "cell_type": "code",
   "execution_count": 685,
   "metadata": {
    "collapsed": true
   },
   "outputs": [],
   "source": [
    "def num_words_q1(df, stopwords = None):\n",
    "    if stopwords:\n",
    "        df['num_words_q1_sw'] = df['question1'].apply(lambda x: len([w for w in x.strip().lower().split(\" \")\n",
    "                                                          if w not in punctuation and w not in stopwords]))\n",
    "        return(df)\n",
    "    \n",
    "    else:\n",
    "        df['num_words_q1'] = df['question1'].apply(lambda x: len([w for w in x.strip().lower().split(\" \") if\n",
    "                                                          w not in punctuation]))\n",
    "        return(df)"
   ]
  },
  {
   "cell_type": "code",
   "execution_count": 686,
   "metadata": {
    "collapsed": true
   },
   "outputs": [],
   "source": [
    "def num_words_q2(df, stopwords = None):\n",
    "    if stopwords:\n",
    "        df['num_words_q2_sw'] = df['question2'].apply(lambda x: len([w for w in x.strip().lower().split(\" \")\n",
    "                                                          if w not in punctuation and w not in stopwords]))\n",
    "        return(df)\n",
    "    \n",
    "    else:\n",
    "        df['num_words_q2'] = df['question2'].apply(lambda x: len([w for w in x.strip().lower().split(\" \")\n",
    "                                                          if w not in punctuation]))\n",
    "        return(df)"
   ]
  },
  {
   "cell_type": "markdown",
   "metadata": {},
   "source": [
    "#### 1.3 Difference in number of words \n",
    "\n",
    "Assumes functions *num_words_q1* and *num_words_q2* were already applied"
   ]
  },
  {
   "cell_type": "code",
   "execution_count": 695,
   "metadata": {
    "collapsed": false
   },
   "outputs": [],
   "source": [
    "def num_words_diff(df, stopwords = None):\n",
    "    if stopwords:\n",
    "        df['num_words_diff_sw'] = abs(df['num_words_q1_sw'] - df['num_words_q2_sw'])\n",
    "        return(df)\n",
    "    else:\n",
    "        df['num_words_diff'] = abs(df['num_words_q1'] - df['num_words_q2'])\n",
    "        return(df)"
   ]
  },
  {
   "cell_type": "markdown",
   "metadata": {},
   "source": [
    "#### 1.4 Character length of each question"
   ]
  },
  {
   "cell_type": "code",
   "execution_count": 696,
   "metadata": {
    "collapsed": false
   },
   "outputs": [],
   "source": [
    "def num_chars_q1(df, stopwords = None):\n",
    "    if stopwords:\n",
    "        df['num_chars_q1_sw'] = df['question1'].apply(lambda x: sum([len([c for c in w if c not in punctuation]) for \n",
    "                                                                 w in x.strip().split() if\n",
    "                                                                 w not in stopwords]))\n",
    "        return(df)\n",
    "    else:\n",
    "        df['num_chars_q1'] = df['question1'].apply(lambda x: len(list([c for c in x.strip() if\n",
    "                                                                       c not in punctuation])))\n",
    "        return(df)"
   ]
  },
  {
   "cell_type": "code",
   "execution_count": 697,
   "metadata": {
    "collapsed": true
   },
   "outputs": [],
   "source": [
    "def num_chars_q2(df, stopwords = None):\n",
    "    if stopwords:\n",
    "        df['num_chars_q2_sw'] = df['question2'].apply(lambda x: sum([len([c for c in w if c not in punctuation]) for \n",
    "                                                                 w in x.strip().split() if\n",
    "                                                                 w not in stopwords]))\n",
    "        return(df)\n",
    "    else:\n",
    "        df['num_chars_q2'] = df['question2'].apply(lambda x: len(list([c for c in x.strip() if\n",
    "                                                                       c not in punctuation])))\n",
    "        return(df)"
   ]
  },
  {
   "cell_type": "markdown",
   "metadata": {},
   "source": [
    "#### 1.5 Difference in number of characters between q1 and q2\n",
    "\n",
    "assumes two functions above were already called"
   ]
  },
  {
   "cell_type": "code",
   "execution_count": 698,
   "metadata": {
    "collapsed": true
   },
   "outputs": [],
   "source": [
    "def num_chars_diff (df, stopwords = None):\n",
    "    if stopwords:\n",
    "        df['num_chars_diff_sw'] = abs(df['num_chars_q1_sw'] - df['num_chars_q2_sw'])\n",
    "        return(df)\n",
    "    else:\n",
    "        df['num_chars_diff'] = abs(df['num_chars_q1'] - df['num_chars_q2'])\n",
    "        return(df)"
   ]
  },
  {
   "cell_type": "markdown",
   "metadata": {},
   "source": [
    "#### 1.End -  basic feature distribution"
   ]
  },
  {
   "cell_type": "code",
   "execution_count": 244,
   "metadata": {
    "collapsed": false
   },
   "outputs": [],
   "source": [
    "df = len_intersection(df)\n",
    "df = num_words_q1(df)\n",
    "df = num_words_q2(df)\n",
    "df = num_words_diff(df)\n",
    "df = num_chars_q1(df)\n",
    "df = num_chars_q2(df)\n",
    "df = num_chars_diff(df)"
   ]
  },
  {
   "cell_type": "code",
   "execution_count": 254,
   "metadata": {
    "collapsed": false,
    "scrolled": true
   },
   "outputs": [
    {
     "data": {
      "text/plain": [
       "array([[<matplotlib.axes._subplots.AxesSubplot object at 0x123b98e50>,\n",
       "        <matplotlib.axes._subplots.AxesSubplot object at 0x12511c050>,\n",
       "        <matplotlib.axes._subplots.AxesSubplot object at 0x1252b2410>],\n",
       "       [<matplotlib.axes._subplots.AxesSubplot object at 0x1253114d0>,\n",
       "        <matplotlib.axes._subplots.AxesSubplot object at 0x125394810>,\n",
       "        <matplotlib.axes._subplots.AxesSubplot object at 0x1253e2f50>],\n",
       "       [<matplotlib.axes._subplots.AxesSubplot object at 0x12547d0d0>,\n",
       "        <matplotlib.axes._subplots.AxesSubplot object at 0x1254f2ed0>,\n",
       "        <matplotlib.axes._subplots.AxesSubplot object at 0x125560b50>]], dtype=object)"
      ]
     },
     "execution_count": 254,
     "metadata": {},
     "output_type": "execute_result"
    },
    {
     "data": {
      "text/plain": [
       "<matplotlib.figure.Figure at 0x123c7f310>"
      ]
     },
     "metadata": {},
     "output_type": "display_data"
    },
    {
     "data": {
      "image/png": "[encoded data removed]",
      "text/plain": [
       "<matplotlib.figure.Figure at 0x123c26190>"
      ]
     },
     "metadata": {},
     "output_type": "display_data"
    }
   ],
   "source": [
    "plt.figure()\n",
    "\n",
    "df[['len_intersection',\n",
    "   'num_words_q1',\n",
    "   'num_words_q2',\n",
    "   'num_words_diff',\n",
    "   'num_chars_q1',\n",
    "   'num_chars_q2',\n",
    "   'num_chars_diff']].hist(figsize=(15, 12))"
   ]
  },
  {
   "cell_type": "markdown",
   "metadata": {
    "collapsed": true
   },
   "source": [
    "---\n",
    "\n",
    "### 2. String distance features\n",
    "\n",
    "Features inspired and some code used from Abhishek Thakur's excellent [blogpost](https://www.linkedin.com/pulse/duplicate-quora-question-abhishek-thakur/) and Marco Bonzanini's [FuzzyWuzzy turorial](https://marcobonzanini.com/2015/02/25/fuzzy-string-matching-in-python/)\n",
    "\n"
   ]
  },
  {
   "cell_type": "markdown",
   "metadata": {},
   "source": [
    "#### 2.1 Partial character overlap ratio\n",
    "\n",
    "This will capture if the questions start the same way. For example, \"what is the best food\" and \"what is the best food to eat\" have a 100% partial word overlap ratio."
   ]
  },
  {
   "cell_type": "code",
   "execution_count": 699,
   "metadata": {
    "collapsed": false
   },
   "outputs": [],
   "source": [
    "# Partial word overlap. This will capture if the questions start the same way\n",
    "def partial_ratio(df, stopwords = None):\n",
    "    if stopwords:\n",
    "        df['partial_ratio_sw'] = df.apply(lambda x: fuzz.partial_ratio(\" \".join(\n",
    "                    [w for w in x['question1'].lower().strip().split() if w not in punctuation and w not in stopwords]),\n",
    "                    \" \".join([w for w in x['question2'].lower().strip().split() if w not in punctuation and w not in stopwords])\n",
    "                    ), axis = 1)\n",
    "        return(df)\n",
    "    else: \n",
    "        df['partial_ratio'] = df.apply(lambda x: fuzz.partial_ratio(\"\".join([c for c in x['question1'].lower().strip() if\n",
    "                                                   c not in punctuation]), \"\".join([c for c in x['question2'].lower().strip() if\n",
    "                                                   c not in punctuation])), axis = 1)\n",
    "        return(df)\n"
   ]
  },
  {
   "cell_type": "markdown",
   "metadata": {},
   "source": [
    "#### 2.2 Partial token set ratio\n",
    "\n",
    "Similar to the measure above, except here it is at a word level, and order does not matter. For example, \"Barack Obama\" and \"Barack H. Obama\" have 100% token set ratio match\n"
   ]
  },
  {
   "cell_type": "code",
   "execution_count": 700,
   "metadata": {
    "collapsed": true
   },
   "outputs": [],
   "source": [
    "# partial token set ratio\n",
    "def partial_token_set_ratio(df, stopwords = None):\n",
    "    if stopwords:\n",
    "        df['partial_token_set_ratio_sw'] = df.apply(lambda x: fuzz.partial_token_set_ratio(\" \".join(\n",
    "                    [w for w in x['question1'].lower().strip().split() if w not in punctuation and w not in stopwords]),\n",
    "                    \" \".join([w for w in x['question2'].lower().strip().split() if w not in punctuation and w not in stopwords])\n",
    "                    ), axis = 1)\n",
    "        return(df)\n",
    "    else: \n",
    "        df['partial_token_set_ratio'] = df.apply(lambda x: fuzz.partial_token_set_ratio(\"\".join([c for c in x['question1'].lower().strip() if\n",
    "                                                   c not in punctuation]), \"\".join([c for c in x['question2'].lower().strip() if\n",
    "                                                   c not in punctuation])), axis = 1)\n",
    "        return(df)"
   ]
  },
  {
   "cell_type": "markdown",
   "metadata": {},
   "source": [
    "#### 2.3 Token set ratio\n",
    "\n",
    "The partial token set ratio feature is extremely lenient. In fact, if any words are common between the two questions, it will be 100%. \n",
    "\n",
    "In this version, the sentences are considered as sets of tokens once more, but partial matches are not allowed\n"
   ]
  },
  {
   "cell_type": "code",
   "execution_count": 701,
   "metadata": {
    "collapsed": true
   },
   "outputs": [],
   "source": [
    "# partial token set ratio\n",
    "def token_set_ratio(df, stopwords = None):\n",
    "    if stopwords:\n",
    "        df['token_set_ratio_sw'] = df.apply(lambda x: fuzz.token_set_ratio(\" \".join(\n",
    "                    [w for w in x['question1'].lower().strip().split() if w not in punctuation and w not in stopwords]),\n",
    "                    \" \".join([w for w in x['question2'].lower().strip().split() if w not in punctuation and w not in stopwords])\n",
    "                    ), axis = 1)\n",
    "        return(df)\n",
    "    else: \n",
    "        df['token_set_ratio'] = df.apply(lambda x: fuzz.token_set_ratio(\"\".join([c for c in x['question1'].lower().strip() if\n",
    "                                                   c not in punctuation]), \"\".join([c for c in x['question2'].lower().strip() if\n",
    "                                                   c not in punctuation])), axis = 1)\n",
    "        return(df)"
   ]
  },
  {
   "cell_type": "markdown",
   "metadata": {},
   "source": [
    "####  2.4 Partial token sort ratio\n",
    "\n",
    "This doesn't consider the sentence as series of tokens, but instead of comparing the two sentences as a set of tokens (a strong assumption) we consider the match of the sorted tokens\n",
    "\n",
    "For example the sentences \"The food was great\" and \"It's great that the food was warm\" have a 100% partial token set ratio, but a but a 78% partial token sort ratio"
   ]
  },
  {
   "cell_type": "code",
   "execution_count": 702,
   "metadata": {
    "collapsed": true
   },
   "outputs": [],
   "source": [
    "# partial token sort ratio\n",
    "def partial_token_sort_ratio(df, stopwords = None):\n",
    "    if stopwords:\n",
    "        df['partial_token_sort_ratio_sw'] = df.apply(lambda x: fuzz.partial_token_set_ratio(\" \".join(\n",
    "                    [w for w in x['question1'].lower().strip().split() if w not in punctuation and w not in stopwords]),\n",
    "                    \" \".join([w for w in x['question2'].lower().strip().split() if w not in punctuation and w not in stopwords])\n",
    "                    ), axis = 1)\n",
    "        return(df)\n",
    "    else: \n",
    "        df['partial_token_sort_ratio'] = df.apply(lambda x: fuzz.partial_token_set_ratio(\"\".join([c for c in x['question1'].lower().strip() if\n",
    "                                                   c not in punctuation]), \"\".join([c for c in x['question2'].lower().strip() if\n",
    "                                                   c not in punctuation])), axis = 1)\n",
    "        return(df)"
   ]
  },
  {
   "cell_type": "markdown",
   "metadata": {},
   "source": [
    "####  2.5  token sort ratio\n",
    "\n",
    "Again, removing the partial match allowance. "
   ]
  },
  {
   "cell_type": "code",
   "execution_count": 703,
   "metadata": {
    "collapsed": true
   },
   "outputs": [],
   "source": [
    "# token sort ratio\n",
    "def token_sort_ratio(df, stopwords = None):\n",
    "    if stopwords:\n",
    "        df['token_sort_ratio_sw'] = df.apply(lambda x: fuzz.token_sort_ratio(\" \".join(\n",
    "                    [w for w in x['question1'].lower().strip().split() if w not in punctuation and w not in stopwords]),\n",
    "                    \" \".join([w for w in x['question2'].lower().strip().split() if w not in punctuation and w not in stopwords])\n",
    "                    ), axis = 1)\n",
    "        return(df)\n",
    "    else: \n",
    "        df['token_sort_ratio'] = df.apply(lambda x: fuzz.token_sort_ratio(\"\".join([c for c in x['question1'].lower().strip() if\n",
    "                                                   c not in punctuation]), \"\".join([c for c in x['question2'].lower().strip() if\n",
    "                                                   c not in punctuation])), axis = 1)\n",
    "        return(df)"
   ]
  },
  {
   "cell_type": "markdown",
   "metadata": {},
   "source": [
    "#### 2.5 Weighted ratio\n",
    "\n",
    "Finally, we can add a weighted ratio using fuzzywuzzy's `WRatio` algorithm. This computes a similarity score by taking a weighted average of several distance metrics, including the ones above. "
   ]
  },
  {
   "cell_type": "code",
   "execution_count": 704,
   "metadata": {
    "collapsed": true
   },
   "outputs": [],
   "source": [
    "# token sort ratio\n",
    "def wratio(df, stopwords = None):\n",
    "    if stopwords:\n",
    "        df['wratio_sw'] = df.apply(lambda x: fuzz.WRatio(\" \".join(\n",
    "                    [w for w in x['question1'].lower().strip().split() if w not in punctuation and w not in stopwords]),\n",
    "                    \" \".join([w for w in x['question2'].lower().strip().split() if w not in punctuation and w not in stopwords])\n",
    "                    ), axis = 1)\n",
    "        return(df)\n",
    "    else: \n",
    "        df['wratio'] = df.apply(lambda x: fuzz.WRatio(\"\".join([c for c in x['question1'].lower().strip() if\n",
    "                                                   c not in punctuation]), \"\".join([c for c in x['question2'].lower().strip() if\n",
    "                                                   c not in punctuation])), axis = 1)\n",
    "        return(df)"
   ]
  },
  {
   "cell_type": "markdown",
   "metadata": {},
   "source": [
    "#### 2.End Distribution of string distance features"
   ]
  },
  {
   "cell_type": "code",
   "execution_count": 257,
   "metadata": {
    "collapsed": false
   },
   "outputs": [],
   "source": [
    "df = partial_ratio(df)\n",
    "df = partial_token_set_ratio(df)\n",
    "df = token_set_ratio(df)\n",
    "df = partial_token_set_ratio(df)\n",
    "df = token_sort_ratio(df)\n",
    "df = partial_token_sort_ratio(df)\n",
    "df = wratio(df)"
   ]
  },
  {
   "cell_type": "code",
   "execution_count": 258,
   "metadata": {
    "collapsed": false
   },
   "outputs": [
    {
     "data": {
      "text/plain": [
       "array([[<matplotlib.axes._subplots.AxesSubplot object at 0x125cd4e90>,\n",
       "        <matplotlib.axes._subplots.AxesSubplot object at 0x145845250>,\n",
       "        <matplotlib.axes._subplots.AxesSubplot object at 0x13e798b10>],\n",
       "       [<matplotlib.axes._subplots.AxesSubplot object at 0x14a2afe50>,\n",
       "        <matplotlib.axes._subplots.AxesSubplot object at 0x13c786950>,\n",
       "        <matplotlib.axes._subplots.AxesSubplot object at 0x144806690>],\n",
       "       [<matplotlib.axes._subplots.AxesSubplot object at 0x14bbd64d0>,\n",
       "        <matplotlib.axes._subplots.AxesSubplot object at 0x1457b41d0>,\n",
       "        <matplotlib.axes._subplots.AxesSubplot object at 0x145734410>]], dtype=object)"
      ]
     },
     "execution_count": 258,
     "metadata": {},
     "output_type": "execute_result"
    },
    {
     "data": {
      "text/plain": [
       "<matplotlib.figure.Figure at 0x123cd3690>"
      ]
     },
     "metadata": {},
     "output_type": "display_data"
    },
    {
     "data": {
      "image/png": "[encoded data removed]",
      "text/plain": [
       "<matplotlib.figure.Figure at 0x125cc4c50>"
      ]
     },
     "metadata": {},
     "output_type": "display_data"
    }
   ],
   "source": [
    "plt.figure()\n",
    "\n",
    "df[['partial_ratio',\n",
    "'partial_token_set_ratio',\n",
    "'token_set_ratio',\n",
    "'partial_token_set_ratio',\n",
    "'token_sort_ratio',\n",
    "'partial_token_sort_ratio',\n",
    "'wratio']].hist(figsize=(15, 12))"
   ]
  },
  {
   "cell_type": "markdown",
   "metadata": {},
   "source": [
    "### 3. Tf-Idf features\n",
    "\n"
   ]
  },
  {
   "cell_type": "markdown",
   "metadata": {},
   "source": [
    "#### 3.0 Find Tf-Idf weights on the entire corpus."
   ]
  },
  {
   "cell_type": "code",
   "execution_count": 436,
   "metadata": {
    "collapsed": false
   },
   "outputs": [
    {
     "data": {
      "text/plain": [
       "TfidfVectorizer(analyzer=u'word', binary=False, decode_error=u'strict',\n",
       "        dtype=<type 'numpy.int64'>, encoding=u'utf-8', input=u'content',\n",
       "        lowercase=True, max_df=1.0, max_features=None, min_df=1,\n",
       "        ngram_range=(1, 1), norm=u'l2', preprocessor=None, smooth_idf=True,\n",
       "        stop_words=[u'i', u'me', u'my', u'myself', u'we', u'our', u'ours', u'ourselves', u'you', u'your', u'yours', u'yourself', u'yourselves', u'he', u'him', u'his', u'himself', u'she', u'her', u'hers', u'herself', u'it', u'its', u'itself', u'they', u'them', u'their', u'theirs', u'themselves', u'what', u'w...n', u'ma', u'mightn', u'mustn', u'needn', u'shan', u'shouldn', u'wasn', u'weren', u'won', u'wouldn'],\n",
       "        strip_accents=None, sublinear_tf=False,\n",
       "        token_pattern=u'(?u)\\\\b\\\\w\\\\w+\\\\b', tokenizer=None, use_idf=True,\n",
       "        vocabulary=None)"
      ]
     },
     "execution_count": 436,
     "metadata": {},
     "output_type": "execute_result"
    }
   ],
   "source": [
    "# get all the corpus in one numpy array\n",
    "values = df['question1'].append(df['question2']).apply(lambda x: re.sub('[ ]{2,}', ' ',\n",
    "                                        re.sub('[^a-z]', ' ', x.lower().strip()))).values\n",
    "# train tf-idf weights to the training quesitons\n",
    "vectorizer = TfidfVectorizer(stop_words = stopwords, lowercase = True)\n",
    "vectorizer.fit(values)"
   ]
  },
  {
   "cell_type": "markdown",
   "metadata": {},
   "source": [
    "Store the Tf-Idf weights in a dictionary"
   ]
  },
  {
   "cell_type": "code",
   "execution_count": 454,
   "metadata": {
    "collapsed": true
   },
   "outputs": [],
   "source": [
    "idf = vectorizer._tfidf.idf_\n",
    "tfidf_weights = dict(zip(vectorizer.get_feature_names(), idf))"
   ]
  },
  {
   "cell_type": "markdown",
   "metadata": {},
   "source": [
    "#### 3.1  and 3.2 Total Tf-Idf weight of words in the intersection of question1 and question2, and total Tf-Idf weight of words in the symmetric difference of question1 and question2 "
   ]
  },
  {
   "cell_type": "code",
   "execution_count": 409,
   "metadata": {
    "collapsed": true
   },
   "outputs": [],
   "source": [
    "# by default remove stopwords\n",
    "def tf_idf_weight(df, stopwords = stopwords, norm = 'l2', vectorizer = vectorizer):\n",
    "\n",
    "\n",
    "    # get the total tfidf weight for the words in the intersection of the two sentences. \n",
    "    df['word_intersection_tfidf_weight'] = df.apply(lambda x: vectorizer.transform([\n",
    "            \" \".join(set(x['question1'].split()).intersection(x['question2'].split()))]).sum(), axis = 1)\n",
    "    \n",
    "    # get the total tfidf weight for the words in the symmetric difference of the two sentences \n",
    "    df['word_symmetric_difference_tfidf_weight'] = df.apply(lambda x: vectorizer.transform([\n",
    "            \" \".join(set(x['question1'].split()).symmetric_difference(x['question2'].split()))]).sum(), axis = 1)\n",
    "    \n",
    "    return(df)"
   ]
  },
  {
   "cell_type": "markdown",
   "metadata": {},
   "source": [
    "---\n",
    "### 4. Word Embedding Features\n",
    "\n",
    "For the following features, I used Facebooks pre trained `fasttext` word embeddings, trained on the wikipedia corpus. You can find this embedding [here](https://github.com/facebookresearch/fastText/blob/master/pretrained-vectors.md).\n",
    "\n",
    "Again, the inspiration for many of these features and the function `sent2vec` come from Abhishek Thakur's outstanding [blogpost](https://www.linkedin.com/pulse/duplicate-quora-question-abhishek-thakur/). (Thanks Abhishek!!!)"
   ]
  },
  {
   "cell_type": "code",
   "execution_count": 396,
   "metadata": {
    "collapsed": true
   },
   "outputs": [],
   "source": [
    "# load the pretrained word2vec embeddings \n",
    "model = KeyedVectors.load_word2vec_format('../data/embeddings/wiki.en.vec')"
   ]
  },
  {
   "cell_type": "markdown",
   "metadata": {},
   "source": [
    "#### 4.0 A function which casts a sentence to a 300-dimensional vector. \n",
    "\n",
    "It works by taking the average position of the average position of the word embeddings in the sentence. "
   ]
  },
  {
   "cell_type": "code",
   "execution_count": 766,
   "metadata": {
    "collapsed": false
   },
   "outputs": [],
   "source": [
    "def sent2vec(s, model = model,  stopwords = stopwords, punctuation = punctuation):\n",
    "    words = [w for w in s.lower().strip() if w not in stopwords and w not in punctuation and w.isalpha()]\n",
    "    # collect all embeddings of the words in the sentence\n",
    "    M = []\n",
    "    for w in words:\n",
    "        M.append(model[w])\n",
    "    # Take the average embedding position\n",
    "    M = np.array(M)\n",
    "    # average over the columns to get an embedding of the sentence\n",
    "    v = M.mean(axis = 0)\n",
    "    # if failed, return origin\n",
    "    if np.all(np.isnan(v)):\n",
    "        return np.repeat(0, 300)\n",
    "    return(v)"
   ]
  },
  {
   "cell_type": "markdown",
   "metadata": {
    "collapsed": false
   },
   "source": [
    "#### 4.1 Embedding of sentence 1 and sentence 2"
   ]
  },
  {
   "cell_type": "code",
   "execution_count": 767,
   "metadata": {
    "collapsed": true
   },
   "outputs": [],
   "source": [
    "def q1_embedding(df, model = model, stopwords = stopwords, punctuation = punctuation):\n",
    "    # create a column for embedding of q1\n",
    "    df['q1_embedding'] = [sent2vec(s, model = model, stopwords = stopwords, punctuation = punctuation) for\n",
    "                          s in df['question1']]\n",
    "    return(df)\n",
    "\n",
    "def q2_embedding(df, model = model, stopwords = stopwords, punctuation = punctuation):\n",
    "    # create a column for embedding of q1\n",
    "    df['q2_embedding'] = [sent2vec(s, model = model, stopwords = stopwords, punctuation = punctuation) for\n",
    "                          s in df['question2']]\n",
    "    return(df)"
   ]
  },
  {
   "cell_type": "markdown",
   "metadata": {
    "collapsed": true
   },
   "source": [
    "#### Embedding of word in sentence with highest Tf-Idf weight. \n",
    "\n",
    "Taking the average location of the word embeddings of a sentence may not produce meaningful embeddings. It may be more natural to try and select hte most \"representative\" or \"important\" word in a sentence, and study the embedding of that word. \n",
    "\n",
    "To find the most \"important\" word in a sentence I'll look at the word with the highest Tf-Idf weight, and then look at the embedding for that word."
   ]
  },
  {
   "cell_type": "code",
   "execution_count": 796,
   "metadata": {
    "collapsed": false
   },
   "outputs": [],
   "source": [
    "# get the word with the highest tf_idf weight in the question for question1 and question2\n",
    "def q1_highest_tfidf_weight(df, tfidf_weights = tfidf_weights):\n",
    "    def max_word(x):\n",
    "        try:\n",
    "            return(max([(w, tfidf_weights[w]) for w in x.strip().lower().split() if \n",
    "                                         w in tfidf_weights], key=itemgetter(1))[0])\n",
    "        except:\n",
    "            return(\"\")\n",
    "            \n",
    "    df['q1_highest_tfidf_weight'] = df['question1'].apply(lambda x: max_word(x))\n",
    "    return(df)\n",
    "\n",
    "# get the word with the highest tf_idf weight in the question for question1 and question2\n",
    "def q2_highest_tfidf_weight(df, tfidf_weights = tfidf_weights):\n",
    "    def max_word(x):\n",
    "        try:\n",
    "            return(max([(w, tfidf_weights[w]) for w in x.strip().lower().split() if \n",
    "                                         w in tfidf_weights], key=itemgetter(1))[0])\n",
    "        except:\n",
    "            return(\"\")\n",
    "    df['q2_highest_tfidf_weight'] = df['question2'].apply(lambda x: max_word(x))\n",
    "    return(df)"
   ]
  },
  {
   "cell_type": "markdown",
   "metadata": {},
   "source": [
    "Now add the embedding of the word with the highest tf_idf weight as a feature"
   ]
  },
  {
   "cell_type": "code",
   "execution_count": 809,
   "metadata": {
    "collapsed": false
   },
   "outputs": [],
   "source": [
    "def q1_max_tf_idf_embedding(df, model = model):\n",
    "    df['q1_max_tf_idf_embedding'] = [model[w] if w in model else np.repeat(0,300) for w in df['q1_highest_tfidf_weight']]\n",
    "    return(df)\n",
    "\n",
    "def q2_max_tf_idf_embedding(df, model = model):\n",
    "    df['q2_max_tf_idf_embedding'] = [model[w] if w in model else np.repeat(0,300) for w in df['q2_highest_tfidf_weight'] ]\n",
    "    return(df)"
   ]
  },
  {
   "cell_type": "markdown",
   "metadata": {},
   "source": [
    "#### 4.2 Euclidean distance between the sentence vector embeddings"
   ]
  },
  {
   "cell_type": "code",
   "execution_count": 637,
   "metadata": {
    "collapsed": false,
    "scrolled": false
   },
   "outputs": [],
   "source": [
    "def euclidean_distance_sentence_embeddings(df):\n",
    "    df['euclidean_distance_sentence_embeddings'] = [euclidean(x, y) for (x, y) in zip(np.nan_to_num(df['q1_embedding']),\n",
    "                                                          np.nan_to_num(df['q2_embedding']))]\n",
    "    return(df)"
   ]
  },
  {
   "cell_type": "markdown",
   "metadata": {},
   "source": [
    "#### 4.3 Euclidean distance between words of highest Tf-Idf weight"
   ]
  },
  {
   "cell_type": "code",
   "execution_count": 634,
   "metadata": {
    "collapsed": true
   },
   "outputs": [],
   "source": [
    "def euclidean_distance_max_tfidf_word(df):\n",
    "    df['euclidean_distance_max_tfidf_word'] = [euclidean(x, y) for (x, y) in zip(np.nan_to_num(df['q1_max_tf_idf_embedding']),\n",
    "                                                          np.nan_to_num(df['q2_max_tf_idf_embedding']))]\n",
    "    return(df)"
   ]
  },
  {
   "cell_type": "markdown",
   "metadata": {},
   "source": [
    "#### 4.4  Cosine distance between sentence embeddigns"
   ]
  },
  {
   "cell_type": "code",
   "execution_count": 934,
   "metadata": {
    "collapsed": true
   },
   "outputs": [],
   "source": [
    "def cosine_distance_sentence_embeddings(df):\n",
    "    df['cosine_distance_sentence_embeddings'] = [cosine(x, y) for (x, y) in zip(np.nan_to_num(df['q1_embedding']),\n",
    "                                                          np.nan_to_num(df['q2_embedding']))]\n",
    "    \n",
    "    # fill NaN values as discussed below\n",
    "    fill = df[pd.isnull(df['cosine_distance_sentence_embeddings'])].apply(lambda x: 0 if\n",
    "                        np.array_equal(x['q1_embedding'], x['q2_embedding'])  \n",
    "                        else 1, axis = 1)\n",
    "    \n",
    "    if len(fill) > 0:\n",
    "        df['cosine_distance_sentence_embeddings'] = df['cosine_distance_sentence_embeddings'].fillna(fill)\n",
    "        \n",
    "    return(df)"
   ]
  },
  {
   "cell_type": "markdown",
   "metadata": {},
   "source": [
    "####  4.5 Cosine distance between words of highest Tf-Idf weight\n",
    "\n",
    "Note: At the moment, when a word is out of the vocabulary, I send it's embedding to the origin. Thus, the cosine similiarity between the embedding of any word to that of a word which is outside the vocabulary is `NaN`. \n",
    "\n",
    "The cosine similarity represents the correlation between the two vectors. Thus, it's not so simple to fill these values. \n",
    "\n",
    "As a simple heuristic, I'll fill the `NaN` values generated with `1` if the two words are identical, and `0` otherwise. It's not ideal, but at least we won't say that identical vecotrs are orthogonal...\n",
    "\n",
    "Suggestions would be awesome. "
   ]
  },
  {
   "cell_type": "code",
   "execution_count": 932,
   "metadata": {
    "collapsed": false
   },
   "outputs": [],
   "source": [
    "def cosine_distance_max_tfidf_word(df):\n",
    "    df['cosine_distance_max_tfidf_word'] = [cosine(x, y) for (x, y) in zip(df['q1_max_tf_idf_embedding'],\n",
    "                                                          df['q2_max_tf_idf_embedding'])]\n",
    "    \n",
    "    # fill NaN values as discussed above\n",
    "    fill = df[pd.isnull(df['cosine_distance_max_tfidf_word'])].apply(lambda x: 0 if\n",
    "                        np.array_equal(x['q1_max_tf_idf_embedding'], x['q2_max_tf_idf_embedding'])  \n",
    "                        else 1, axis = 1)\n",
    "    \n",
    "    if len(fill) > 0:\n",
    "        df['cosine_distance_max_tfidf_word'] = df['cosine_distance_max_tfidf_word'].fillna(fill)\n",
    "    return(df, fill)"
   ]
  },
  {
   "cell_type": "markdown",
   "metadata": {},
   "source": [
    "#### 4.6 cityblock distance between sentence embeddings \n"
   ]
  },
  {
   "cell_type": "code",
   "execution_count": 654,
   "metadata": {
    "collapsed": true
   },
   "outputs": [],
   "source": [
    "def cityblock_distance_sentence_embeddings(df):\n",
    "    df['cityblock_distance_sentence_embeddings'] = [cityblock(x, y) for (x, y) in zip(np.nan_to_num(df['q1_embedding']),\n",
    "                                                          np.nan_to_num(df['q2_embedding']))]\n",
    "    return(df)"
   ]
  },
  {
   "cell_type": "markdown",
   "metadata": {},
   "source": [
    "####  4.7 Jaccard distance between sentence embeddigs:\n"
   ]
  },
  {
   "cell_type": "code",
   "execution_count": 656,
   "metadata": {
    "collapsed": true
   },
   "outputs": [],
   "source": [
    "def jaccard_distance_sentence_embeddings(df):\n",
    "    df['jaccard_distance_sentence_embeddings'] = [jaccard(x, y) for (x, y) in zip(np.nan_to_num(df['q1_embedding']),\n",
    "                                                          np.nan_to_num(df['q2_embedding']))]\n",
    "    return(df)"
   ]
  },
  {
   "cell_type": "markdown",
   "metadata": {},
   "source": [
    "####  Braycurtis distance between sentence embeddings"
   ]
  },
  {
   "cell_type": "code",
   "execution_count": 657,
   "metadata": {
    "collapsed": true
   },
   "outputs": [],
   "source": [
    "def braycurtis_distance_sentence_embeddings(df):\n",
    "    df['braycurtis_distance_sentence_embeddings'] = [braycurtis(x, y) for (x, y) in zip(np.nan_to_num(df['q1_embedding']),\n",
    "                                                          np.nan_to_num(df['q2_embedding']))]\n",
    "    return(df)"
   ]
  },
  {
   "cell_type": "markdown",
   "metadata": {},
   "source": [
    "---\n",
    "\n",
    "### 5. Linguistic features\n",
    "\n",
    "(TODO - main purpose of this project)"
   ]
  },
  {
   "cell_type": "markdown",
   "metadata": {},
   "source": [
    "---\n",
    "### Calculating all features"
   ]
  },
  {
   "cell_type": "code",
   "execution_count": 815,
   "metadata": {
    "collapsed": false
   },
   "outputs": [
    {
     "data": {
      "text/html": [
       "<div>\n",
       "<table border=\"1\" class=\"dataframe\">\n",
       "  <thead>\n",
       "    <tr style=\"text-align: right;\">\n",
       "      <th></th>\n",
       "      <th>Unnamed: 0</th>\n",
       "      <th>id</th>\n",
       "      <th>qid1</th>\n",
       "      <th>qid2</th>\n",
       "      <th>question1</th>\n",
       "      <th>question2</th>\n",
       "      <th>is_duplicate</th>\n",
       "      <th>len_intersection</th>\n",
       "      <th>len_intersection_sw</th>\n",
       "      <th>num_words_q1</th>\n",
       "      <th>...</th>\n",
       "      <th>cosine_distance_sentence_embeddings</th>\n",
       "      <th>cityblock_distance_sentence_embeddings</th>\n",
       "      <th>jaccard_distance_sentence_embeddings</th>\n",
       "      <th>braycurtis_distance_sentence_embeddings</th>\n",
       "      <th>q1_highest_tfidf_weight</th>\n",
       "      <th>q2_highest_tfidf_weight</th>\n",
       "      <th>q1_max_tf_idf_embedding</th>\n",
       "      <th>q2_max_tf_idf_embedding</th>\n",
       "      <th>euclidean_distance_max_tfidf_word</th>\n",
       "      <th>cosine_distance_max_tfidf_word</th>\n",
       "    </tr>\n",
       "  </thead>\n",
       "  <tbody>\n",
       "    <tr>\n",
       "      <th>0</th>\n",
       "      <td>1</td>\n",
       "      <td>0</td>\n",
       "      <td>1</td>\n",
       "      <td>2</td>\n",
       "      <td>What is the step by step guide to invest in sh...</td>\n",
       "      <td>What is the step by step guide to invest in sh...</td>\n",
       "      <td>0</td>\n",
       "      <td>10</td>\n",
       "      <td>5</td>\n",
       "      <td>14</td>\n",
       "      <td>...</td>\n",
       "      <td>0.004921</td>\n",
       "      <td>3.938651</td>\n",
       "      <td>1.0</td>\n",
       "      <td>0.049871</td>\n",
       "      <td>guide</td>\n",
       "      <td>guide</td>\n",
       "      <td>[-0.028461, -0.34315, 0.23021, -0.063865, -0.5...</td>\n",
       "      <td>[-0.028461, -0.34315, 0.23021, -0.063865, -0.5...</td>\n",
       "      <td>0.000000</td>\n",
       "      <td>3.250036e-08</td>\n",
       "    </tr>\n",
       "    <tr>\n",
       "      <th>1</th>\n",
       "      <td>2</td>\n",
       "      <td>1</td>\n",
       "      <td>3</td>\n",
       "      <td>4</td>\n",
       "      <td>What is the story of Kohinoor Koh - i - Noor D...</td>\n",
       "      <td>What would happen if the Indian government sto...</td>\n",
       "      <td>0</td>\n",
       "      <td>2</td>\n",
       "      <td>0</td>\n",
       "      <td>10</td>\n",
       "      <td>...</td>\n",
       "      <td>0.027946</td>\n",
       "      <td>10.689272</td>\n",
       "      <td>1.0</td>\n",
       "      <td>0.129334</td>\n",
       "      <td>noor</td>\n",
       "      <td>noor</td>\n",
       "      <td>[0.037287, -0.31785, -0.23973, 0.38453, -0.037...</td>\n",
       "      <td>[0.037287, -0.31785, -0.23973, 0.38453, -0.037...</td>\n",
       "      <td>0.000000</td>\n",
       "      <td>4.103800e-08</td>\n",
       "    </tr>\n",
       "    <tr>\n",
       "      <th>2</th>\n",
       "      <td>3</td>\n",
       "      <td>2</td>\n",
       "      <td>5</td>\n",
       "      <td>6</td>\n",
       "      <td>How can I increase the speed of my internet co...</td>\n",
       "      <td>How can Internet speed be increased by hacking...</td>\n",
       "      <td>0</td>\n",
       "      <td>3</td>\n",
       "      <td>2</td>\n",
       "      <td>14</td>\n",
       "      <td>...</td>\n",
       "      <td>0.010569</td>\n",
       "      <td>5.988954</td>\n",
       "      <td>1.0</td>\n",
       "      <td>0.075329</td>\n",
       "      <td>vpn</td>\n",
       "      <td>dns</td>\n",
       "      <td>[-0.14387, 0.66254, -0.23895, 0.036253, 0.1737...</td>\n",
       "      <td>[-0.4192, 0.50649, -0.034163, -0.072171, 0.370...</td>\n",
       "      <td>5.495713</td>\n",
       "      <td>4.284846e-01</td>\n",
       "    </tr>\n",
       "    <tr>\n",
       "      <th>3</th>\n",
       "      <td>4</td>\n",
       "      <td>3</td>\n",
       "      <td>7</td>\n",
       "      <td>8</td>\n",
       "      <td>Why am I mentally very lonely ? How can I solv...</td>\n",
       "      <td>Find the remainder when math 23 24 math is div...</td>\n",
       "      <td>0</td>\n",
       "      <td>0</td>\n",
       "      <td>0</td>\n",
       "      <td>11</td>\n",
       "      <td>...</td>\n",
       "      <td>0.065936</td>\n",
       "      <td>15.007527</td>\n",
       "      <td>1.0</td>\n",
       "      <td>0.184240</td>\n",
       "      <td>mentally</td>\n",
       "      <td>remainder</td>\n",
       "      <td>[-0.19269, -0.3287, -0.42276, 0.0051427, -0.16...</td>\n",
       "      <td>[-0.39733, -0.13798, 0.21101, 0.23799, 0.02578...</td>\n",
       "      <td>4.781672</td>\n",
       "      <td>8.190252e-01</td>\n",
       "    </tr>\n",
       "    <tr>\n",
       "      <th>4</th>\n",
       "      <td>5</td>\n",
       "      <td>4</td>\n",
       "      <td>9</td>\n",
       "      <td>10</td>\n",
       "      <td>Which one dissolve in water quickly sugar , sa...</td>\n",
       "      <td>Which fish would survive in salt water ?</td>\n",
       "      <td>0</td>\n",
       "      <td>3</td>\n",
       "      <td>2</td>\n",
       "      <td>13</td>\n",
       "      <td>...</td>\n",
       "      <td>0.038453</td>\n",
       "      <td>11.145288</td>\n",
       "      <td>1.0</td>\n",
       "      <td>0.142762</td>\n",
       "      <td>di</td>\n",
       "      <td>salt</td>\n",
       "      <td>[-0.11365, -0.034778, 0.081818, -0.20455, 0.01...</td>\n",
       "      <td>[-0.064408, -0.073121, -0.25947, 0.15424, -0.3...</td>\n",
       "      <td>6.219034</td>\n",
       "      <td>8.441631e-01</td>\n",
       "    </tr>\n",
       "  </tbody>\n",
       "</table>\n",
       "<p>5 rows × 46 columns</p>\n",
       "</div>"
      ],
      "text/plain": [
       "   Unnamed: 0  id  qid1  qid2  \\\n",
       "0           1   0     1     2   \n",
       "1           2   1     3     4   \n",
       "2           3   2     5     6   \n",
       "3           4   3     7     8   \n",
       "4           5   4     9    10   \n",
       "\n",
       "                                           question1  \\\n",
       "0  What is the step by step guide to invest in sh...   \n",
       "1  What is the story of Kohinoor Koh - i - Noor D...   \n",
       "2  How can I increase the speed of my internet co...   \n",
       "3  Why am I mentally very lonely ? How can I solv...   \n",
       "4  Which one dissolve in water quickly sugar , sa...   \n",
       "\n",
       "                                           question2  is_duplicate  \\\n",
       "0  What is the step by step guide to invest in sh...             0   \n",
       "1  What would happen if the Indian government sto...             0   \n",
       "2  How can Internet speed be increased by hacking...             0   \n",
       "3  Find the remainder when math 23 24 math is div...             0   \n",
       "4          Which fish would survive in salt water ?              0   \n",
       "\n",
       "   len_intersection  len_intersection_sw  num_words_q1  \\\n",
       "0                10                    5            14   \n",
       "1                 2                    0            10   \n",
       "2                 3                    2            14   \n",
       "3                 0                    0            11   \n",
       "4                 3                    2            13   \n",
       "\n",
       "                ...                cosine_distance_sentence_embeddings  \\\n",
       "0               ...                                           0.004921   \n",
       "1               ...                                           0.027946   \n",
       "2               ...                                           0.010569   \n",
       "3               ...                                           0.065936   \n",
       "4               ...                                           0.038453   \n",
       "\n",
       "   cityblock_distance_sentence_embeddings  \\\n",
       "0                                3.938651   \n",
       "1                               10.689272   \n",
       "2                                5.988954   \n",
       "3                               15.007527   \n",
       "4                               11.145288   \n",
       "\n",
       "   jaccard_distance_sentence_embeddings  \\\n",
       "0                                   1.0   \n",
       "1                                   1.0   \n",
       "2                                   1.0   \n",
       "3                                   1.0   \n",
       "4                                   1.0   \n",
       "\n",
       "   braycurtis_distance_sentence_embeddings  q1_highest_tfidf_weight  \\\n",
       "0                                 0.049871                    guide   \n",
       "1                                 0.129334                     noor   \n",
       "2                                 0.075329                      vpn   \n",
       "3                                 0.184240                 mentally   \n",
       "4                                 0.142762                       di   \n",
       "\n",
       "   q2_highest_tfidf_weight                            q1_max_tf_idf_embedding  \\\n",
       "0                    guide  [-0.028461, -0.34315, 0.23021, -0.063865, -0.5...   \n",
       "1                     noor  [0.037287, -0.31785, -0.23973, 0.38453, -0.037...   \n",
       "2                      dns  [-0.14387, 0.66254, -0.23895, 0.036253, 0.1737...   \n",
       "3                remainder  [-0.19269, -0.3287, -0.42276, 0.0051427, -0.16...   \n",
       "4                     salt  [-0.11365, -0.034778, 0.081818, -0.20455, 0.01...   \n",
       "\n",
       "                             q2_max_tf_idf_embedding  \\\n",
       "0  [-0.028461, -0.34315, 0.23021, -0.063865, -0.5...   \n",
       "1  [0.037287, -0.31785, -0.23973, 0.38453, -0.037...   \n",
       "2  [-0.4192, 0.50649, -0.034163, -0.072171, 0.370...   \n",
       "3  [-0.39733, -0.13798, 0.21101, 0.23799, 0.02578...   \n",
       "4  [-0.064408, -0.073121, -0.25947, 0.15424, -0.3...   \n",
       "\n",
       "   euclidean_distance_max_tfidf_word  cosine_distance_max_tfidf_word  \n",
       "0                           0.000000                    3.250036e-08  \n",
       "1                           0.000000                    4.103800e-08  \n",
       "2                           5.495713                    4.284846e-01  \n",
       "3                           4.781672                    8.190252e-01  \n",
       "4                           6.219034                    8.441631e-01  \n",
       "\n",
       "[5 rows x 46 columns]"
      ]
     },
     "execution_count": 815,
     "metadata": {},
     "output_type": "execute_result"
    }
   ],
   "source": [
    "df.head()"
   ]
  },
  {
   "cell_type": "code",
   "execution_count": 812,
   "metadata": {
    "collapsed": false
   },
   "outputs": [
    {
     "data": {
      "text/plain": [
       "Index([u'Unnamed: 0', u'id', u'qid1', u'qid2', u'question1', u'question2',\n",
       "       u'is_duplicate', u'len_intersection', u'len_intersection_sw',\n",
       "       u'num_words_q1', u'num_words_q1_sw', u'num_words_q2',\n",
       "       u'num_words_q2_sw', u'num_words_diff', u'num_words_diff_sw',\n",
       "       u'num_chars_q1', u'num_chars_q1_sw', u'num_chars_q2',\n",
       "       u'num_chars_q2_sw', u'num_chars_diff', u'num_chars_diff_sw',\n",
       "       u'partial_ratio', u'partial_ratio_sw', u'partial_token_set_ratio',\n",
       "       u'partial_token_set_ratio_sw', u'token_set_ratio',\n",
       "       u'token_set_ratio_sw', u'partial_token_sort_ratio',\n",
       "       u'partial_token_sort_ratio_sw', u'wratio', u'wratio_sw',\n",
       "       u'word_intersection_tfidf_weight',\n",
       "       u'word_symmetric_difference_tfidf_weight', u'q1_embedding',\n",
       "       u'q2_embedding', u'euclidean_distance_sentence_embeddings',\n",
       "       u'cosine_distance_sentence_embeddings',\n",
       "       u'cityblock_distance_sentence_embeddings',\n",
       "       u'jaccard_distance_sentence_embeddings',\n",
       "       u'braycurtis_distance_sentence_embeddings', u'q1_highest_tfidf_weight',\n",
       "       u'q2_highest_tfidf_weight', u'q1_max_tf_idf_embedding',\n",
       "       u'q2_max_tf_idf_embedding', u'euclidean_distance_max_tfidf_word',\n",
       "       u'cosine_distance_max_tfidf_word'],\n",
       "      dtype='object')"
      ]
     },
     "execution_count": 812,
     "metadata": {},
     "output_type": "execute_result"
    }
   ],
   "source": [
    "df.columns"
   ]
  },
  {
   "cell_type": "code",
   "execution_count": 705,
   "metadata": {
    "collapsed": false
   },
   "outputs": [],
   "source": [
    "# number of words in common\n",
    "df = len_intersection(df)\n",
    "# number of words in common (excluding stopwords)\n",
    "df = len_intersection(df, stopwords = stopwords)\n",
    "# number of words in q1\n",
    "df = num_words_q1(df)\n",
    "# number of words in q1 (excluding stopwords)\n",
    "df = num_words_q1(df, stopwords = stopwords)\n",
    "# number of words in q2 \n",
    "df = num_words_q2(df)\n",
    "# number of words in q2 (excluding stopwords)\n",
    "df = num_words_q2(df, stopwords = stopwords)\n",
    "# difference in the number of words\n",
    "df = num_words_diff(df)\n",
    "# difference in the number of words (excluding stopwords)\n",
    "df = num_words_diff(df, stopwords = stopwords)\n",
    "# number of characters in q1\n",
    "df = num_chars_q1(df)\n",
    "# number of characters in q1 (excluding stopwords)\n",
    "df = num_chars_q1(df, stopwords = stopwords)\n",
    "# number of characters in q2 \n",
    "df = num_chars_q2(df)\n",
    "# number of characters in q2 (excluding stopwords)\n",
    "df = num_chars_q2(df, stopwords = stopwords)\n",
    "# difference in number of characters\n",
    "df = num_chars_diff(df)\n",
    "# difference in number of characters(excluding stopwords)\n",
    "df = num_chars_diff(df, stopwords = stopwords)"
   ]
  },
  {
   "cell_type": "code",
   "execution_count": 708,
   "metadata": {
    "collapsed": true
   },
   "outputs": [],
   "source": [
    "# partial ratio between sentences\n",
    "df = partial_ratio(df)\n",
    "# partial ratio between sentences (excluding stopwords)\n",
    "df = partial_ratio(df, stopwords = stopwords)\n",
    "# partial token ratio between sentences\n",
    "df = partial_token_set_ratio(df)\n",
    "# partial token ratio between sentences (excluding stopwords)\n",
    "df = partial_token_set_ratio(df, stopwords = stopwords)\n",
    "# token set ratio\n",
    "df = token_set_ratio(df)\n",
    "# token set ratio (stopwords excluded)\n",
    "df = token_set_ratio(df, stopwords = stopwords)\n",
    "# partial token sort ratio \n",
    "df = partial_token_sort_ratio(df)\n",
    "# partial token sort ratio (stopwords excluded)\n",
    "df = partial_token_sort_ratio(df, stopwords = stopwords)\n",
    "# token sort ratio\n",
    "df = token_set_ratio(df)\n",
    "# token sort ratio (stopwords excluded)\n",
    "df = token_set_ratio(df, stopwords = stopwords)\n",
    "# w-ratio\n",
    "df = wratio(df)\n",
    "# w-ratio (stopwords excluded)\n",
    "df = wratio(df, stopwords = stopwords)"
   ]
  },
  {
   "cell_type": "code",
   "execution_count": 711,
   "metadata": {
    "collapsed": true
   },
   "outputs": [],
   "source": [
    "# total tf-idf weight in words in sentence (excluding stopwords)\n",
    "df = tf_idf_weight(df)"
   ]
  },
  {
   "cell_type": "code",
   "execution_count": 759,
   "metadata": {
    "collapsed": false
   },
   "outputs": [
    {
     "name": "stderr",
     "output_type": "stream",
     "text": [
      "/Library/Frameworks/Python.framework/Versions/2.7/lib/python2.7/site-packages/ipykernel/__main__.py:10: RuntimeWarning: Mean of empty slice.\n"
     ]
    }
   ],
   "source": [
    "# sentence embedding of quesiton1 (stopwords excluded)\n",
    "df = q1_embedding(df)\n",
    "# sentence embedding of question2 (stopwords excluded)\n",
    "df = q2_embedding(df)\n"
   ]
  },
  {
   "cell_type": "code",
   "execution_count": 763,
   "metadata": {
    "collapsed": false
   },
   "outputs": [],
   "source": [
    "# euclidean distance between sentence embeddings\n",
    "df = euclidean_distance_sentence_embeddings(df)\n",
    "# cosine distance between sentence embeddings\n",
    "df = cosine_distance_sentence_embeddings(df)\n",
    "# cityblock distance between sentence embeddings\n",
    "df = cityblock_distance_sentence_embeddings(df)\n",
    "# Jaccard distance between sentence embeddings\n",
    "df = jaccard_distance_sentence_embeddings(df)\n",
    "# braycurtis distance between sentence embeddings\n",
    "df = braycurtis_distance_sentence_embeddings(df)"
   ]
  },
  {
   "cell_type": "code",
   "execution_count": 797,
   "metadata": {
    "collapsed": false
   },
   "outputs": [],
   "source": [
    "# word in question1 with highest tfidf weight\n",
    "df = q1_highest_tfidf_weight(df)\n",
    "# word in question2 with highest tfidf weight\n",
    "df = q2_highest_tfidf_weight(df)"
   ]
  },
  {
   "cell_type": "code",
   "execution_count": 810,
   "metadata": {
    "collapsed": false
   },
   "outputs": [],
   "source": [
    "# embedding of word in question1 with highest tfidf weight\n",
    "df = q1_max_tf_idf_embedding(df)\n",
    "# embedding of word in question2 with highest tfidf weight\n",
    "df = q2_max_tf_idf_embedding(df)"
   ]
  },
  {
   "cell_type": "code",
   "execution_count": 811,
   "metadata": {
    "collapsed": false
   },
   "outputs": [],
   "source": [
    "# euclidean distance between embedding of words of highest tfidf weight\n",
    "df = euclidean_distance_max_tfidf_word(df)\n",
    "# cosine distance between embeddings of words of highest tfidf wieght\n",
    "df = cosine_distance_max_tfidf_word(df)"
   ]
  },
  {
   "cell_type": "markdown",
   "metadata": {},
   "source": [
    "---\n",
    "\n",
    "#####  A look at the features:"
   ]
  },
  {
   "cell_type": "code",
   "execution_count": 819,
   "metadata": {
    "collapsed": false,
    "scrolled": false
   },
   "outputs": [
    {
     "data": {
      "text/plain": [
       "array([[<matplotlib.axes._subplots.AxesSubplot object at 0x2e9924490>,\n",
       "        <matplotlib.axes._subplots.AxesSubplot object at 0x2f88da310>,\n",
       "        <matplotlib.axes._subplots.AxesSubplot object at 0x2f8b5dd90>,\n",
       "        <matplotlib.axes._subplots.AxesSubplot object at 0x2f903f510>,\n",
       "        <matplotlib.axes._subplots.AxesSubplot object at 0x2f90baa90>,\n",
       "        <matplotlib.axes._subplots.AxesSubplot object at 0x2f911b7d0>],\n",
       "       [<matplotlib.axes._subplots.AxesSubplot object at 0x2f9197ad0>,\n",
       "        <matplotlib.axes._subplots.AxesSubplot object at 0x2f91b0cd0>,\n",
       "        <matplotlib.axes._subplots.AxesSubplot object at 0x2f927f650>,\n",
       "        <matplotlib.axes._subplots.AxesSubplot object at 0x2f93027d0>,\n",
       "        <matplotlib.axes._subplots.AxesSubplot object at 0x2f9365a50>,\n",
       "        <matplotlib.axes._subplots.AxesSubplot object at 0x2f93ea890>],\n",
       "       [<matplotlib.axes._subplots.AxesSubplot object at 0x2f944f410>,\n",
       "        <matplotlib.axes._subplots.AxesSubplot object at 0x2f94d2550>,\n",
       "        <matplotlib.axes._subplots.AxesSubplot object at 0x2f9555290>,\n",
       "        <matplotlib.axes._subplots.AxesSubplot object at 0x2f95b4fd0>,\n",
       "        <matplotlib.axes._subplots.AxesSubplot object at 0x2f9648090>,\n",
       "        <matplotlib.axes._subplots.AxesSubplot object at 0x2f969ddd0>],\n",
       "       [<matplotlib.axes._subplots.AxesSubplot object at 0x2f9722f10>,\n",
       "        <matplotlib.axes._subplots.AxesSubplot object at 0x2f96cfd90>,\n",
       "        <matplotlib.axes._subplots.AxesSubplot object at 0x2fa03ca10>,\n",
       "        <matplotlib.axes._subplots.AxesSubplot object at 0x2fa0c0750>,\n",
       "        <matplotlib.axes._subplots.AxesSubplot object at 0x2fa122e90>,\n",
       "        <matplotlib.axes._subplots.AxesSubplot object at 0x2fa1a6cd0>],\n",
       "       [<matplotlib.axes._subplots.AxesSubplot object at 0x2fa1ffa10>,\n",
       "        <matplotlib.axes._subplots.AxesSubplot object at 0x2fa28d9d0>,\n",
       "        <matplotlib.axes._subplots.AxesSubplot object at 0x2fa312710>,\n",
       "        <matplotlib.axes._subplots.AxesSubplot object at 0x2fa380650>,\n",
       "        <matplotlib.axes._subplots.AxesSubplot object at 0x2fa404390>,\n",
       "        <matplotlib.axes._subplots.AxesSubplot object at 0x2fa468310>],\n",
       "       [<matplotlib.axes._subplots.AxesSubplot object at 0x2fa4ea150>,\n",
       "        <matplotlib.axes._subplots.AxesSubplot object at 0x2fa489d50>,\n",
       "        <matplotlib.axes._subplots.AxesSubplot object at 0x2fa5d1f10>,\n",
       "        <matplotlib.axes._subplots.AxesSubplot object at 0x2fa653c50>,\n",
       "        <matplotlib.axes._subplots.AxesSubplot object at 0x2fa6c33d0>,\n",
       "        <matplotlib.axes._subplots.AxesSubplot object at 0x2fa747210>]], dtype=object)"
      ]
     },
     "execution_count": 819,
     "metadata": {},
     "output_type": "execute_result"
    },
    {
     "data": {
      "text/plain": [
       "<matplotlib.figure.Figure at 0x1ff8c4390>"
      ]
     },
     "metadata": {},
     "output_type": "display_data"
    },
    {
     "data": {
      "image/png": "[encoded data removed]",
      "text/plain": [
       "<matplotlib.figure.Figure at 0x2f7428a50>"
      ]
     },
     "metadata": {},
     "output_type": "display_data"
    }
   ],
   "source": [
    "plt.figure()\n",
    "df[[ u'len_intersection', u'len_intersection_sw',\n",
    "       u'num_words_q1', u'num_words_q1_sw', u'num_words_q2',\n",
    "       u'num_words_q2_sw', u'num_words_diff', u'num_words_diff_sw',\n",
    "       u'num_chars_q1', u'num_chars_q1_sw', u'num_chars_q2',\n",
    "       u'num_chars_q2_sw', u'num_chars_diff', u'num_chars_diff_sw',\n",
    "       u'partial_ratio', u'partial_ratio_sw', u'partial_token_set_ratio',\n",
    "       u'partial_token_set_ratio_sw', u'token_set_ratio',\n",
    "       u'token_set_ratio_sw', u'partial_token_sort_ratio',\n",
    "       u'partial_token_sort_ratio_sw', u'wratio', u'wratio_sw',\n",
    "       u'word_intersection_tfidf_weight',\n",
    "       u'word_symmetric_difference_tfidf_weight', \n",
    "       u'euclidean_distance_sentence_embeddings',\n",
    "       u'cosine_distance_sentence_embeddings',\n",
    "       u'cityblock_distance_sentence_embeddings',\n",
    "       u'jaccard_distance_sentence_embeddings',\n",
    "       u'braycurtis_distance_sentence_embeddings', \n",
    "       u'euclidean_distance_max_tfidf_word',\n",
    "       u'cosine_distance_max_tfidf_word']].hist(figsize=(20, 40))"
   ]
  },
  {
   "cell_type": "markdown",
   "metadata": {},
   "source": [
    "---\n",
    "\n",
    "### Save data\n",
    "\n",
    "I'll save this as a csv, and pickle the object. "
   ]
  },
  {
   "cell_type": "code",
   "execution_count": 814,
   "metadata": {
    "collapsed": true
   },
   "outputs": [],
   "source": [
    "#save to csv\n",
    "df.to_csv(\"features.csv\", index = False)"
   ]
  },
  {
   "cell_type": "code",
   "execution_count": 778,
   "metadata": {
    "collapsed": true
   },
   "outputs": [],
   "source": [
    "sample = q1_highest_tfidf_weight(sample)"
   ]
  }
 ],
 "metadata": {
  "kernelspec": {
   "display_name": "Python 2",
   "language": "python",
   "name": "python2"
  },
  "language_info": {
   "codemirror_mode": {
    "name": "ipython",
    "version": 2
   },
   "file_extension": ".py",
   "mimetype": "text/x-python",
   "name": "python",
   "nbconvert_exporter": "python",
   "pygments_lexer": "ipython2",
   "version": "2.7.9"
  }
 },
 "nbformat": 4,
 "nbformat_minor": 0
}
