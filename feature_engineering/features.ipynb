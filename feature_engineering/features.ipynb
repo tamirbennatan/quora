{
 "cells": [
  {
   "cell_type": "markdown",
   "metadata": {},
   "source": [
    "## Feature Engineering\n",
    "\n",
    "The functions to follow will take in the data as a pandas dataframe, and return a pandas dataframe with additional columns for the features added. \n",
    "\n",
    "In general, each function takes in an argument _stopwords_, which if initialized as a list of strings will be removed from the text. \n",
    "\n",
    "\n",
    "### An outline of the features included:\n",
    "\n",
    "#### 1. Basics\n",
    "\n",
    "#### 2. String Distance Features and Fuzzy Features\n",
    "\n",
    "#### 3. Tf-Idf Features\n",
    "\n",
    "#### 4. Word Embedding Features\n",
    "\n",
    "#### 5. Linguistic Features\n"
   ]
  },
  {
   "cell_type": "markdown",
   "metadata": {},
   "source": [
    "### 0.1 import packages and data"
   ]
  },
  {
   "cell_type": "code",
   "execution_count": 1,
   "metadata": {
    "collapsed": true
   },
   "outputs": [],
   "source": [
    "import numpy as np\n",
    "import pandas as pd"
   ]
  },
  {
   "cell_type": "code",
   "execution_count": 2,
   "metadata": {
    "collapsed": true
   },
   "outputs": [],
   "source": [
    "df = pd.read_csv(\"../data/processed/train.csv\")"
   ]
  },
  {
   "cell_type": "code",
   "execution_count": 66,
   "metadata": {
    "collapsed": false
   },
   "outputs": [
    {
     "data": {
      "text/html": [
       "<div>\n",
       "<table border=\"1\" class=\"dataframe\">\n",
       "  <thead>\n",
       "    <tr style=\"text-align: right;\">\n",
       "      <th></th>\n",
       "      <th>Unnamed: 0</th>\n",
       "      <th>id</th>\n",
       "      <th>qid1</th>\n",
       "      <th>qid2</th>\n",
       "      <th>question1</th>\n",
       "      <th>question2</th>\n",
       "      <th>is_duplicate</th>\n",
       "    </tr>\n",
       "  </thead>\n",
       "  <tbody>\n",
       "    <tr>\n",
       "      <th>0</th>\n",
       "      <td>1</td>\n",
       "      <td>0</td>\n",
       "      <td>1</td>\n",
       "      <td>2</td>\n",
       "      <td>What is the step by step guide to invest in sh...</td>\n",
       "      <td>What is the step by step guide to invest in sh...</td>\n",
       "      <td>0</td>\n",
       "    </tr>\n",
       "    <tr>\n",
       "      <th>1</th>\n",
       "      <td>2</td>\n",
       "      <td>1</td>\n",
       "      <td>3</td>\n",
       "      <td>4</td>\n",
       "      <td>What is the story of Kohinoor Koh - i - Noor D...</td>\n",
       "      <td>What would happen if the Indian government sto...</td>\n",
       "      <td>0</td>\n",
       "    </tr>\n",
       "    <tr>\n",
       "      <th>2</th>\n",
       "      <td>3</td>\n",
       "      <td>2</td>\n",
       "      <td>5</td>\n",
       "      <td>6</td>\n",
       "      <td>How can I increase the speed of my internet co...</td>\n",
       "      <td>How can Internet speed be increased by hacking...</td>\n",
       "      <td>0</td>\n",
       "    </tr>\n",
       "    <tr>\n",
       "      <th>3</th>\n",
       "      <td>4</td>\n",
       "      <td>3</td>\n",
       "      <td>7</td>\n",
       "      <td>8</td>\n",
       "      <td>Why am I mentally very lonely ? How can I solv...</td>\n",
       "      <td>Find the remainder when math 23 24 math is div...</td>\n",
       "      <td>0</td>\n",
       "    </tr>\n",
       "    <tr>\n",
       "      <th>4</th>\n",
       "      <td>5</td>\n",
       "      <td>4</td>\n",
       "      <td>9</td>\n",
       "      <td>10</td>\n",
       "      <td>Which one dissolve in water quickly sugar , sa...</td>\n",
       "      <td>Which fish would survive in salt water ?</td>\n",
       "      <td>0</td>\n",
       "    </tr>\n",
       "  </tbody>\n",
       "</table>\n",
       "</div>"
      ],
      "text/plain": [
       "   Unnamed: 0  id  qid1  qid2  \\\n",
       "0           1   0     1     2   \n",
       "1           2   1     3     4   \n",
       "2           3   2     5     6   \n",
       "3           4   3     7     8   \n",
       "4           5   4     9    10   \n",
       "\n",
       "                                           question1  \\\n",
       "0  What is the step by step guide to invest in sh...   \n",
       "1  What is the story of Kohinoor Koh - i - Noor D...   \n",
       "2  How can I increase the speed of my internet co...   \n",
       "3  Why am I mentally very lonely ? How can I solv...   \n",
       "4  Which one dissolve in water quickly sugar , sa...   \n",
       "\n",
       "                                           question2  is_duplicate  \n",
       "0  What is the step by step guide to invest in sh...             0  \n",
       "1  What would happen if the Indian government sto...             0  \n",
       "2  How can Internet speed be increased by hacking...             0  \n",
       "3  Find the remainder when math 23 24 math is div...             0  \n",
       "4          Which fish would survive in salt water ?              0  "
      ]
     },
     "execution_count": 66,
     "metadata": {},
     "output_type": "execute_result"
    }
   ],
   "source": [
    "df.head()"
   ]
  },
  {
   "cell_type": "code",
   "execution_count": 6,
   "metadata": {
    "collapsed": false
   },
   "outputs": [
    {
     "data": {
      "text/html": [
       "<div>\n",
       "<table border=\"1\" class=\"dataframe\">\n",
       "  <thead>\n",
       "    <tr style=\"text-align: right;\">\n",
       "      <th></th>\n",
       "      <th>Unnamed: 0</th>\n",
       "      <th>id</th>\n",
       "      <th>qid1</th>\n",
       "      <th>qid2</th>\n",
       "      <th>is_duplicate</th>\n",
       "    </tr>\n",
       "  </thead>\n",
       "  <tbody>\n",
       "    <tr>\n",
       "      <th>count</th>\n",
       "      <td>404290.000000</td>\n",
       "      <td>404290.000000</td>\n",
       "      <td>404290.000000</td>\n",
       "      <td>404290.000000</td>\n",
       "      <td>404290.000000</td>\n",
       "    </tr>\n",
       "    <tr>\n",
       "      <th>mean</th>\n",
       "      <td>202145.500000</td>\n",
       "      <td>202144.500000</td>\n",
       "      <td>217243.942418</td>\n",
       "      <td>220955.655337</td>\n",
       "      <td>0.369198</td>\n",
       "    </tr>\n",
       "    <tr>\n",
       "      <th>std</th>\n",
       "      <td>116708.614503</td>\n",
       "      <td>116708.614503</td>\n",
       "      <td>157751.700002</td>\n",
       "      <td>159903.182629</td>\n",
       "      <td>0.482588</td>\n",
       "    </tr>\n",
       "    <tr>\n",
       "      <th>min</th>\n",
       "      <td>1.000000</td>\n",
       "      <td>0.000000</td>\n",
       "      <td>1.000000</td>\n",
       "      <td>2.000000</td>\n",
       "      <td>0.000000</td>\n",
       "    </tr>\n",
       "    <tr>\n",
       "      <th>25%</th>\n",
       "      <td>101073.250000</td>\n",
       "      <td>101072.250000</td>\n",
       "      <td>74437.500000</td>\n",
       "      <td>74727.000000</td>\n",
       "      <td>0.000000</td>\n",
       "    </tr>\n",
       "    <tr>\n",
       "      <th>50%</th>\n",
       "      <td>202145.500000</td>\n",
       "      <td>202144.500000</td>\n",
       "      <td>192182.000000</td>\n",
       "      <td>197052.000000</td>\n",
       "      <td>0.000000</td>\n",
       "    </tr>\n",
       "    <tr>\n",
       "      <th>75%</th>\n",
       "      <td>303217.750000</td>\n",
       "      <td>303216.750000</td>\n",
       "      <td>346573.500000</td>\n",
       "      <td>354692.500000</td>\n",
       "      <td>1.000000</td>\n",
       "    </tr>\n",
       "    <tr>\n",
       "      <th>max</th>\n",
       "      <td>404290.000000</td>\n",
       "      <td>404289.000000</td>\n",
       "      <td>537932.000000</td>\n",
       "      <td>537933.000000</td>\n",
       "      <td>1.000000</td>\n",
       "    </tr>\n",
       "  </tbody>\n",
       "</table>\n",
       "</div>"
      ],
      "text/plain": [
       "          Unnamed: 0             id           qid1           qid2  \\\n",
       "count  404290.000000  404290.000000  404290.000000  404290.000000   \n",
       "mean   202145.500000  202144.500000  217243.942418  220955.655337   \n",
       "std    116708.614503  116708.614503  157751.700002  159903.182629   \n",
       "min         1.000000       0.000000       1.000000       2.000000   \n",
       "25%    101073.250000  101072.250000   74437.500000   74727.000000   \n",
       "50%    202145.500000  202144.500000  192182.000000  197052.000000   \n",
       "75%    303217.750000  303216.750000  346573.500000  354692.500000   \n",
       "max    404290.000000  404289.000000  537932.000000  537933.000000   \n",
       "\n",
       "        is_duplicate  \n",
       "count  404290.000000  \n",
       "mean        0.369198  \n",
       "std         0.482588  \n",
       "min         0.000000  \n",
       "25%         0.000000  \n",
       "50%         0.000000  \n",
       "75%         1.000000  \n",
       "max         1.000000  "
      ]
     },
     "execution_count": 6,
     "metadata": {},
     "output_type": "execute_result"
    }
   ],
   "source": [
    "df.describe()"
   ]
  },
  {
   "cell_type": "code",
   "execution_count": 136,
   "metadata": {
    "collapsed": false
   },
   "outputs": [],
   "source": [
    "# small sample for testing\n",
    "sample = df.sample(100)"
   ]
  },
  {
   "cell_type": "markdown",
   "metadata": {},
   "source": [
    "### 0.2 Objects I will use repeatedly in this notebook"
   ]
  },
  {
   "cell_type": "code",
   "execution_count": 36,
   "metadata": {
    "collapsed": true
   },
   "outputs": [],
   "source": [
    "punctuation = [\"?\", \"!\", \",\", \".\", '\"', \"-\", ' ']"
   ]
  },
  {
   "cell_type": "markdown",
   "metadata": {},
   "source": [
    "### 1 Basic features"
   ]
  },
  {
   "cell_type": "markdown",
   "metadata": {},
   "source": [
    "#### 1.1 Number of intersecting words"
   ]
  },
  {
   "cell_type": "code",
   "execution_count": 111,
   "metadata": {
    "collapsed": false
   },
   "outputs": [],
   "source": [
    "def len_intersection(df, stopwords = None):\n",
    "    if stopwords:\n",
    "        df['len_intersection'] = df.apply(lambda x: len(set([w for w in x[\"question1\"].strip().split(\" \") if\n",
    "                                    w not in punctuation and w not in stopwords]).intersection(\n",
    "                    set([w for w in x[\"question2\"].strip().lower().split(\" \") if\n",
    "                         w not in punctuation and w not in stopwords]))),\n",
    "                 axis = 1)\n",
    "        return(df)\n",
    "\n",
    "    else:\n",
    "        df['len_intersection'] = df.apply(lambda x: len(set([w for w in x[\"question1\"].strip().split(\" \") if\n",
    "                                    w not in punctuation]).intersection(\n",
    "                    set([w for w in x[\"question2\"].strip().lower().split(\" \") if\n",
    "                         w not in punctuation]))),\n",
    "                 axis = 1)\n",
    "        return(df)"
   ]
  },
  {
   "cell_type": "markdown",
   "metadata": {},
   "source": [
    "#### 1.2 Number of words in each sentence"
   ]
  },
  {
   "cell_type": "code",
   "execution_count": 112,
   "metadata": {
    "collapsed": true
   },
   "outputs": [],
   "source": [
    "def num_words_q1(df, stopwords = None):\n",
    "    if stopwords:\n",
    "        df['num_words_q1'] = df['question1'].apply(lambda x: len([w for w in x.strip().lower().split(\" \")\n",
    "                                                          if w not in punctuation and w not in stopwords]))\n",
    "        return(df)\n",
    "    \n",
    "    else:\n",
    "        df['num_words_q1'] = df['question1'].apply(lambda x: len([w for w in x.strip().lower().split(\" \") if\n",
    "                                                          w not in punctuation]))\n",
    "        return(df)"
   ]
  },
  {
   "cell_type": "code",
   "execution_count": 113,
   "metadata": {
    "collapsed": true
   },
   "outputs": [],
   "source": [
    "def num_words_q2(df, stopwords = None):\n",
    "    if stopwords:\n",
    "        df['num_words_q2'] = df['question2'].apply(lambda x: len([w for w in x.strip().lower().split(\" \")\n",
    "                                                          if w not in punctuation and w not in stopwords]))\n",
    "        return(df)\n",
    "    \n",
    "    else:\n",
    "        df['num_words_q2'] = df['question2'].apply(lambda x: len([w for w in x.strip().lower().split(\" \")\n",
    "                                                          if w not in punctuation]))\n",
    "        return(df)"
   ]
  },
  {
   "cell_type": "markdown",
   "metadata": {},
   "source": [
    "#### 1.3 Difference in number of words \n",
    "\n",
    "Assumes functions *num_words_q1* and *num_words_q2* were already applied"
   ]
  },
  {
   "cell_type": "code",
   "execution_count": 129,
   "metadata": {
    "collapsed": false
   },
   "outputs": [],
   "source": [
    "def num_words_diff(df):\n",
    "    df['num_words_diff'] = abs(df['num_words_q1'] - df['num_words_q2'])\n",
    "    return(df)"
   ]
  },
  {
   "cell_type": "markdown",
   "metadata": {},
   "source": [
    "#### 1.4 Character length of each question"
   ]
  },
  {
   "cell_type": "code",
   "execution_count": 122,
   "metadata": {
    "collapsed": false
   },
   "outputs": [],
   "source": [
    "def num_chars_q1(df, stopwords = None):\n",
    "    if stopwords:\n",
    "        df['num_chars_q1'] = df['question1'].apply(lambda x: sum([len([c for c in w if c not in punctuation]) for \n",
    "                                                                 w in x.strip().split() if\n",
    "                                                                 w not in stopwords]))\n",
    "        return(df)\n",
    "    else:\n",
    "        df['num_chars_q1'] = df['question1'].apply(lambda x: len(list([c for c in x.strip() if\n",
    "                                                                       c not in punctuation])))\n",
    "        return(df)"
   ]
  },
  {
   "cell_type": "code",
   "execution_count": 127,
   "metadata": {
    "collapsed": true
   },
   "outputs": [],
   "source": [
    "def num_chars_q2(df, stopwords = None):\n",
    "    if stopwords:\n",
    "        df['num_chars_q2'] = df['question2'].apply(lambda x: sum([len([c for c in w if c not in punctuation]) for \n",
    "                                                                 w in x.strip().split() if\n",
    "                                                                 w not in stopwords]))\n",
    "        return(df)\n",
    "    else:\n",
    "        df['num_chars_q2'] = df['question2'].apply(lambda x: len(list([c for c in x.strip() if\n",
    "                                                                       c not in punctuation])))\n",
    "        return(df)"
   ]
  },
  {
   "cell_type": "markdown",
   "metadata": {},
   "source": [
    "#### 1.5 Difference in number of characters between q1 and q2\n",
    "\n",
    "assumes two functions above were already called"
   ]
  },
  {
   "cell_type": "code",
   "execution_count": 137,
   "metadata": {
    "collapsed": true
   },
   "outputs": [],
   "source": [
    "def num_chars_diff (df):\n",
    "    df['num_chars_diff'] = abs(df['num_chars_q1'] - df['num_chars_q2'])\n",
    "    return(df)"
   ]
  },
  {
   "cell_type": "markdown",
   "metadata": {
    "collapsed": true
   },
   "source": [
    "---\n",
    "\n",
    "### 2. String distance features\n",
    "\n",
    "Features inspired and some code used from Abhishek Thakur's excellent [blogpost](https://www.linkedin.com/pulse/duplicate-quora-question-abhishek-thakur/) and Marco Bonzanini's [FuzzyWuzzy turorial](https://marcobonzanini.com/2015/02/25/fuzzy-string-matching-in-python/)"
   ]
  }
 ],
 "metadata": {
  "kernelspec": {
   "display_name": "Python 2",
   "language": "python",
   "name": "python2"
  },
  "language_info": {
   "codemirror_mode": {
    "name": "ipython",
    "version": 2
   },
   "file_extension": ".py",
   "mimetype": "text/x-python",
   "name": "python",
   "nbconvert_exporter": "python",
   "pygments_lexer": "ipython2",
   "version": "2.7.9"
  }
 },
 "nbformat": 4,
 "nbformat_minor": 0
}
